{
 "cells": [
  {
   "cell_type": "code",
   "execution_count": null,
   "id": "53457a2f-1c51-4fc9-8150-755d9109179c",
   "metadata": {},
   "outputs": [],
   "source": [
    "# Higher order functions\n",
    "# Passing and returning functions"
   ]
  },
  {
   "cell_type": "code",
   "execution_count": 1,
   "id": "32f563fd-01ba-4046-903e-a0ae160195c1",
   "metadata": {},
   "outputs": [
    {
     "data": {
      "text/plain": [
       "(5, 'Hello, bob')"
      ]
     },
     "execution_count": 1,
     "metadata": {},
     "output_type": "execute_result"
    }
   ],
   "source": [
    "def add(a,b):\n",
    "    return a + b\n",
    "\n",
    "def greet(name):\n",
    "    return f'Hello, {name}'\n",
    "add(2,3) , greet('bob')"
   ]
  },
  {
   "cell_type": "code",
   "execution_count": 2,
   "id": "34cfbecc-73ab-4590-b846-32bca3093917",
   "metadata": {},
   "outputs": [
    {
     "data": {
      "text/plain": [
       "5"
      ]
     },
     "execution_count": 2,
     "metadata": {},
     "output_type": "execute_result"
    }
   ],
   "source": [
    "def apply(func, *args): \n",
    "    return func(*args)\n",
    "apply(add, 2,3) "
   ]
  },
  {
   "cell_type": "code",
   "execution_count": 3,
   "id": "b7f92524-4ef1-4dc3-b94b-b2a5c8361d7a",
   "metadata": {},
   "outputs": [
    {
     "data": {
      "text/plain": [
       "'Hello, bob'"
      ]
     },
     "execution_count": 3,
     "metadata": {},
     "output_type": "execute_result"
    }
   ],
   "source": [
    "apply(greet, 'bob')"
   ]
  },
  {
   "cell_type": "code",
   "execution_count": 5,
   "id": "664e9c10-441e-416e-b200-71689e662b9c",
   "metadata": {},
   "outputs": [
    {
     "data": {
      "text/plain": [
       "3"
      ]
     },
     "execution_count": 5,
     "metadata": {},
     "output_type": "execute_result"
    }
   ],
   "source": [
    "apply(lambda a,b: a + b, *[1,2])"
   ]
  },
  {
   "cell_type": "code",
   "execution_count": 6,
   "id": "b92c53f9-5abc-4134-b706-bd4e73ca46a4",
   "metadata": {},
   "outputs": [
    {
     "data": {
      "text/plain": [
       "3"
      ]
     },
     "execution_count": 6,
     "metadata": {},
     "output_type": "execute_result"
    }
   ],
   "source": [
    "apply(lambda a,b: a + b, 1,2)"
   ]
  },
  {
   "cell_type": "code",
   "execution_count": 3,
   "id": "d645a32b-2ce7-46ed-9398-c62436758783",
   "metadata": {},
   "outputs": [
    {
     "data": {
      "text/plain": [
       "<function __main__.add(a, b)>"
      ]
     },
     "execution_count": 3,
     "metadata": {},
     "output_type": "execute_result"
    }
   ],
   "source": [
    "# global named space function returned\n",
    "\n",
    "def add(a,b):\n",
    "    return a + b\n",
    "    \n",
    "def mult(a,b):\n",
    "    return a * b\n",
    "    \n",
    "def power(a,n): \n",
    "    return a ** n\n",
    "\n",
    "def operator_picker(name):\n",
    "    if name == 'add':\n",
    "        return add\n",
    "        \n",
    "    if name == 'mult': \n",
    "        return mult\n",
    "        \n",
    "    if name == 'power':\n",
    "        return power\n",
    "\n",
    "op = operator_picker('add')\n",
    "op(2,3)\n",
    "op\n",
    "\n"
   ]
  },
  {
   "cell_type": "code",
   "execution_count": 6,
   "id": "65e2c550-0953-4a14-8821-39c08decb49b",
   "metadata": {},
   "outputs": [
    {
     "data": {
      "text/plain": [
       "(5, <function __main__.operator_picker.<locals>.add(a, b)>)"
      ]
     },
     "execution_count": 6,
     "metadata": {},
     "output_type": "execute_result"
    }
   ],
   "source": [
    "# local name space function returned\n",
    "def operator_picker(name):\n",
    "\n",
    "    def add(a,b):\n",
    "        return a + b\n",
    "        \n",
    "    def mult(a,b):\n",
    "        return a * b\n",
    "        \n",
    "    def power(a,n): \n",
    "        return a ** n\n",
    "        \n",
    "    if name == 'add':\n",
    "        return add\n",
    "        \n",
    "    if name == 'mult': \n",
    "        return mult\n",
    "        \n",
    "    if name == 'power':\n",
    "        return power\n",
    "\n",
    "op = operator_picker('add')\n",
    "op(2,3), op\n"
   ]
  },
  {
   "cell_type": "code",
   "execution_count": 8,
   "id": "9e936c35-a86c-464a-a7d1-f36aec1b02c0",
   "metadata": {},
   "outputs": [
    {
     "data": {
      "text/plain": [
       "(<function __main__.operator_picker.<locals>.<lambda>(a, b)>, 8)"
      ]
     },
     "execution_count": 8,
     "metadata": {},
     "output_type": "execute_result"
    }
   ],
   "source": [
    "\n",
    "def operator_picker(name):\n",
    "    if name == 'add':\n",
    "        return lambda a, b: a + b\n",
    "        \n",
    "    if name == 'multi':\n",
    "        return lambda a, b: a * b\n",
    "        \n",
    "    if name == 'power':\n",
    "        return lambda a, b: a ** b\n",
    "\n",
    "op = operator_picker('power')     \n",
    "op, op(2,3)"
   ]
  },
  {
   "cell_type": "code",
   "execution_count": 11,
   "id": "39574e48-79bf-4be1-b36a-167e32af6c07",
   "metadata": {},
   "outputs": [
    {
     "name": "stdout",
     "output_type": "stream",
     "text": [
      "1.3970020518172532e-06\n",
      "0.17091024900219054\n"
     ]
    }
   ],
   "source": [
    "from time import perf_counter\n",
    "\n",
    "def time_it(func, *args):\n",
    "    start = perf_counter()\n",
    "    func(*args)\n",
    "    end = perf_counter()\n",
    "    print(end - start)\n",
    "\n",
    "n = 10_000_000\n",
    "s = set(range(n))\n",
    "\n",
    "def in_set(s, i):\n",
    "    return i in s\n",
    "\n",
    "l = list(range(n))\n",
    "def in_list(l, i):\n",
    "    return i in l\n",
    "\n",
    "time_it(in_set, s,n)\n",
    "time_it(in_list, l,n)"
   ]
  },
  {
   "cell_type": "code",
   "execution_count": null,
   "id": "2a8892ce-a4a2-4b2a-9f57-faf6a0b1d3b1",
   "metadata": {},
   "outputs": [],
   "source": [
    "# Map"
   ]
  },
  {
   "cell_type": "code",
   "execution_count": 12,
   "id": "4d74d21c-eef3-4cc4-9707-6a18823f6f59",
   "metadata": {},
   "outputs": [
    {
     "data": {
      "text/plain": [
       "[1, 5, 4, 11, 4]"
      ]
     },
     "execution_count": 12,
     "metadata": {},
     "output_type": "execute_result"
    }
   ],
   "source": [
    "# getting lengths of list of text\n",
    "data = ['a', 'bthth', 'ceue', 'aeueueueubc', 'aade']\n",
    "\n",
    "# creates a list - takes up memory\n",
    "ls = [len(e) for e in data]\n",
    "ls"
   ]
  },
  {
   "cell_type": "code",
   "execution_count": 14,
   "id": "ba62822d-686f-4ced-b7a8-0a5c96491b75",
   "metadata": {},
   "outputs": [
    {
     "data": {
      "text/plain": [
       "<generator object <genexpr> at 0x720aeb044790>"
      ]
     },
     "execution_count": 14,
     "metadata": {},
     "output_type": "execute_result"
    }
   ],
   "source": [
    "# creates generator\n",
    "ls2 = (len(e) for e in data)\n",
    "ls2"
   ]
  },
  {
   "cell_type": "code",
   "execution_count": 18,
   "id": "5e969dd3-cc05-483c-95d9-71d58f76cbef",
   "metadata": {},
   "outputs": [
    {
     "data": {
      "text/plain": [
       "5"
      ]
     },
     "execution_count": 18,
     "metadata": {},
     "output_type": "execute_result"
    }
   ],
   "source": [
    "# returns iterator\n",
    "lm = map(len, data)\n",
    "lm\n",
    "next(lm)"
   ]
  },
  {
   "cell_type": "code",
   "execution_count": null,
   "id": "5bc9dbd6-b4d1-449e-801b-ff669dda2622",
   "metadata": {},
   "outputs": [],
   "source": [
    "# closures - function with catured variables"
   ]
  },
  {
   "cell_type": "code",
   "execution_count": 28,
   "id": "476a1851-40ac-4cf7-998b-6c95fc9e4cd2",
   "metadata": {},
   "outputs": [
    {
     "name": "stdout",
     "output_type": "stream",
     "text": [
      "0x720b55143bd0\n",
      "0x720b55143bf0\n",
      "0x720b55143c10\n"
     ]
    },
    {
     "data": {
      "text/plain": [
       "<function __main__.outer.<locals>.inner()>"
      ]
     },
     "execution_count": 28,
     "metadata": {},
     "output_type": "execute_result"
    }
   ],
   "source": [
    "def outer(a,b):\n",
    "    add = a + b\n",
    "    print(hex(id(a)))\n",
    "    print(hex(id(b)))\n",
    "    print(hex(id(add)))\n",
    "\n",
    "    def inner():\n",
    "        prod = a * b\n",
    "        print(a, b, add, prod)\n",
    "        return \"Closure\"\n",
    "        \n",
    "    return inner        \n",
    "\n",
    "func = outer(1,2)\n",
    "func"
   ]
  },
  {
   "cell_type": "code",
   "execution_count": 23,
   "id": "5234cc7d-75f3-40a9-967d-8f42ae75d6b2",
   "metadata": {},
   "outputs": [
    {
     "data": {
      "text/plain": [
       "(<cell at 0x720b483cb3d0: int object at 0x720b55143bd0>,\n",
       " <cell at 0x720b483c80a0: int object at 0x720b55143c10>,\n",
       " <cell at 0x720b483c8610: int object at 0x720b55143bf0>)"
      ]
     },
     "execution_count": 23,
     "metadata": {},
     "output_type": "execute_result"
    }
   ],
   "source": [
    "# cells that has varibale address \n",
    "func.__closure__"
   ]
  },
  {
   "cell_type": "code",
   "execution_count": 30,
   "id": "121fc274-3e61-42cb-8a21-f8b576304bff",
   "metadata": {},
   "outputs": [
    {
     "name": "stdout",
     "output_type": "stream",
     "text": [
      "1 2 3 2\n"
     ]
    },
    {
     "data": {
      "text/plain": [
       "'Closure'"
      ]
     },
     "execution_count": 30,
     "metadata": {},
     "output_type": "execute_result"
    }
   ],
   "source": [
    "func()"
   ]
  },
  {
   "cell_type": "code",
   "execution_count": 37,
   "id": "05290e51-4dc4-4fd7-b8b2-1ce9699d1663",
   "metadata": {},
   "outputs": [
    {
     "name": "stdout",
     "output_type": "stream",
     "text": [
      "None\n"
     ]
    }
   ],
   "source": [
    "# closure only happens when it stores data from outer scope\n",
    "# below is not a closure - nothing is captured\n",
    "\n",
    "def outer(a,b):\n",
    "    def inner(a,b):\n",
    "        return a + b\n",
    "    return inner        \n",
    "\n",
    "fn = outer(1,2)\n",
    "print(fn.__closure__)"
   ]
  },
  {
   "cell_type": "code",
   "execution_count": 42,
   "id": "9cf1d5e1-c775-4b49-be7c-b8c0b9fa87b6",
   "metadata": {},
   "outputs": [
    {
     "name": "stdout",
     "output_type": "stream",
     "text": [
      "0x720b55143bf0\n"
     ]
    },
    {
     "data": {
      "text/plain": [
       "9"
      ]
     },
     "execution_count": 42,
     "metadata": {},
     "output_type": "execute_result"
    }
   ],
   "source": [
    "\n",
    "def power(n):\n",
    "    def inner(x):\n",
    "        print(hex(id(n)))\n",
    "        # captures n\n",
    "        return x ** n\n",
    "    return inner \n",
    "\n",
    "square = power(2)\n",
    "\n",
    "square(3)\n",
    "        "
   ]
  },
  {
   "cell_type": "code",
   "execution_count": 40,
   "id": "2cc8a554-df1c-4b5d-8c0b-3ae705dc5d91",
   "metadata": {},
   "outputs": [
    {
     "data": {
      "text/plain": [
       "(<cell at 0x720b483d6e90: int object at 0x720b55143bf0>,)"
      ]
     },
     "execution_count": 40,
     "metadata": {},
     "output_type": "execute_result"
    }
   ],
   "source": [
    "square.__closure__"
   ]
  },
  {
   "cell_type": "code",
   "execution_count": 58,
   "id": "6d9f315c-be3e-4058-bc88-15641b922cf3",
   "metadata": {},
   "outputs": [
    {
     "name": "stdout",
     "output_type": "stream",
     "text": [
      "Elapsed 5.227499786997214e-05\n",
      "Elapsed 6.6020002122968435e-06\n"
     ]
    },
    {
     "data": {
      "text/plain": [
       "[[1, 0, 0], [0, 1, 0], [0, 0, 1]]"
      ]
     },
     "execution_count": 58,
     "metadata": {},
     "output_type": "execute_result"
    }
   ],
   "source": [
    "from time import perf_counter\n",
    "\n",
    "def timed(func):\n",
    "    def f(*args, **kwargs):\n",
    "        start = perf_counter()\n",
    "        result = func(*args, **kwargs)\n",
    "        end = perf_counter()\n",
    "        print(f'Elapsed {end - start}')\n",
    "        return result\n",
    "    return f \n",
    "    \n",
    "def diagonal_matrix(rows, cols, *, diagonal=1):   \n",
    "    return [\n",
    "        [\n",
    "            diagonal if row == col else 0\n",
    "            for col in range(cols)\n",
    "        ]\n",
    "        for row in range(rows)\n",
    "    ] \n",
    "    \n",
    "def factorial(n):\n",
    "    prod = 1\n",
    "    for i in range(2, n+1):\n",
    "        prod *= i\n",
    "    return prod\n",
    "\n",
    "factorial(20)\n",
    "diagonal_matrix(5,6, diagonal=2)\n",
    "\n",
    "timed_fact = timed(factorial)\n",
    "timed_diag = timed(diagonal_matrix)\n",
    "timed_fact(200)\n",
    "timed_diag(3,3)"
   ]
  },
  {
   "cell_type": "code",
   "execution_count": null,
   "id": "3534d84f-1f5b-49bc-8e80-8c0b561e0928",
   "metadata": {},
   "outputs": [],
   "source": [
    "# Filtering"
   ]
  },
  {
   "cell_type": "code",
   "execution_count": 59,
   "id": "5758b83c-104f-4bd5-9d9b-662af087611c",
   "metadata": {},
   "outputs": [
    {
     "data": {
      "text/plain": [
       "[1, 2, 3, 4, 5, 6, 7, 8, 9, 10]"
      ]
     },
     "execution_count": 59,
     "metadata": {},
     "output_type": "execute_result"
    }
   ],
   "source": [
    "data = list(range(1,11)) \n",
    "data"
   ]
  },
  {
   "cell_type": "code",
   "execution_count": 63,
   "id": "2f813512-75f1-498e-b62b-7ac00e6e9ea3",
   "metadata": {},
   "outputs": [
    {
     "data": {
      "text/plain": [
       "<generator object <genexpr> at 0x720b42b2c2b0>"
      ]
     },
     "execution_count": 63,
     "metadata": {},
     "output_type": "execute_result"
    }
   ],
   "source": [
    "# predicate function\n",
    "def is_even(n):\n",
    "    return n % 2 == 0\n",
    "\n",
    "# creates new list comprehension\n",
    "[n for n in data if is_even(n)]    \n",
    "\n",
    "# generator\n",
    "(n for n in data if is_even(n))    "
   ]
  },
  {
   "cell_type": "code",
   "execution_count": 66,
   "id": "aa5f0a08-8809-41ce-90c3-c853c2d2ab9d",
   "metadata": {},
   "outputs": [
    {
     "data": {
      "text/plain": [
       "[2, 4, 6, 8, 10]"
      ]
     },
     "execution_count": 66,
     "metadata": {},
     "output_type": "execute_result"
    }
   ],
   "source": [
    "# filter creates a lazy iterator\n",
    "res = filter(is_even, data)\n",
    "list(res)"
   ]
  },
  {
   "cell_type": "code",
   "execution_count": 69,
   "id": "bd10b319-5f8d-40b7-85d0-836d2d9aa914",
   "metadata": {},
   "outputs": [
    {
     "data": {
      "text/plain": [
       "[2, 4, 6, 8, 10]"
      ]
     },
     "execution_count": 69,
     "metadata": {},
     "output_type": "execute_result"
    }
   ],
   "source": [
    "res = filter(lambda a: a % 2 == 0, data)\n",
    "list(res)"
   ]
  },
  {
   "cell_type": "code",
   "execution_count": 72,
   "id": "5352df84-da60-4025-adb2-d50c1cd46439",
   "metadata": {},
   "outputs": [
    {
     "data": {
      "text/plain": [
       "[0, 3, -6, 6, -10]"
      ]
     },
     "execution_count": 72,
     "metadata": {},
     "output_type": "execute_result"
    }
   ],
   "source": [
    "# Sorting\n",
    "\n",
    "data = [-10,-6,0,3,6]\n",
    "\n",
    "# stable sort: maintains original position for equal elements\n",
    "# eg. if they are equal, it keeps their original position \n",
    "sorted(data, key=abs)"
   ]
  },
  {
   "cell_type": "code",
   "execution_count": 74,
   "id": "fc3d50f6-bc05-4d37-8f3c-a06b3aa76756",
   "metadata": {},
   "outputs": [],
   "source": [
    " data = [ {'date': '2020-04-09', 'symbol': 'AAPL', 'open': 268.70, 'high': 270.04, 'low': 264.70, 'close': 267.99}, \n",
    "    {'date': '2020-04-09', 'symbol': 'MSFT', 'open': 166.36, 'high': 167.37, 'low': 163.33, 'close': 165.14} ,\n",
    "    {'date': '2020-04-09', 'symbol': 'AMZN', 'open': 2_044.30, 'high': 2_053.00, 'low': 2_017.66, 'close': 2_042.76},\n",
    "    {'date': '2020-04-09', 'symbol': 'FB', 'open': 175.90, 'high': 177.08, 'low': 171.57, 'close': 175.19}\n",
    "  ] \n"
   ]
  },
  {
   "cell_type": "code",
   "execution_count": 81,
   "id": "99521819-4f45-4677-a603-18562b804309",
   "metadata": {},
   "outputs": [
    {
     "data": {
      "text/plain": [
       "[{'date': '2020-04-09',\n",
       "  'symbol': 'MSFT',\n",
       "  'open': 166.36,\n",
       "  'high': 167.37,\n",
       "  'low': 163.33,\n",
       "  'close': 165.14},\n",
       " {'date': '2020-04-09',\n",
       "  'symbol': 'FB',\n",
       "  'open': 175.9,\n",
       "  'high': 177.08,\n",
       "  'low': 171.57,\n",
       "  'close': 175.19},\n",
       " {'date': '2020-04-09',\n",
       "  'symbol': 'AAPL',\n",
       "  'open': 268.7,\n",
       "  'high': 270.04,\n",
       "  'low': 264.7,\n",
       "  'close': 267.99},\n",
       " {'date': '2020-04-09',\n",
       "  'symbol': 'AMZN',\n",
       "  'open': 2044.3,\n",
       "  'high': 2053.0,\n",
       "  'low': 2017.66,\n",
       "  'close': 2042.76}]"
      ]
     },
     "execution_count": 81,
     "metadata": {},
     "output_type": "execute_result"
    }
   ],
   "source": [
    "sorted(data, key=lambda d: d['symbol'])\n",
    "sorted(data, key=lambda d: d['low'], reverse=True)\n",
    "sorted(data, key=lambda d: (d['close'] - d['open']) / d['open'])"
   ]
  },
  {
   "cell_type": "code",
   "execution_count": 83,
   "id": "b6767f78-015d-40cd-8447-1bc462c5f04f",
   "metadata": {},
   "outputs": [
    {
     "data": {
      "text/plain": [
       "['a', 'A', 'b', 'k', 's', 'Y', 'Z']"
      ]
     },
     "execution_count": 83,
     "metadata": {},
     "output_type": "execute_result"
    }
   ],
   "source": [
    "d = ['a', 'A', 'b', 'k', 'Z', 's', 'Y']\n",
    "sorted(d, key=lambda e: e.casefold())"
   ]
  },
  {
   "cell_type": "code",
   "execution_count": 87,
   "id": "59df887f-f550-498f-b463-487641ca1ca6",
   "metadata": {},
   "outputs": [
    {
     "data": {
      "text/plain": [
       "-200"
      ]
     },
     "execution_count": 87,
     "metadata": {},
     "output_type": "execute_result"
    }
   ],
   "source": [
    "# min and max\n",
    "# sorts than picks the last or first\n",
    "\n",
    "d = [-6,-200, -1, 9, 100, 3, 0]\n",
    "max(d,key=abs )"
   ]
  },
  {
   "cell_type": "code",
   "execution_count": 74,
   "id": "3469c465-204e-44c9-a4d0-28068994766c",
   "metadata": {},
   "outputs": [],
   "source": [
    " data = [ {'date': '2020-04-09', 'symbol': 'AAPL', 'open': 268.70, 'high': 270.04, 'low': 264.70, 'close': 267.99}, \n",
    "    {'date': '2020-04-09', 'symbol': 'MSFT', 'open': 166.36, 'high': 167.37, 'low': 163.33, 'close': 165.14} ,\n",
    "    {'date': '2020-04-09', 'symbol': 'AMZN', 'open': 2_044.30, 'high': 2_053.00, 'low': 2_017.66, 'close': 2_042.76},\n",
    "    {'date': '2020-04-09', 'symbol': 'FB', 'open': 175.90, 'high': 177.08, 'low': 171.57, 'close': 175.19}\n",
    "  ] \n"
   ]
  },
  {
   "cell_type": "code",
   "execution_count": 90,
   "id": "a82c58ae-d7a7-4b58-b923-0e6d561f133c",
   "metadata": {},
   "outputs": [
    {
     "data": {
      "text/plain": [
       "{'date': '2020-04-09',\n",
       " 'symbol': 'MSFT',\n",
       " 'open': 166.36,\n",
       " 'high': 167.37,\n",
       " 'low': 163.33,\n",
       " 'close': 165.14}"
      ]
     },
     "execution_count": 90,
     "metadata": {},
     "output_type": "execute_result"
    }
   ],
   "source": [
    "min(data, key=lambda d: d['low'])"
   ]
  },
  {
   "cell_type": "code",
   "execution_count": null,
   "id": "5f2c1620-4840-45f5-ac25-da8bcda29611",
   "metadata": {},
   "outputs": [],
   "source": []
  }
 ],
 "metadata": {
  "kernelspec": {
   "display_name": "Python 3 (ipykernel)",
   "language": "python",
   "name": "python3"
  },
  "language_info": {
   "codemirror_mode": {
    "name": "ipython",
    "version": 3
   },
   "file_extension": ".py",
   "mimetype": "text/x-python",
   "name": "python",
   "nbconvert_exporter": "python",
   "pygments_lexer": "ipython3",
   "version": "3.13.0"
  }
 },
 "nbformat": 4,
 "nbformat_minor": 5
}
