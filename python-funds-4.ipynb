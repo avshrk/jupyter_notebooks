{
 "cells": [
  {
   "cell_type": "code",
   "execution_count": 1,
   "id": "6a435bee-9386-4492-8a6b-3761870e1e8d",
   "metadata": {
    "editable": true,
    "slideshow": {
     "slide_type": ""
    },
    "tags": []
   },
   "outputs": [
    {
     "name": "stdin",
     "output_type": "stream",
     "text": [
      "enter name (min 5 chars long) foobar\n"
     ]
    },
    {
     "name": "stdout",
     "output_type": "stream",
     "text": [
      "Helo foobar!\n"
     ]
    }
   ],
   "source": [
    "# name = input('enter name (min 5 chars long)')\n",
    "\n",
    "if len(name) < 5:\n",
    "    raise ValueError(f'{name} must be 5 chars long')\n",
    "\n",
    "print(f'Helo {name}!')\n"
   ]
  },
  {
   "cell_type": "code",
   "execution_count": 2,
   "id": "b63ab45b-9e8d-47d8-bfb0-d3522975ca14",
   "metadata": {},
   "outputs": [
    {
     "data": {
      "text/plain": [
       "True"
      ]
     },
     "execution_count": 2,
     "metadata": {},
     "output_type": "execute_result"
    }
   ],
   "source": [
    "issubclass(KeyError, LookupError)"
   ]
  },
  {
   "cell_type": "code",
   "execution_count": 3,
   "id": "ea4cec5e-e215-4868-8118-cff7bcc2a5a4",
   "metadata": {},
   "outputs": [
    {
     "data": {
      "text/plain": [
       "True"
      ]
     },
     "execution_count": 3,
     "metadata": {},
     "output_type": "execute_result"
    }
   ],
   "source": [
    "issubclass(KeyError, Exception)"
   ]
  },
  {
   "cell_type": "code",
   "execution_count": 4,
   "id": "269bf728-1f5a-4ce5-88b9-1a243a7a45ad",
   "metadata": {},
   "outputs": [
    {
     "data": {
      "text/plain": [
       "True"
      ]
     },
     "execution_count": 4,
     "metadata": {},
     "output_type": "execute_result"
    }
   ],
   "source": [
    "issubclass(IndexError, LookupError)"
   ]
  },
  {
   "cell_type": "code",
   "execution_count": 5,
   "id": "cb6e5518-b806-445d-972a-823468add39e",
   "metadata": {},
   "outputs": [
    {
     "data": {
      "text/plain": [
       "False"
      ]
     },
     "execution_count": 5,
     "metadata": {},
     "output_type": "execute_result"
    }
   ],
   "source": [
    "isinstance(ValueError, LookupError)"
   ]
  },
  {
   "cell_type": "code",
   "execution_count": 6,
   "id": "cf985fc3-20c2-42f1-8fb9-36c142cc0a04",
   "metadata": {},
   "outputs": [
    {
     "name": "stdout",
     "output_type": "stream",
     "text": [
      "Exception occurred: <class 'ZeroDivisionError'>, division by zero\n",
      "Code contiues\n"
     ]
    }
   ],
   "source": [
    "# Handlying Exceptions\n",
    "try:\n",
    "    1/0\n",
    "except ZeroDivisionError as ex:\n",
    "    print(f'Exception occurred: {type(ex)}, {ex}')\n",
    "print('Code contiues')    "
   ]
  },
  {
   "cell_type": "code",
   "execution_count": 7,
   "id": "1ba0e3bb-cc64-4099-a594-29815c03860c",
   "metadata": {},
   "outputs": [
    {
     "name": "stdout",
     "output_type": "stream",
     "text": [
      "5\n",
      "4\n",
      "3\n",
      "2\n",
      "1\n",
      "all done\n",
      "keep running\n"
     ]
    }
   ],
   "source": [
    "# exception is essentiall flow control\n",
    "\n",
    "l = [1,2,3,4,5]\n",
    "\n",
    "try:\n",
    "    while True:\n",
    "        print(l.pop())\n",
    "except IndexError: \n",
    "    print('all done')    \n",
    "    \n",
    "print('keep running')    "
   ]
  },
  {
   "cell_type": "code",
   "execution_count": 8,
   "id": "6c3261fc-d853-4d2b-83df-59ce5cfc80af",
   "metadata": {},
   "outputs": [
    {
     "name": "stdout",
     "output_type": "stream",
     "text": [
      "'tuple' object has no attribute 'pop' - can not pop \n",
      "resume\n"
     ]
    }
   ],
   "source": [
    "# Do not catch broad exceptions\n",
    "# it is not informative\n",
    "\n",
    "t = (1,2,3,4)\n",
    "\n",
    "try:\n",
    "    while True:\n",
    "        print(t.pop())\n",
    "# this should be AttributeError        \n",
    "except IndexError as ie:\n",
    "    print(f'done - {ie}')\n",
    "except AttributeError as ae:\n",
    "    print(f'{ae} - can not pop ')\n",
    "    \n",
    "print('resume')    "
   ]
  },
  {
   "cell_type": "code",
   "execution_count": 9,
   "id": "0c9239a3-bddf-47f7-864f-ed7ab15cfb35",
   "metadata": {},
   "outputs": [
    {
     "name": "stdout",
     "output_type": "stream",
     "text": [
      "handled valueError: custom message\n",
      "this always executes\n",
      "all done\n"
     ]
    }
   ],
   "source": [
    "try:\n",
    "    raise ValueError('custom message')\n",
    "except ValueError as ex:\n",
    "    print(f'handled valueError: {ex}')\n",
    "finally:\n",
    "    print('this always executes')\n",
    "\n",
    "print('all done')"
   ]
  },
  {
   "cell_type": "code",
   "execution_count": 10,
   "id": "c86815f9-a16f-4dfb-be8f-ef2ea03b03b7",
   "metadata": {},
   "outputs": [
    {
     "name": "stdout",
     "output_type": "stream",
     "text": [
      "handled a ValueError: custom message\n",
      "this always executes\n"
     ]
    },
    {
     "ename": "TypeError",
     "evalue": "changing to a type error",
     "output_type": "error",
     "traceback": [
      "\u001b[0;31m---------------------------------------------------------------------------\u001b[0m",
      "\u001b[0;31mValueError\u001b[0m                                Traceback (most recent call last)",
      "Cell \u001b[0;32mIn[10], line 2\u001b[0m\n\u001b[1;32m      1\u001b[0m \u001b[38;5;28;01mtry\u001b[39;00m:\n\u001b[0;32m----> 2\u001b[0m     \u001b[38;5;28;01mraise\u001b[39;00m \u001b[38;5;167;01mValueError\u001b[39;00m(\u001b[38;5;124m'\u001b[39m\u001b[38;5;124mcustom message\u001b[39m\u001b[38;5;124m'\u001b[39m)\n\u001b[1;32m      3\u001b[0m \u001b[38;5;28;01mexcept\u001b[39;00m \u001b[38;5;167;01mValueError\u001b[39;00m \u001b[38;5;28;01mas\u001b[39;00m ex:\n",
      "\u001b[0;31mValueError\u001b[0m: custom message",
      "\nDuring handling of the above exception, another exception occurred:\n",
      "\u001b[0;31mTypeError\u001b[0m                                 Traceback (most recent call last)",
      "Cell \u001b[0;32mIn[10], line 5\u001b[0m\n\u001b[1;32m      3\u001b[0m \u001b[38;5;28;01mexcept\u001b[39;00m \u001b[38;5;167;01mValueError\u001b[39;00m \u001b[38;5;28;01mas\u001b[39;00m ex:\n\u001b[1;32m      4\u001b[0m     \u001b[38;5;28mprint\u001b[39m(\u001b[38;5;124mf\u001b[39m\u001b[38;5;124m'\u001b[39m\u001b[38;5;124mhandled a ValueError: \u001b[39m\u001b[38;5;132;01m{\u001b[39;00mex\u001b[38;5;132;01m}\u001b[39;00m\u001b[38;5;124m'\u001b[39m)\n\u001b[0;32m----> 5\u001b[0m     \u001b[38;5;28;01mraise\u001b[39;00m \u001b[38;5;167;01mTypeError\u001b[39;00m(\u001b[38;5;124m'\u001b[39m\u001b[38;5;124mchanging to a type error\u001b[39m\u001b[38;5;124m'\u001b[39m)\n\u001b[1;32m      6\u001b[0m \u001b[38;5;28;01mfinally\u001b[39;00m:\n\u001b[1;32m      7\u001b[0m     \u001b[38;5;28mprint\u001b[39m(\u001b[38;5;124m'\u001b[39m\u001b[38;5;124mthis always executes\u001b[39m\u001b[38;5;124m'\u001b[39m)\n",
      "\u001b[0;31mTypeError\u001b[0m: changing to a type error"
     ]
    }
   ],
   "source": [
    "try:\n",
    "    raise ValueError('custom message')\n",
    "except ValueError as ex:\n",
    "    print(f'handled a ValueError: {ex}')\n",
    "    raise TypeError('changing to a type error')\n",
    "finally:\n",
    "    print('this always executes')\n",
    "\n",
    "print('all done')"
   ]
  },
  {
   "cell_type": "code",
   "execution_count": 12,
   "id": "4457929d-596a-4688-b2b1-e8a03e497b04",
   "metadata": {},
   "outputs": [
    {
     "data": {
      "text/plain": [
       "list_iterator"
      ]
     },
     "execution_count": 12,
     "metadata": {},
     "output_type": "execute_result"
    }
   ],
   "source": [
    "# Iterables and Iterators\n",
    "l = [1,2,3]\n",
    "\n",
    "# creates next method\n",
    "itr = iter(l)\n",
    "\n",
    "type(itr)"
   ]
  },
  {
   "cell_type": "code",
   "execution_count": 13,
   "id": "b4906448-cb4f-4291-a604-1f6bc7d70e87",
   "metadata": {},
   "outputs": [
    {
     "data": {
      "text/plain": [
       "1"
      ]
     },
     "execution_count": 13,
     "metadata": {},
     "output_type": "execute_result"
    }
   ],
   "source": [
    "next(itr)"
   ]
  },
  {
   "cell_type": "code",
   "execution_count": 14,
   "id": "61ddee4d-8732-4b75-aab5-62260bc1a337",
   "metadata": {},
   "outputs": [
    {
     "data": {
      "text/plain": [
       "2"
      ]
     },
     "execution_count": 14,
     "metadata": {},
     "output_type": "execute_result"
    }
   ],
   "source": [
    "next(itr)"
   ]
  },
  {
   "cell_type": "code",
   "execution_count": 15,
   "id": "4adcd2b6-a8f4-4d8d-afc2-a0558a53c487",
   "metadata": {},
   "outputs": [
    {
     "data": {
      "text/plain": [
       "3"
      ]
     },
     "execution_count": 15,
     "metadata": {},
     "output_type": "execute_result"
    }
   ],
   "source": [
    "next(itr)"
   ]
  },
  {
   "cell_type": "code",
   "execution_count": 16,
   "id": "6488b9b8-8289-45a3-bbc7-9f093820be05",
   "metadata": {},
   "outputs": [
    {
     "ename": "StopIteration",
     "evalue": "",
     "output_type": "error",
     "traceback": [
      "\u001b[0;31m---------------------------------------------------------------------------\u001b[0m",
      "\u001b[0;31mStopIteration\u001b[0m                             Traceback (most recent call last)",
      "Cell \u001b[0;32mIn[16], line 1\u001b[0m\n\u001b[0;32m----> 1\u001b[0m \u001b[38;5;28;43mnext\u001b[39;49m\u001b[43m(\u001b[49m\u001b[43mitr\u001b[49m\u001b[43m)\u001b[49m\n",
      "\u001b[0;31mStopIteration\u001b[0m: "
     ]
    }
   ],
   "source": [
    "# Once done, it raises exception\n",
    "next(itr)"
   ]
  },
  {
   "cell_type": "code",
   "execution_count": 17,
   "id": "75ee8ee1-bdbf-476c-a113-18abd213a755",
   "metadata": {},
   "outputs": [
    {
     "data": {
      "text/plain": [
       "(138291437399888, 138291437505792)"
      ]
     },
     "execution_count": 17,
     "metadata": {},
     "output_type": "execute_result"
    }
   ],
   "source": [
    "itr2 = iter(l)\n",
    "id(itr), id(itr2)"
   ]
  },
  {
   "cell_type": "code",
   "execution_count": 18,
   "id": "ec558478-5cc2-41fd-8d48-4a646e29ecb9",
   "metadata": {},
   "outputs": [
    {
     "name": "stdout",
     "output_type": "stream",
     "text": [
      "1\n",
      "2\n",
      "3\n",
      "done\n"
     ]
    }
   ],
   "source": [
    "# similar implementation of For loop.\n",
    "try: \n",
    "    while True:\n",
    "        el = next(itr2)\n",
    "        print(el)\n",
    "except StopIteration:\n",
    "    print('done')\n",
    "    pass"
   ]
  },
  {
   "cell_type": "code",
   "execution_count": null,
   "id": "14ae83f4-3378-4c28-8374-6ae32a885797",
   "metadata": {},
   "outputs": [],
   "source": [
    "# iterators are for one time use\n",
    "# iterables can be iterator many times\n",
    "# range is a lazy iterable not a iterator\n",
    "# list has all the elements created"
   ]
  },
  {
   "cell_type": "code",
   "execution_count": 21,
   "id": "a3e9652f-81ed-46cd-b91d-e076240b3c79",
   "metadata": {},
   "outputs": [
    {
     "data": {
      "text/plain": [
       "[(0, 'a'), (1, 'b'), (2, 'c')]"
      ]
     },
     "execution_count": 21,
     "metadata": {},
     "output_type": "execute_result"
    }
   ],
   "source": [
    "# enumerator is an iterator - one time use\n",
    "# to rerun the enumeration, new enumerator needs to be created\n",
    "enum = enumerate('abc')\n",
    "list(enum) # enumerator"
   ]
  },
  {
   "cell_type": "code",
   "execution_count": null,
   "id": "fbe23a93-cf5e-418a-9584-f4691165c127",
   "metadata": {},
   "outputs": [],
   "source": [
    "# iterable : something that can be iterated over with 'next'\n",
    "# iterable: collection of objects that can be iterated over\n",
    "# iterable is a container - collection of objects\n",
    "# iterable does not know how to iterate over elements\n",
    "# but it know how to create and give us an iterator\n",
    "# with __iter__() method creates iterator \n",
    "# iterator has __next__() to iterate - iterable does not have it\n",
    "# iterators are one time use - requires creating a new iterator\n",
    "\n",
    "# iterables implement __iter__() method, which creates iterator\n",
    "# iterators implement __next__() method to iterate over\n",
    "\n",
    "\n",
    "# iterator is the functionality of 'next' - just going to the next element \n",
    "# iterator gives us the next item\n",
    "# iterator is used to iterato over iterable"
   ]
  },
  {
   "cell_type": "code",
   "execution_count": null,
   "id": "9141ce08-96ee-4456-8d81-a8b03fb96ddf",
   "metadata": {},
   "outputs": [],
   "source": [
    "# Generators\n",
    "# there are list, dictionary, and set comprehensions\n",
    "# no tuple comprehensions because tuples are not mutable\n",
    "\n",
    "# below creates the list\n",
    "# creates all the elements \n",
    "[i ** 2 for i in range(5)]\n",
    "\n",
    "# below is a generator ( generators are iterators)\n",
    "# generators use lazy iteration\n",
    "# generators are memory efficent\n",
    "# eg. loading entire file and processing or read one line at a time\n",
    "# generators are one time use\n",
    "(i ** 2 for i in range(5))"
   ]
  },
  {
   "cell_type": "code",
   "execution_count": 33,
   "id": "99790ffb-ebb0-43b4-81ad-a306c45a471e",
   "metadata": {},
   "outputs": [
    {
     "name": "stdout",
     "output_type": "stream",
     "text": [
      "0\n",
      "1\n",
      "4\n",
      "9\n",
      "16\n"
     ]
    }
   ],
   "source": [
    "# list comprehension - all created at one\n",
    "[i ** 2 for i in range(5)]\n",
    "\n",
    "sqrs = (i ** 2 for i in range(5))\n",
    "type(sqrs)\n",
    "\n",
    "for i in sqrs:\n",
    "    print(i)"
   ]
  },
  {
   "cell_type": "code",
   "execution_count": 32,
   "id": "a6046183-93f5-450a-99ac-585f6dee1660",
   "metadata": {},
   "outputs": [],
   "source": [
    "# will not run again\n",
    "# iterator needs to be recreated\n",
    "for i in sqrs:\n",
    "    print(i)"
   ]
  },
  {
   "cell_type": "code",
   "execution_count": 34,
   "id": "d6b4409d-9186-4efe-a09c-800197604a76",
   "metadata": {},
   "outputs": [
    {
     "data": {
      "text/plain": [
       "False"
      ]
     },
     "execution_count": 34,
     "metadata": {},
     "output_type": "execute_result"
    }
   ],
   "source": [
    "# iterator can be exausted without realizing\n",
    "\n",
    "sqrs = (i ** 2 for i in range(5))\n",
    "3 in sqrs"
   ]
  },
  {
   "cell_type": "code",
   "execution_count": 35,
   "id": "069383e4-9f00-4d0e-9bd1-ec4015805e8a",
   "metadata": {},
   "outputs": [
    {
     "ename": "StopIteration",
     "evalue": "",
     "output_type": "error",
     "traceback": [
      "\u001b[0;31m---------------------------------------------------------------------------\u001b[0m",
      "\u001b[0;31mStopIteration\u001b[0m                             Traceback (most recent call last)",
      "Cell \u001b[0;32mIn[35], line 1\u001b[0m\n\u001b[0;32m----> 1\u001b[0m \u001b[38;5;28;43mnext\u001b[39;49m\u001b[43m(\u001b[49m\u001b[43msqrs\u001b[49m\u001b[43m)\u001b[49m\n",
      "\u001b[0;31mStopIteration\u001b[0m: "
     ]
    }
   ],
   "source": [
    "# sqrs are exausted after 'in' operator\n",
    "next(sqrs)"
   ]
  },
  {
   "cell_type": "code",
   "execution_count": 36,
   "id": "c1f11a3a-5ec4-4885-8623-71b05b1bcd7c",
   "metadata": {},
   "outputs": [
    {
     "data": {
      "text/plain": [
       "[]"
      ]
     },
     "execution_count": 36,
     "metadata": {},
     "output_type": "execute_result"
    }
   ],
   "source": [
    "# it is empty\n",
    "list(sqrs)"
   ]
  },
  {
   "cell_type": "code",
   "execution_count": 37,
   "id": "93f46999-932a-4eda-aaad-714097ca8f15",
   "metadata": {},
   "outputs": [
    {
     "data": {
      "text/plain": [
       "[9, 16]"
      ]
     },
     "execution_count": 37,
     "metadata": {},
     "output_type": "execute_result"
    }
   ],
   "source": [
    "# partially exausted iterator\n",
    "sqrs = (i ** 2 for i in range(5))\n",
    "4 in sqrs\n",
    "list(sqrs)"
   ]
  },
  {
   "cell_type": "code",
   "execution_count": 40,
   "id": "64782a99-5901-4836-a62c-decaf47e7184",
   "metadata": {},
   "outputs": [
    {
     "data": {
      "text/plain": [
       "3.3044331569981296"
      ]
     },
     "execution_count": 40,
     "metadata": {},
     "output_type": "execute_result"
    }
   ],
   "source": [
    "from timeit import timeit\n",
    "# list comprehensions\n",
    "timeit('[i ** 2 for i in range(25_000_000)]', number=1)"
   ]
  },
  {
   "cell_type": "code",
   "execution_count": 42,
   "id": "bf41073d-0d0c-483f-a6ee-57e6a54fbbb1",
   "metadata": {},
   "outputs": [
    {
     "data": {
      "text/plain": [
       "8.042989065870643e-06"
      ]
     },
     "execution_count": 42,
     "metadata": {},
     "output_type": "execute_result"
    }
   ],
   "source": [
    "# generators\n",
    "timeit('(i ** 2 for i in range(25_000_000))', number=1)"
   ]
  },
  {
   "cell_type": "code",
   "execution_count": 43,
   "id": "e4d8a23c-0cbd-454b-b1c8-d9a37698f9ce",
   "metadata": {},
   "outputs": [
    {
     "data": {
      "text/plain": [
       "'say_hello'"
      ]
     },
     "execution_count": 43,
     "metadata": {},
     "output_type": "execute_result"
    }
   ],
   "source": [
    "# Functions\n",
    "# callable - ()\n",
    "# callables are functions, methods, objects etc.\n",
    "# functions are objects\n",
    "def say_hello():\n",
    "    print('hello')\n",
    "say_hello.__name__   "
   ]
  },
  {
   "cell_type": "code",
   "execution_count": null,
   "id": "00082e93-8333-44b1-aaea-ae2f536482a3",
   "metadata": {},
   "outputs": [],
   "source": [
    "# each function call creates new namesapce\n",
    "# variables are stored in a local dictionary in a function\n",
    "# globals are also dictionary"
   ]
  },
  {
   "cell_type": "code",
   "execution_count": 47,
   "id": "5cabe894-0102-45b8-96bd-fcc33da3aac5",
   "metadata": {},
   "outputs": [
    {
     "name": "stdout",
     "output_type": "stream",
     "text": [
      "{'a': 2, 'b': 3, 'c': 4, 'sum_': 9}\n"
     ]
    },
    {
     "data": {
      "text/plain": [
       "9"
      ]
     },
     "execution_count": 47,
     "metadata": {},
     "output_type": "execute_result"
    }
   ],
   "source": [
    "# local dictionary\n",
    "def add(a,b,c):\n",
    "    sum_ = a + b + c\n",
    "    print(locals())\n",
    "    return sum_\n",
    "\n",
    "add(2,3,4)"
   ]
  },
  {
   "cell_type": "code",
   "execution_count": 52,
   "id": "41031945-2ae0-4877-a27f-7f48e449b70d",
   "metadata": {},
   "outputs": [
    {
     "name": "stdout",
     "output_type": "stream",
     "text": [
      "2024-12-17T13:50:11.299920+00:00 - [log 1]\n"
     ]
    }
   ],
   "source": [
    "from datetime import datetime, timezone\n",
    "\n",
    "# it does not return anything\n",
    "# this is for side effect\n",
    "def log(message):\n",
    "    curr_time = datetime.now(timezone.utc).isoformat()\n",
    "    print(f'{curr_time} - [{message}]')\n",
    "\n",
    "log('log 1')"
   ]
  },
  {
   "cell_type": "code",
   "execution_count": 54,
   "id": "20ba5904-5850-4ec2-9297-2cd47a6552a2",
   "metadata": {},
   "outputs": [
    {
     "data": {
      "text/plain": [
       "[[1, 1, 1], [1, 1, 1]]"
      ]
     },
     "execution_count": 54,
     "metadata": {},
     "output_type": "execute_result"
    }
   ],
   "source": [
    "# positional parameters - order is important\n",
    "def gen_matrix(m,n, default_val):\n",
    "    return [[default_val for i in range(n)] for j in range(m)]\n",
    "\n",
    "gen_matrix(2,3,1)    "
   ]
  },
  {
   "cell_type": "code",
   "execution_count": 57,
   "id": "3c335a3e-0484-4067-b6e1-c106949f183d",
   "metadata": {},
   "outputs": [
    {
     "data": {
      "text/plain": [
       "[[9, 9, 9], [9, 9, 9]]"
      ]
     },
     "execution_count": 57,
     "metadata": {},
     "output_type": "execute_result"
    }
   ],
   "source": [
    "# keyword arguments\n",
    "gen_matrix(default_val=9,n=3,m=2)"
   ]
  },
  {
   "cell_type": "code",
   "execution_count": 12,
   "id": "5bd20e2c-bf20-4ba4-a0cb-dcc39f9c3213",
   "metadata": {},
   "outputs": [
    {
     "name": "stdout",
     "output_type": "stream",
     "text": [
      "<class 'tuple'>\n",
      "()\n",
      "\n",
      "<class 'tuple'>\n",
      "(1,)\n",
      "1\n"
     ]
    }
   ],
   "source": [
    "# star arguments\n",
    "def my_func(*args):\n",
    "    print(type(args))\n",
    "    print(args)\n",
    "    print(*args)\n",
    "my_func()    \n",
    "my_func(1)    "
   ]
  },
  {
   "cell_type": "code",
   "execution_count": 13,
   "id": "43a30b52-4e93-48e2-a3be-5f26bfaf4708",
   "metadata": {},
   "outputs": [
    {
     "name": "stdout",
     "output_type": "stream",
     "text": [
      "<class 'tuple'>\n",
      "(1, 2, 3, [1, 2], 'abc')\n",
      "1 2 3 [1, 2] abc\n"
     ]
    }
   ],
   "source": [
    "my_func(1,2,3,[1,2],'abc')"
   ]
  },
  {
   "cell_type": "code",
   "execution_count": 14,
   "id": "ae46d1ca-a63f-40d7-9be7-a06d91e01aba",
   "metadata": {},
   "outputs": [
    {
     "name": "stdout",
     "output_type": "stream",
     "text": [
      "1\n",
      "2\n",
      "()\n"
     ]
    }
   ],
   "source": [
    "def my_func2(a,b, *args):\n",
    "    print(a)\n",
    "    print(b)\n",
    "    print(args)\n",
    "\n",
    "my_func2(1,2)    "
   ]
  },
  {
   "cell_type": "code",
   "execution_count": 15,
   "id": "df5e5093-37c4-48e0-ba76-51ccf8cb4ab4",
   "metadata": {},
   "outputs": [
    {
     "name": "stdout",
     "output_type": "stream",
     "text": [
      "1\n",
      "2\n",
      "(3, 4, 5, 6)\n"
     ]
    }
   ],
   "source": [
    "my_func2(1,2,3,4,5,6)"
   ]
  },
  {
   "cell_type": "code",
   "execution_count": 24,
   "id": "f1a4f154-0aaf-497e-8dae-831c4ebcc3f8",
   "metadata": {},
   "outputs": [
    {
     "name": "stdout",
     "output_type": "stream",
     "text": [
      "1 2\n",
      "()\n",
      "10\n",
      "---------\n",
      "1 2\n",
      "(3, 4)\n",
      "10\n"
     ]
    }
   ],
   "source": [
    "# keyword and positional arguments are required\n",
    "def my_func3(a,b, *args, c):\n",
    "    print(a,b)\n",
    "    print(args)\n",
    "    print(c)\n",
    "\n",
    "my_func3(1,2,c=10)\n",
    "print('-' * 9)\n",
    "my_func3(1,2,3,4,c=10)"
   ]
  },
  {
   "cell_type": "code",
   "execution_count": 31,
   "id": "bf03449e-7b5c-4ad6-903f-a40e1b980e0b",
   "metadata": {},
   "outputs": [
    {
     "name": "stdout",
     "output_type": "stream",
     "text": [
      "[0, 1, 2, 3, 4]\n",
      "---------\n",
      "0\n",
      "1\n",
      "2\n",
      "3\n",
      "4\n"
     ]
    }
   ],
   "source": [
    "l = [ i for i in range(5)]\n",
    "\n",
    "def my_func4(*args):\n",
    "    for i in args: \n",
    "        print(i)\n",
    "\n",
    "# passed as a list - single value\n",
    "my_func4(l)    \n",
    "print('-' * 9)\n",
    "# unpacks\n",
    "my_func4(*l)    \n"
   ]
  },
  {
   "cell_type": "code",
   "execution_count": 34,
   "id": "b1a7a519-7e9e-44f2-8238-30ea003b5908",
   "metadata": {},
   "outputs": [
    {
     "data": {
      "text/plain": [
       "(1, 10)"
      ]
     },
     "execution_count": 34,
     "metadata": {},
     "output_type": "execute_result"
    }
   ],
   "source": [
    "# Default Values\n",
    "\n",
    "def f1(a=1):\n",
    "    return a\n",
    "\n",
    "f1(), f1(a=10)"
   ]
  },
  {
   "cell_type": "code",
   "execution_count": 36,
   "id": "54778709-ec4d-4fd2-a324-35cddfd1ff8e",
   "metadata": {},
   "outputs": [
    {
     "name": "stdout",
     "output_type": "stream",
     "text": [
      "1 2 3\n",
      "---------\n"
     ]
    }
   ],
   "source": [
    "def f2(a, b=10, c=20):\n",
    "    print(a,b,c)\n",
    "\n",
    "f2(1,2,3)"
   ]
  },
  {
   "cell_type": "code",
   "execution_count": 37,
   "id": "d59e7bee-60fa-4a6d-81d5-7b105fa62099",
   "metadata": {},
   "outputs": [
    {
     "name": "stdout",
     "output_type": "stream",
     "text": [
      "1 2 20\n"
     ]
    }
   ],
   "source": [
    "f2(1,2)"
   ]
  },
  {
   "cell_type": "code",
   "execution_count": 38,
   "id": "90d56a55-1861-4dbc-a552-997384fdf817",
   "metadata": {},
   "outputs": [
    {
     "name": "stdout",
     "output_type": "stream",
     "text": [
      "1 10 20\n"
     ]
    }
   ],
   "source": [
    "f2(1)"
   ]
  },
  {
   "cell_type": "code",
   "execution_count": 40,
   "id": "34309b48-a201-43cc-9e02-7f1a1b6a6d83",
   "metadata": {},
   "outputs": [
    {
     "name": "stdout",
     "output_type": "stream",
     "text": [
      "1 10 10000\n"
     ]
    }
   ],
   "source": [
    "f2(1, c=10000)"
   ]
  },
  {
   "cell_type": "code",
   "execution_count": 41,
   "id": "f602c778-4fae-4691-a07c-b97580c2954a",
   "metadata": {},
   "outputs": [
    {
     "name": "stdout",
     "output_type": "stream",
     "text": [
      "1 9999 10000\n"
     ]
    }
   ],
   "source": [
    "f2(1, c=10000, b=9999)"
   ]
  },
  {
   "cell_type": "code",
   "execution_count": 47,
   "id": "56192715-5c86-400f-ade5-061559ccc5fe",
   "metadata": {},
   "outputs": [
    {
     "data": {
      "text/plain": [
       "False"
      ]
     },
     "execution_count": 47,
     "metadata": {},
     "output_type": "execute_result"
    }
   ],
   "source": [
    "def is_close(a,b, abs_tol=0.01):\n",
    "    return abs(a - b) <= abs_tol\n",
    "\n",
    "is_close(2,1)    "
   ]
  },
  {
   "cell_type": "code",
   "execution_count": 46,
   "id": "3872a102-a21e-4061-b9af-d9f1396350b5",
   "metadata": {},
   "outputs": [
    {
     "data": {
      "text/plain": [
       "True"
      ]
     },
     "execution_count": 46,
     "metadata": {},
     "output_type": "execute_result"
    }
   ],
   "source": [
    "is_close(2,1.999)    "
   ]
  },
  {
   "cell_type": "code",
   "execution_count": 51,
   "id": "f7626790-f4fe-4ad9-b843-cd6ec2e1d0f2",
   "metadata": {},
   "outputs": [
    {
     "data": {
      "text/plain": [
       "['hello', 'world']"
      ]
     },
     "execution_count": 51,
     "metadata": {},
     "output_type": "execute_result"
    }
   ],
   "source": [
    "def parse(s, sep=',', strip=True):\n",
    "    items = s.split(sep)\n",
    "    if strip:\n",
    "        return [item.strip() for item in items]\n",
    "    else:\n",
    "        return items\n",
    "\n",
    "parse(' hello , world ')"
   ]
  },
  {
   "cell_type": "code",
   "execution_count": 52,
   "id": "901236b2-6b7d-40b2-9d22-16f3f800bc11",
   "metadata": {},
   "outputs": [
    {
     "data": {
      "text/plain": [
       "[' hello ', ' world ']"
      ]
     },
     "execution_count": 52,
     "metadata": {},
     "output_type": "execute_result"
    }
   ],
   "source": [
    "parse(' hello , world ', strip=False)"
   ]
  },
  {
   "cell_type": "code",
   "execution_count": 53,
   "id": "b42c3f58-4f57-4935-8076-860c9f1caeec",
   "metadata": {},
   "outputs": [
    {
     "data": {
      "text/plain": [
       "['hello', 'world']"
      ]
     },
     "execution_count": 53,
     "metadata": {},
     "output_type": "execute_result"
    }
   ],
   "source": [
    "parse(' hello:world ', sep=':')"
   ]
  },
  {
   "cell_type": "code",
   "execution_count": 54,
   "id": "aced1edb-38b0-46bf-9c32-4f3333b2ba76",
   "metadata": {},
   "outputs": [
    {
     "data": {
      "text/plain": [
       "['a', 'b', 'c']"
      ]
     },
     "execution_count": 54,
     "metadata": {},
     "output_type": "execute_result"
    }
   ],
   "source": [
    "parse('a\\n|b\\n|c\\n', sep='|')"
   ]
  },
  {
   "cell_type": "code",
   "execution_count": 55,
   "id": "d7719f72-6512-4ada-b6d6-710fa8615f4f",
   "metadata": {},
   "outputs": [
    {
     "data": {
      "text/plain": [
       "['a\\n', 'b\\n', 'c\\n']"
      ]
     },
     "execution_count": 55,
     "metadata": {},
     "output_type": "execute_result"
    }
   ],
   "source": [
    "parse('a\\n|b\\n|c\\n', sep='|', strip=False)"
   ]
  },
  {
   "cell_type": "code",
   "execution_count": 56,
   "id": "c754af5b-587e-4f13-9194-64ae443070de",
   "metadata": {},
   "outputs": [
    {
     "name": "stdout",
     "output_type": "stream",
     "text": [
      "a--b--c\n"
     ]
    }
   ],
   "source": [
    "print('a','b','c', sep='--')"
   ]
  },
  {
   "cell_type": "code",
   "execution_count": 67,
   "id": "38acbf72-b790-45df-88b4-c1351a59a00c",
   "metadata": {},
   "outputs": [
    {
     "name": "stdout",
     "output_type": "stream",
     "text": [
      "a,b,c***\n",
      "next line\n"
     ]
    },
    {
     "data": {
      "text/plain": [
       "'10'"
      ]
     },
     "execution_count": 67,
     "metadata": {},
     "output_type": "execute_result"
    }
   ],
   "source": [
    "print(*'abc', sep=',', end='***\\n')\n",
    "print('next line')"
   ]
  },
  {
   "cell_type": "code",
   "execution_count": 107,
   "id": "5f8ed4ef-3f94-4d82-877f-2805995a904c",
   "metadata": {},
   "outputs": [
    {
     "data": {
      "text/plain": [
       "'10,20,30\\n100,200,300\\n1000,2000,3000'"
      ]
     },
     "execution_count": 107,
     "metadata": {},
     "output_type": "execute_result"
    }
   ],
   "source": [
    "data = [\n",
    "    [10,20,30],\n",
    "    [100,200,300],\n",
    "    [1000,2000,3000]\n",
    "]\n",
    "\n",
    "def process_data(data, item_sep=',', line_sep='\\n'): \n",
    "    return line_sep.join(\n",
    "        item_sep.join(str(el) for el in row ) \n",
    "        for row in data)\n",
    "    \n",
    "\n",
    "process_data(data)"
   ]
  },
  {
   "cell_type": "code",
   "execution_count": 106,
   "id": "d26afa2c-f97f-4a9e-a318-8878f76a6567",
   "metadata": {},
   "outputs": [
    {
     "name": "stdout",
     "output_type": "stream",
     "text": [
      "10,20,30\n",
      "100,200,300\n",
      "1000,2000,3000\n"
     ]
    }
   ],
   "source": [
    "print(process_data(data))"
   ]
  },
  {
   "cell_type": "code",
   "execution_count": 112,
   "id": "3480d037-f761-45a5-8f70-3e2f4722f43a",
   "metadata": {},
   "outputs": [
    {
     "name": "stdout",
     "output_type": "stream",
     "text": [
      "1 2 3\n"
     ]
    }
   ],
   "source": [
    "# keyword only arguments\n",
    "\n",
    "def func(a,b,*, c):\n",
    "    print(a,b,c)\n",
    "\n",
    "# required keyword argument\n",
    "func(1,2,c=3)"
   ]
  },
  {
   "cell_type": "code",
   "execution_count": 113,
   "id": "f64068a0-8b3c-46f6-a174-60665aa467c3",
   "metadata": {},
   "outputs": [
    {
     "name": "stdout",
     "output_type": "stream",
     "text": [
      "3 2 1\n"
     ]
    }
   ],
   "source": [
    "func(c=1,b=2,a=3)"
   ]
  },
  {
   "cell_type": "code",
   "execution_count": 114,
   "id": "3e8e5a5d-1c38-4e83-a51f-e8c62a29619a",
   "metadata": {},
   "outputs": [
    {
     "name": "stdout",
     "output_type": "stream",
     "text": [
      "1 2 3 20 99 30\n"
     ]
    }
   ],
   "source": [
    "def fn1(a,b=2,c=3,*,d=20,e,f=30):\n",
    "    print(a,b,c,d,e,f)\n",
    "\n",
    "fn1(1,e=99)"
   ]
  },
  {
   "cell_type": "code",
   "execution_count": 116,
   "id": "eb97edab-bc85-4788-a0f7-4d29fc56f775",
   "metadata": {},
   "outputs": [
    {
     "name": "stdout",
     "output_type": "stream",
     "text": [
      "1 8 3 20 99 30\n"
     ]
    }
   ],
   "source": [
    "fn1(1,8,e=99)"
   ]
  },
  {
   "cell_type": "code",
   "execution_count": 124,
   "id": "ee1a48c2-2079-4862-b2e5-c9284ccb822d",
   "metadata": {},
   "outputs": [
    {
     "name": "stdout",
     "output_type": "stream",
     "text": [
      "1 2 (3, 4, 5, 6) 99 88 {'k': 44, 'e': 77}\n"
     ]
    }
   ],
   "source": [
    "# use **kwargs when you don't know the arguments that can be passed in\n",
    "# if you know the arguments to be passed in type it out\n",
    "def fn2(a,b, *args, c,d, **kwargs):\n",
    "    print(a,b,args, c, d, kwargs)\n",
    "\n",
    "fn2(1,2,3,4,5,6,c=99,d=88,k=44,e=77)"
   ]
  },
  {
   "cell_type": "code",
   "execution_count": 125,
   "id": "954e1876-6978-4a9c-9780-59e05b4faf2c",
   "metadata": {},
   "outputs": [
    {
     "ename": "TypeError",
     "evalue": "fn3() takes 0 positional arguments but 2 were given",
     "output_type": "error",
     "traceback": [
      "\u001b[0;31m---------------------------------------------------------------------------\u001b[0m",
      "\u001b[0;31mTypeError\u001b[0m                                 Traceback (most recent call last)",
      "Cell \u001b[0;32mIn[125], line 4\u001b[0m\n\u001b[1;32m      1\u001b[0m \u001b[38;5;28;01mdef\u001b[39;00m \u001b[38;5;21mfn3\u001b[39m(\u001b[38;5;241m*\u001b[39m,a,b):\n\u001b[1;32m      2\u001b[0m     \u001b[38;5;28;01mreturn\u001b[39;00m a \u001b[38;5;241m+\u001b[39m b\n\u001b[0;32m----> 4\u001b[0m \u001b[43mfn3\u001b[49m\u001b[43m(\u001b[49m\u001b[38;5;241;43m2\u001b[39;49m\u001b[43m,\u001b[49m\u001b[38;5;241;43m3\u001b[39;49m\u001b[43m)\u001b[49m   \n",
      "\u001b[0;31mTypeError\u001b[0m: fn3() takes 0 positional arguments but 2 were given"
     ]
    }
   ],
   "source": [
    "# forces a b to be keyword arguments\n",
    "def fn3(*,a,b):\n",
    "    return a + b\n",
    "\n",
    "# raises an error\n",
    "fn3(2,3)   "
   ]
  },
  {
   "cell_type": "code",
   "execution_count": 126,
   "id": "2f1f1223-cfae-438a-8599-1240ce2642ec",
   "metadata": {},
   "outputs": [
    {
     "data": {
      "text/plain": [
       "30"
      ]
     },
     "execution_count": 126,
     "metadata": {},
     "output_type": "execute_result"
    }
   ],
   "source": [
    "fn3(a=10,b=20)"
   ]
  },
  {
   "cell_type": "code",
   "execution_count": 132,
   "id": "b4d85bac-2fb6-4130-b542-b76d3d9bd09d",
   "metadata": {},
   "outputs": [
    {
     "data": {
      "text/plain": [
       "3"
      ]
     },
     "execution_count": 132,
     "metadata": {},
     "output_type": "execute_result"
    }
   ],
   "source": [
    "# lambdas\n",
    "lb = lambda a, b: a + b \n",
    "lb(1,2)"
   ]
  },
  {
   "cell_type": "code",
   "execution_count": 6,
   "id": "840d7638-9743-4480-a672-6237996a2b74",
   "metadata": {},
   "outputs": [],
   "source": [
    "# creating identity matrix\n",
    "\n",
    "fl = lambda rows, cols: [\n",
    "    [1 if row == col else 0 for col in range(cols)]\n",
    "    for row in range(rows)\n",
    "]"
   ]
  },
  {
   "cell_type": "code",
   "execution_count": 7,
   "id": "1794ed99-204d-4610-97d0-ac4da8002155",
   "metadata": {},
   "outputs": [
    {
     "data": {
      "text/plain": [
       "[[1, 0, 0, 0], [0, 1, 0, 0], [0, 0, 1, 0]]"
      ]
     },
     "execution_count": 7,
     "metadata": {},
     "output_type": "execute_result"
    }
   ],
   "source": [
    "fl(3,4)"
   ]
  },
  {
   "cell_type": "code",
   "execution_count": 10,
   "id": "2288cd71-1950-484c-b252-e04962a70833",
   "metadata": {},
   "outputs": [
    {
     "data": {
      "text/plain": [
       "990"
      ]
     },
     "execution_count": 10,
     "metadata": {},
     "output_type": "execute_result"
    }
   ],
   "source": [
    "fr = lambda a, *args: a * max(args)\n",
    "\n",
    "fr(10,-1,99,33)"
   ]
  },
  {
   "cell_type": "code",
   "execution_count": 11,
   "id": "46978202-3873-411b-bcb2-279c0692fecb",
   "metadata": {},
   "outputs": [
    {
     "data": {
      "text/plain": [
       "0"
      ]
     },
     "execution_count": 11,
     "metadata": {},
     "output_type": "execute_result"
    }
   ],
   "source": [
    "# round ints and floats\n",
    "round(0.325)"
   ]
  },
  {
   "cell_type": "code",
   "execution_count": 12,
   "id": "ec94f8ac-3a4c-4c15-abde-919905cf70b4",
   "metadata": {},
   "outputs": [
    {
     "data": {
      "text/plain": [
       "3"
      ]
     },
     "execution_count": 12,
     "metadata": {},
     "output_type": "execute_result"
    }
   ],
   "source": [
    "round(3.325)"
   ]
  },
  {
   "cell_type": "code",
   "execution_count": 13,
   "id": "4ebbf3fa-49b8-4a00-b1d9-192d01a193b7",
   "metadata": {},
   "outputs": [
    {
     "data": {
      "text/plain": [
       "14"
      ]
     },
     "execution_count": 13,
     "metadata": {},
     "output_type": "execute_result"
    }
   ],
   "source": [
    "# rounds to even digit \n",
    "# this case up\n",
    "round(13.5)"
   ]
  },
  {
   "cell_type": "code",
   "execution_count": 14,
   "id": "e45b0ad8-0ef7-46a6-80c7-e79addeeff1a",
   "metadata": {},
   "outputs": [
    {
     "data": {
      "text/plain": [
       "12"
      ]
     },
     "execution_count": 14,
     "metadata": {},
     "output_type": "execute_result"
    }
   ],
   "source": [
    "# rounds to even digit\n",
    "# this case down\n",
    "round(12.5)"
   ]
  },
  {
   "cell_type": "code",
   "execution_count": 15,
   "id": "2543166c-8d9b-4996-87b5-e25077106ed6",
   "metadata": {},
   "outputs": [
    {
     "data": {
      "text/plain": [
       "0.1"
      ]
     },
     "execution_count": 15,
     "metadata": {},
     "output_type": "execute_result"
    }
   ],
   "source": [
    "# round to closest tenth\n",
    "round(0.125, 1)"
   ]
  },
  {
   "cell_type": "code",
   "execution_count": 27,
   "id": "4ccc2ade-8275-4f7a-9d7a-66c19bc7f2cb",
   "metadata": {},
   "outputs": [
    {
     "data": {
      "text/plain": [
       "0.12"
      ]
     },
     "execution_count": 27,
     "metadata": {},
     "output_type": "execute_result"
    }
   ],
   "source": [
    "# to even number when middle\n",
    "round(0.115, 2)"
   ]
  },
  {
   "cell_type": "code",
   "execution_count": 28,
   "id": "af540690-a993-4f6d-8b3c-03a917acad70",
   "metadata": {},
   "outputs": [
    {
     "data": {
      "text/plain": [
       "0.12"
      ]
     },
     "execution_count": 28,
     "metadata": {},
     "output_type": "execute_result"
    }
   ],
   "source": [
    "# to even number\n",
    "round(0.125,2 )"
   ]
  },
  {
   "cell_type": "code",
   "execution_count": 29,
   "id": "26d1fcad-5384-4a4e-81b0-9938f902117a",
   "metadata": {},
   "outputs": [
    {
     "data": {
      "text/plain": [
       "123460"
      ]
     },
     "execution_count": 29,
     "metadata": {},
     "output_type": "execute_result"
    }
   ],
   "source": [
    "round(123456, -1)"
   ]
  },
  {
   "cell_type": "code",
   "execution_count": 30,
   "id": "0e6a9c84-123b-4850-8dc1-e8bb52b9652e",
   "metadata": {},
   "outputs": [
    {
     "data": {
      "text/plain": [
       "123500"
      ]
     },
     "execution_count": 30,
     "metadata": {},
     "output_type": "execute_result"
    }
   ],
   "source": [
    "round(123456, -2)"
   ]
  },
  {
   "cell_type": "code",
   "execution_count": 31,
   "id": "2337f697-aff7-41b0-a823-d7ee20186e30",
   "metadata": {},
   "outputs": [
    {
     "data": {
      "text/plain": [
       "0.12"
      ]
     },
     "execution_count": 31,
     "metadata": {},
     "output_type": "execute_result"
    }
   ],
   "source": [
    "round(0.125, 2)"
   ]
  },
  {
   "cell_type": "code",
   "execution_count": 32,
   "id": "c82aad67-4b70-40c0-a760-e42dfdff8ca5",
   "metadata": {},
   "outputs": [
    {
     "data": {
      "text/plain": [
       "0.33"
      ]
     },
     "execution_count": 32,
     "metadata": {},
     "output_type": "execute_result"
    }
   ],
   "source": [
    "round(0.325, 2)"
   ]
  },
  {
   "cell_type": "code",
   "execution_count": 33,
   "id": "ade78589-c2f4-41ab-9273-bfa91bfda3f2",
   "metadata": {},
   "outputs": [
    {
     "data": {
      "text/plain": [
       "'0.32500000000000001110'"
      ]
     },
     "execution_count": 33,
     "metadata": {},
     "output_type": "execute_result"
    }
   ],
   "source": [
    "format(0.325, '.20f')"
   ]
  },
  {
   "cell_type": "code",
   "execution_count": 35,
   "id": "20b37c8c-d60e-4a3c-8c20-10febea13d1f",
   "metadata": {},
   "outputs": [
    {
     "data": {
      "text/plain": [
       "[1, 2, 3, 8, 9, 10]"
      ]
     },
     "execution_count": 35,
     "metadata": {},
     "output_type": "execute_result"
    }
   ],
   "source": [
    "# Sorted, min and max\n",
    "l = [1,10,2,9,3,8]\n",
    "t = (1,10,2,9,3,8)\n",
    "s = {1,10,2,9,3,8}\n",
    "\n",
    "# returns new list - no mutation\n",
    "sorted(l)"
   ]
  },
  {
   "cell_type": "code",
   "execution_count": 36,
   "id": "ebfe4ac2-f1a6-4b2c-91c4-f8e6a77ba67e",
   "metadata": {},
   "outputs": [
    {
     "data": {
      "text/plain": [
       "[1, 2, 3, 8, 9, 10]"
      ]
     },
     "execution_count": 36,
     "metadata": {},
     "output_type": "execute_result"
    }
   ],
   "source": [
    "sorted(t)"
   ]
  },
  {
   "cell_type": "code",
   "execution_count": 37,
   "id": "d6f13bd3-5ec9-404f-b9d2-653d7f8f011e",
   "metadata": {},
   "outputs": [
    {
     "data": {
      "text/plain": [
       "[1, 2, 3, 8, 9, 10]"
      ]
     },
     "execution_count": 37,
     "metadata": {},
     "output_type": "execute_result"
    }
   ],
   "source": [
    "# returns a list\n",
    "sorted(s)"
   ]
  },
  {
   "cell_type": "code",
   "execution_count": 38,
   "id": "e8be165e-3a5e-4053-ae3e-87d63a5ffc87",
   "metadata": {},
   "outputs": [
    {
     "data": {
      "text/plain": [
       "[10, 9, 8, 3, 2, 1]"
      ]
     },
     "execution_count": 38,
     "metadata": {},
     "output_type": "execute_result"
    }
   ],
   "source": [
    "sorted(l, reverse=True)"
   ]
  },
  {
   "cell_type": "code",
   "execution_count": 39,
   "id": "fd796e8a-9b03-4cc2-b385-89ad368e69fa",
   "metadata": {},
   "outputs": [
    {
     "data": {
      "text/plain": [
       "\u001b[0;31mSignature:\u001b[0m \u001b[0msorted\u001b[0m\u001b[0;34m(\u001b[0m\u001b[0miterable\u001b[0m\u001b[0;34m,\u001b[0m \u001b[0;34m/\u001b[0m\u001b[0;34m,\u001b[0m \u001b[0;34m*\u001b[0m\u001b[0;34m,\u001b[0m \u001b[0mkey\u001b[0m\u001b[0;34m=\u001b[0m\u001b[0;32mNone\u001b[0m\u001b[0;34m,\u001b[0m \u001b[0mreverse\u001b[0m\u001b[0;34m=\u001b[0m\u001b[0;32mFalse\u001b[0m\u001b[0;34m)\u001b[0m\u001b[0;34m\u001b[0m\u001b[0;34m\u001b[0m\u001b[0m\n",
       "\u001b[0;31mDocstring:\u001b[0m\n",
       "Return a new list containing all items from the iterable in ascending order.\n",
       "\n",
       "A custom key function can be supplied to customize the sort order, and the\n",
       "reverse flag can be set to request the result in descending order.\n",
       "\u001b[0;31mType:\u001b[0m      builtin_function_or_method"
      ]
     },
     "metadata": {},
     "output_type": "display_data"
    }
   ],
   "source": [
    "?sorted"
   ]
  },
  {
   "cell_type": "code",
   "execution_count": null,
   "id": "67a9d61e-66cc-4782-a7b7-fcd0c168bd6e",
   "metadata": {},
   "outputs": [],
   "source": [
    "# '/' means args before '/' must be positional, not keyword.\n",
    "# '*' means args after '*' must be keyword, not positional.\n",
    "sorted(iterable,/,*,key=None, reverse=False)"
   ]
  },
  {
   "cell_type": "code",
   "execution_count": 42,
   "id": "365c63e9-7610-4be6-8a67-e524df54500f",
   "metadata": {},
   "outputs": [
    {
     "data": {
      "text/plain": [
       "['-', '.', 'A', 'A', 'B', 'B', 'B', '_', 'a', 'c', 'd', 'd', 'e', 'h', 't']"
      ]
     },
     "execution_count": 42,
     "metadata": {},
     "output_type": "execute_result"
    }
   ],
   "source": [
    "sorted('thadcedAA.-_BBB')"
   ]
  },
  {
   "cell_type": "code",
   "execution_count": 50,
   "id": "4fb3727a-d9a0-4b55-b69b-b2b94afb9530",
   "metadata": {},
   "outputs": [
    {
     "data": {
      "text/plain": [
       "['Zebra', 'apple', 'orangge']"
      ]
     },
     "execution_count": 50,
     "metadata": {},
     "output_type": "execute_result"
    }
   ],
   "source": [
    "# order of chars\n",
    "sorted(['orangge','Zebra', 'apple'] )"
   ]
  },
  {
   "cell_type": "code",
   "execution_count": 51,
   "id": "0c7a1dbd-5a3c-41a1-926c-c0dd31f62740",
   "metadata": {},
   "outputs": [
    {
     "data": {
      "text/plain": [
       "['aa', 'apple', 'thththZz']"
      ]
     },
     "execution_count": 51,
     "metadata": {},
     "output_type": "execute_result"
    }
   ],
   "source": [
    "\n",
    "sorted(['aa','thththZz', 'apple'], key=lambda a: len(a) )"
   ]
  },
  {
   "cell_type": "code",
   "execution_count": 54,
   "id": "8a906249-c5e7-4b03-ae05-91a8bd8f5b1b",
   "metadata": {},
   "outputs": [
    {
     "data": {
      "text/plain": [
       "1"
      ]
     },
     "execution_count": 54,
     "metadata": {},
     "output_type": "execute_result"
    }
   ],
   "source": [
    "# sorts and gets the first element\n",
    "min([99,88,1,33])"
   ]
  },
  {
   "cell_type": "code",
   "execution_count": 55,
   "id": "5439eb89-c396-45a2-9658-d35d70a5f065",
   "metadata": {},
   "outputs": [
    {
     "data": {
      "text/plain": [
       "0"
      ]
     },
     "execution_count": 55,
     "metadata": {},
     "output_type": "execute_result"
    }
   ],
   "source": [
    "# otherwise raises error\n",
    "min([], default=0)"
   ]
  },
  {
   "cell_type": "code",
   "execution_count": 56,
   "id": "dc951576-1097-48b2-8eab-95fe91dc574a",
   "metadata": {},
   "outputs": [
    {
     "data": {
      "text/plain": [
       "\u001b[0;31mDocstring:\u001b[0m\n",
       "min(iterable, *[, default=obj, key=func]) -> value\n",
       "min(arg1, arg2, *args, *[, key=func]) -> value\n",
       "\n",
       "With a single iterable argument, return its smallest item. The\n",
       "default keyword-only argument specifies an object to return if\n",
       "the provided iterable is empty.\n",
       "With two or more positional arguments, return the smallest argument.\n",
       "\u001b[0;31mType:\u001b[0m      builtin_function_or_method"
      ]
     },
     "metadata": {},
     "output_type": "display_data"
    }
   ],
   "source": [
    "?min"
   ]
  },
  {
   "cell_type": "code",
   "execution_count": 62,
   "id": "038bd7b5-3b28-4e67-bf82-0b09a497e176",
   "metadata": {},
   "outputs": [
    {
     "ename": "StopIteration",
     "evalue": "",
     "output_type": "error",
     "traceback": [
      "\u001b[0;31m---------------------------------------------------------------------------\u001b[0m",
      "\u001b[0;31mStopIteration\u001b[0m                             Traceback (most recent call last)",
      "Cell \u001b[0;32mIn[62], line 9\u001b[0m\n\u001b[1;32m      7\u001b[0m \u001b[38;5;28mnext\u001b[39m(res)\n\u001b[1;32m      8\u001b[0m \u001b[38;5;28mnext\u001b[39m(res)\n\u001b[0;32m----> 9\u001b[0m \u001b[38;5;28;43mnext\u001b[39;49m\u001b[43m(\u001b[49m\u001b[43mres\u001b[49m\u001b[43m)\u001b[49m\n",
      "\u001b[0;31mStopIteration\u001b[0m: "
     ]
    }
   ],
   "source": [
    "# zip  - iterate over two or more iterable \n",
    "l = [1,2,3,4,5]\n",
    "t = (10,20)\n",
    "\n",
    "# returns iterator - has next method\n",
    "res = zip(l,t)\n",
    "next(res)\n",
    "next(res)"
   ]
  },
  {
   "cell_type": "code",
   "execution_count": 63,
   "id": "0cde0c68-a163-4984-8d43-1bb66ec45c95",
   "metadata": {},
   "outputs": [
    {
     "data": {
      "text/plain": [
       "[(1, 10), (2, 20)]"
      ]
     },
     "execution_count": 63,
     "metadata": {},
     "output_type": "execute_result"
    }
   ],
   "source": [
    "list(zip(l,t))"
   ]
  },
  {
   "cell_type": "code",
   "execution_count": 2,
   "id": "40e6e732-3f0a-413b-93b4-dc600d9fadc5",
   "metadata": {},
   "outputs": [
    {
     "data": {
      "text/plain": [
       "0.00019621899991761893"
      ]
     },
     "execution_count": 2,
     "metadata": {},
     "output_type": "execute_result"
    }
   ],
   "source": [
    "from time import perf_counter\n",
    "start = perf_counter()\n",
    "l1 = range(100_000_000_000)\n",
    "end = perf_counter()\n",
    "end - start"
   ]
  },
  {
   "cell_type": "code",
   "execution_count": 11,
   "id": "42a491ff-9b53-4ffb-a1c5-65f605c0f117",
   "metadata": {},
   "outputs": [
    {
     "data": {
      "text/plain": [
       "{'a': 1, 'b': 2, 'c': 3, 'd': 4}"
      ]
     },
     "execution_count": 11,
     "metadata": {},
     "output_type": "execute_result"
    }
   ],
   "source": [
    "t1 = 'a','b','c','d'\n",
    "l1 = 1,2,3,4\n",
    "res = list(zip(t1,l1))\n",
    "dict(res)"
   ]
  },
  {
   "cell_type": "code",
   "execution_count": 19,
   "id": "0f159dd8-e552-4a1b-a018-163e08844c79",
   "metadata": {},
   "outputs": [],
   "source": [
    "schema = ('widget', 'num_sold', 'unit_price')\n",
    "data = [\n",
    " # widget, num_solf, unit_price\n",
    "    ('item1', 10, 100.0),\n",
    "    ('item2', 5, 25.0),\n",
    "    ('item3', 100, 0.25)\n",
    "]\n",
    "# transform above to below\n",
    "d = {\n",
    "    'item1': {'num_sold': 10, 'unit_price': 100},\n",
    "    'item2': {'num_sold': 5, 'unit_price': 25.0},\n",
    "    'item3': {'num_sold': 100, 'unit_price': 0.25}\n",
    "}\n",
    "\n",
    "dd = {row[0]: dict(zip(schema[1:],row[1:]))  for row in data}"
   ]
  },
  {
   "cell_type": "code",
   "execution_count": 21,
   "id": "40ba98b7-5661-4b5e-add3-64cc73c04b30",
   "metadata": {},
   "outputs": [
    {
     "name": "stdout",
     "output_type": "stream",
     "text": [
      "{'item1': {'num_sold': 10, 'unit_price': 100.0},\n",
      " 'item2': {'num_sold': 5, 'unit_price': 25.0},\n",
      " 'item3': {'num_sold': 100, 'unit_price': 0.25}}\n"
     ]
    }
   ],
   "source": [
    "from pprint import pprint\n",
    "pprint(dd)\n"
   ]
  },
  {
   "cell_type": "code",
   "execution_count": null,
   "id": "cfe433a9-6a3c-45a3-a07b-05b87d0111e8",
   "metadata": {},
   "outputs": [],
   "source": []
  }
 ],
 "metadata": {
  "kernelspec": {
   "display_name": "Python 3 (ipykernel)",
   "language": "python",
   "name": "python3"
  },
  "language_info": {
   "codemirror_mode": {
    "name": "ipython",
    "version": 3
   },
   "file_extension": ".py",
   "mimetype": "text/x-python",
   "name": "python",
   "nbconvert_exporter": "python",
   "pygments_lexer": "ipython3",
   "version": "3.13.0"
  }
 },
 "nbformat": 4,
 "nbformat_minor": 5
}
