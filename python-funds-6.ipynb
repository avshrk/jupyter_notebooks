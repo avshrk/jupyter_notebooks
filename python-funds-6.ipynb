{
 "cells": [
  {
   "cell_type": "markdown",
   "id": "f0a587a5-3fd0-4bf1-945b-99e9315ac85f",
   "metadata": {},
   "source": [
    "# Decorators"
   ]
  },
  {
   "cell_type": "markdown",
   "id": "5261f801-9dce-4e94-a4c6-ba0994210ab7",
   "metadata": {},
   "source": [
    "- Extend behaviour by wraping a functionality around existing function\n",
    "- utilizes closures\n",
    "- use case eg: logging for given function\n"
   ]
  },
  {
   "cell_type": "code",
   "execution_count": null,
   "id": "a9765f64-aa2e-4eba-8e3e-3050de45f77e",
   "metadata": {},
   "outputs": [],
   "source": [
    "# basic decorator pattern\n",
    "\n",
    "def wrapper(func):\n",
    "    def inner(*args, **kwargs):\n",
    "        return func(*args, **kwargs)\n",
    "    return inner"
   ]
  },
  {
   "cell_type": "code",
   "execution_count": 31,
   "id": "25722df9-7c38-4d85-b5c4-eaa677c9565b",
   "metadata": {},
   "outputs": [
    {
     "name": "stdout",
     "output_type": "stream",
     "text": [
      "original add address\n",
      "0x72f9a6b2b9c0\n",
      "\n",
      "new add address\n",
      "0x72f9a6b2b600\n",
      "\n",
      "current add object has reference to original add object\n",
      "(<cell at 0x72f9ac106fe0: function object at 0x72f9a6b2b9c0>,)\n",
      "\n",
      "result of add\n",
      "add\n"
     ]
    },
    {
     "data": {
      "text/plain": [
       "6"
      ]
     },
     "execution_count": 31,
     "metadata": {},
     "output_type": "execute_result"
    }
   ],
   "source": [
    "def add(a,b,c):\n",
    "    return a + b + c\n",
    "\n",
    "# same as greet = log(greet)\n",
    "@log\n",
    "def greet(name):    \n",
    "    return f'hello {name}'\n",
    "@log\n",
    "def join(data, *, item_sep=',', line_sep='\\n'):    \n",
    "    return line_sep.join(\n",
    "        [\n",
    "            item_sep.join(str(item) for item in row)\n",
    "            for row in data\n",
    "        ]\n",
    "    )\n",
    "\n",
    "def log(func):\n",
    "    def inner(*args, **kwargs):\n",
    "        print(f'{func.__name__}')\n",
    "        return func(*args, **kwargs)\n",
    "    return inner\n",
    "print('original add address') \n",
    "print(hex(id(add)))\n",
    "add = log(add)\n",
    "\n",
    "\n",
    "print()\n",
    "print('new add address') \n",
    "print(hex(id(add)))\n",
    "print()\n",
    "print('current add object has reference to original add object')\n",
    "print(f'{add.__closure__}')\n",
    "print()\n",
    "print('result of add')\n",
    "add(1,2,3)   "
   ]
  },
  {
   "cell_type": "code",
   "execution_count": 30,
   "id": "b3b4d692-60cb-46b3-86ad-3b8f8263e9d4",
   "metadata": {},
   "outputs": [
    {
     "name": "stdout",
     "output_type": "stream",
     "text": [
      "greet\n"
     ]
    },
    {
     "data": {
      "text/plain": [
       "'hello bob'"
      ]
     },
     "execution_count": 30,
     "metadata": {},
     "output_type": "execute_result"
    }
   ],
   "source": [
    "# same as: \n",
    "# greet = log(greet)\n",
    "\n",
    "greet('bob')"
   ]
  },
  {
   "cell_type": "code",
   "execution_count": 32,
   "id": "093f7ebd-2fc1-422b-ab61-626e8e8ac71b",
   "metadata": {},
   "outputs": [
    {
     "name": "stdout",
     "output_type": "stream",
     "text": [
      "join\n"
     ]
    },
    {
     "data": {
      "text/plain": [
       "'1,2\\n3,4'"
      ]
     },
     "execution_count": 32,
     "metadata": {},
     "output_type": "execute_result"
    }
   ],
   "source": [
    "d = [[1,2], [3,4]]\n",
    "join(d)"
   ]
  },
  {
   "cell_type": "code",
   "execution_count": 35,
   "id": "59c5a69e-ce07-4c88-87a8-6047f1bc1ea3",
   "metadata": {},
   "outputs": [
    {
     "name": "stderr",
     "output_type": "stream",
     "text": [
      "2024-12-19 12:08:55,161 DEBUG: debug message\n",
      "2024-12-19 12:08:55,164 ERROR: error message\n",
      "2024-12-19 12:08:55,168 WARNING: warning message\n"
     ]
    }
   ],
   "source": [
    "import logging\n",
    "\n",
    "logging.basicConfig(\n",
    "    format='%(asctime)s %(levelname)s: %(message)s',\n",
    "    level=logging.DEBUG\n",
    ")\n",
    "logger = logging.getLogger('Custom Log')\n",
    "logger.debug('debug message')\n",
    "\n",
    "logger.error('error message')\n",
    "logger.warning('warning message')\n",
    "\n"
   ]
  },
  {
   "cell_type": "code",
   "execution_count": 36,
   "id": "49343d60-065f-4d57-8313-b9849990b61e",
   "metadata": {},
   "outputs": [],
   "source": [
    "from time import perf_counter\n",
    "\n",
    "def log(func):\n",
    "    def inner(*args, **kwargs):\n",
    "        start = perf_counter()\n",
    "        result = func(*args, **kwargs)\n",
    "        end = perf_counter()\n",
    "        logger.debug(f'called={func.__name__}, elapsed={end - start}')\n",
    "        return result\n",
    "    return inner\n",
    "\n",
    "@log\n",
    "def add(a,b,c):\n",
    "    return a + b + c"
   ]
  },
  {
   "cell_type": "code",
   "execution_count": 38,
   "id": "736c920e-8346-4485-a0e3-8600274f423a",
   "metadata": {},
   "outputs": [
    {
     "name": "stderr",
     "output_type": "stream",
     "text": [
      "2024-12-19 12:11:41,664 DEBUG: called=add, elapsed=1.9930012058466673e-06\n"
     ]
    },
    {
     "data": {
      "text/plain": [
       "9"
      ]
     },
     "execution_count": 38,
     "metadata": {},
     "output_type": "execute_result"
    }
   ],
   "source": [
    "add(2,3,4)"
   ]
  },
  {
   "cell_type": "markdown",
   "id": "07e51f15-1a9b-4886-9480-8f91e4b45f27",
   "metadata": {},
   "source": [
    "## LRU Caching\n",
    "- Least Recently Used Caching\n",
    "- Least used gets removed from data when capacity is reached\n",
    "- Properties:\n",
    "    - same set or arguments  \n",
    "    - deterministic function, returns the same result for given args\n",
    "    - recalculating is costly"
   ]
  },
  {
   "cell_type": "markdown",
   "id": "c09b4074-ea8f-48fc-a3df-da79aaa8d90c",
   "metadata": {},
   "source": [
    "## Implementing LRU caching with decorators\n",
    "- Already exists in python library: `lru_cache`"
   ]
  },
  {
   "cell_type": "code",
   "execution_count": null,
   "id": "c98545d8-24a2-4204-8fb1-0c379f4f41a1",
   "metadata": {},
   "outputs": [],
   "source": [
    "from functools import lru_cache\n",
    "\n",
    "@lru_cache(maxsize=20)\n",
    "def my_func(a,b):\n",
    "    pass"
   ]
  },
  {
   "cell_type": "code",
   "execution_count": null,
   "id": "8473bbdb-538e-4084-b32f-1ea2a8c30194",
   "metadata": {},
   "outputs": [],
   "source": [
    "# Basic template\n",
    "cache = {}\n",
    "def func(a,b,c):\n",
    "    key = (a,b,c)\n",
    "    if key in cache:\n",
    "        return cache[key]\n",
    "    # if not cached, calculate and cache\n",
    "    # result = some calculations\n",
    "    cache[key] = result\n",
    "    return result"
   ]
  },
  {
   "cell_type": "code",
   "execution_count": null,
   "id": "5b9f5cb9-b66d-4d80-97e6-21df12a200b2",
   "metadata": {},
   "outputs": [],
   "source": [
    "# LRU cache implementation\n",
    "# no storage limit "
   ]
  },
  {
   "cell_type": "code",
   "execution_count": 47,
   "id": "7d3b31f4-6ebb-482a-9b95-33b215dd569d",
   "metadata": {},
   "outputs": [
    {
     "name": "stdout",
     "output_type": "stream",
     "text": [
      "initilizing cache\n",
      "initilizing cache\n"
     ]
    }
   ],
   "source": [
    "cache_dict = {}\n",
    "\n",
    "def cache(func):\n",
    "    print('initilizing cache')\n",
    "    cache_dict = {}\n",
    "    def inner(*args):\n",
    "        if args in cache_dict:\n",
    "            print('hit')\n",
    "            return cache_dict[args]\n",
    "        print('miss')\n",
    "        result = func(*args)\n",
    "        cache_dict[args] = result\n",
    "        return result\n",
    "    return inner\n",
    "\n",
    "@cache    \n",
    "def add(*args):\n",
    "    total = 0\n",
    "    for i in args:\n",
    "        total += i\n",
    "    return total \n",
    "    \n",
    "@cache\n",
    "def mul(*args):\n",
    "    prod = 0\n",
    "    for p in args:\n",
    "        prod *= p\n",
    "    return prod "
   ]
  },
  {
   "cell_type": "code",
   "execution_count": 48,
   "id": "2228f2fc-7d9e-4982-a284-935d594d82aa",
   "metadata": {},
   "outputs": [
    {
     "name": "stdout",
     "output_type": "stream",
     "text": [
      "miss\n",
      "hit\n"
     ]
    },
    {
     "data": {
      "text/plain": [
       "10"
      ]
     },
     "execution_count": 48,
     "metadata": {},
     "output_type": "execute_result"
    }
   ],
   "source": [
    "add(1,2,3,4)    \n",
    "add(1,2,3,4)    "
   ]
  },
  {
   "cell_type": "code",
   "execution_count": 49,
   "id": "036a4a25-75f7-46e7-afd9-130d3811f7a6",
   "metadata": {},
   "outputs": [
    {
     "name": "stdout",
     "output_type": "stream",
     "text": [
      "miss\n"
     ]
    },
    {
     "data": {
      "text/plain": [
       "0"
      ]
     },
     "execution_count": 49,
     "metadata": {},
     "output_type": "execute_result"
    }
   ],
   "source": [
    "mul(1,2,3)"
   ]
  },
  {
   "cell_type": "code",
   "execution_count": 50,
   "id": "af96d4a9-5a16-4b59-962e-2e655f0bf223",
   "metadata": {},
   "outputs": [
    {
     "name": "stdout",
     "output_type": "stream",
     "text": [
      "hit\n"
     ]
    },
    {
     "data": {
      "text/plain": [
       "0"
      ]
     },
     "execution_count": 50,
     "metadata": {},
     "output_type": "execute_result"
    }
   ],
   "source": [
    "mul(1,2,3)"
   ]
  },
  {
   "cell_type": "code",
   "execution_count": 52,
   "id": "ca37bb30-67ed-4977-91f1-9e4b5c090314",
   "metadata": {},
   "outputs": [
    {
     "name": "stdout",
     "output_type": "stream",
     "text": [
      "add called...\n"
     ]
    },
    {
     "data": {
      "text/plain": [
       "5"
      ]
     },
     "execution_count": 52,
     "metadata": {},
     "output_type": "execute_result"
    }
   ],
   "source": [
    "from functools import lru_cache\n",
    "\n",
    "@lru_cache(maxsize=2)\n",
    "def add(a,b):\n",
    "    print('add called...')\n",
    "    return a + b\n",
    "\n",
    "add(2,3)    \n",
    "add(2,3)    "
   ]
  },
  {
   "cell_type": "code",
   "execution_count": 53,
   "id": "9e7572c8-40df-4269-9381-66d429ca758d",
   "metadata": {},
   "outputs": [
    {
     "data": {
      "text/plain": [
       "5"
      ]
     },
     "execution_count": 53,
     "metadata": {},
     "output_type": "execute_result"
    }
   ],
   "source": [
    "add(2,3)    "
   ]
  },
  {
   "cell_type": "code",
   "execution_count": 55,
   "id": "abc116c0-dfe7-4271-945a-b98ae11f2fd9",
   "metadata": {},
   "outputs": [
    {
     "name": "stdout",
     "output_type": "stream",
     "text": [
      "add called...\n"
     ]
    },
    {
     "data": {
      "text/plain": [
       "1"
      ]
     },
     "execution_count": 55,
     "metadata": {},
     "output_type": "execute_result"
    }
   ],
   "source": [
    "add(-3,4)"
   ]
  },
  {
   "cell_type": "code",
   "execution_count": 56,
   "id": "cae536a9-30b4-496c-9f93-13a065fe6b7f",
   "metadata": {},
   "outputs": [
    {
     "name": "stdout",
     "output_type": "stream",
     "text": [
      "add called...\n"
     ]
    },
    {
     "data": {
      "text/plain": [
       "13"
      ]
     },
     "execution_count": 56,
     "metadata": {},
     "output_type": "execute_result"
    }
   ],
   "source": [
    "add(4,9)"
   ]
  },
  {
   "cell_type": "code",
   "execution_count": 72,
   "id": "ea08e790-a4bb-4f63-986f-180540b5f017",
   "metadata": {},
   "outputs": [
    {
     "name": "stdout",
     "output_type": "stream",
     "text": [
      "fib(10) called\n",
      "fib(9) called\n",
      "fib(8) called\n",
      "fib(7) called\n",
      "fib(6) called\n",
      "fib(5) called\n",
      "fib(4) called\n",
      "fib(3) called\n",
      "fib(2) called\n",
      "fib(1) called\n",
      "fib(0) called\n"
     ]
    },
    {
     "data": {
      "text/plain": [
       "55"
      ]
     },
     "execution_count": 72,
     "metadata": {},
     "output_type": "execute_result"
    }
   ],
   "source": [
    "@lru_cache(maxsize=3)\n",
    "def fib(n):\n",
    "    print(f'fib({n}) called')\n",
    "    if n <= 1:\n",
    "        return n\n",
    "    return fib(n-1) + fib(n-2)\n",
    "\n",
    "\n",
    "fib(10)    "
   ]
  },
  {
   "cell_type": "markdown",
   "id": "af8552e5-5f1d-410e-8498-3cd3ae7e38f0",
   "metadata": {},
   "source": [
    "## Modules and Packages\n",
    "- load modules and packages with `import`\n",
    "- packages are nested modules\n",
    "- modules are objects\n",
    "- `import` loads and assign to symbol"
   ]
  },
  {
   "cell_type": "code",
   "execution_count": null,
   "id": "d49bbe7b-c593-45c5-ba63-c96876f570a7",
   "metadata": {},
   "outputs": [],
   "source": [
    "# imports math and assigns the module to math symbol - naming to itself\n",
    "import math\n",
    "\n",
    "# aliasing\n",
    "import math as mt"
   ]
  },
  {
   "cell_type": "code",
   "execution_count": null,
   "id": "8e2a9371-5e13-4fa2-bd7e-59289b97b7c9",
   "metadata": {},
   "outputs": [],
   "source": [
    "# Basic imports"
   ]
  },
  {
   "cell_type": "code",
   "execution_count": 3,
   "id": "509c37b2-e40c-4e25-860f-04588019c56e",
   "metadata": {},
   "outputs": [
    {
     "name": "stdout",
     "output_type": "stream",
     "text": [
      "Help on built-in function factorial in module math:\n",
      "\n",
      "factorial(n, /)\n",
      "    Find n!.\n",
      "\n",
      "    Raise a ValueError if x is negative or non-integral.\n",
      "\n"
     ]
    }
   ],
   "source": [
    "# math becomes a symbol in our current context\n",
    "# https://docs.python.org/3/library/math.html\n",
    "import math\n",
    "\n",
    "# to get info within notebook\n",
    "# help(math)\n",
    "\n",
    "help(math.factorial)\n",
    "# '/' means all the arguments comes before '/' must be positional - can not be keyword"
   ]
  },
  {
   "cell_type": "code",
   "execution_count": null,
   "id": "83d6fa04-f7e2-494c-8a8b-967223570e40",
   "metadata": {},
   "outputs": [],
   "source": [
    "# for complex numbers us cmath module\n",
    "import cmath"
   ]
  },
  {
   "cell_type": "code",
   "execution_count": null,
   "id": "a89d202c-06a4-4e17-abaa-8a7efc648059",
   "metadata": {},
   "outputs": [],
   "source": [
    "# importing: loading, compiling and providing reference to that module object"
   ]
  },
  {
   "cell_type": "code",
   "execution_count": 8,
   "id": "11060857-935a-4d6e-893d-d6b8a99ad274",
   "metadata": {},
   "outputs": [
    {
     "data": {
      "text/plain": [
       "(Fraction(1, 2), Fraction(1, 4))"
      ]
     },
     "execution_count": 8,
     "metadata": {},
     "output_type": "execute_result"
    }
   ],
   "source": [
    "# Modules may also contains data structures\n",
    "import fractions\n",
    "f1 = fractions.Fraction(1,2)\n",
    "f2 = fractions.Fraction(1,4)\n",
    "f1, f2"
   ]
  },
  {
   "cell_type": "code",
   "execution_count": 10,
   "id": "ad98c1e7-e274-40b4-917b-6e022619b031",
   "metadata": {},
   "outputs": [
    {
     "data": {
      "text/plain": [
       "Fraction(3, 4)"
      ]
     },
     "execution_count": 10,
     "metadata": {},
     "output_type": "execute_result"
    }
   ],
   "source": [
    "# adding two fractions\n",
    "f1 + f2"
   ]
  },
  {
   "cell_type": "code",
   "execution_count": null,
   "id": "8ed980b5-2a7d-4a92-adf8-8dbfe676b7ae",
   "metadata": {},
   "outputs": [],
   "source": [
    "# Import variations\n",
    "\n",
    "from fractions import Fraction\n",
    "f1 = Fraction\n",
    "\n",
    "from math import sqrt, pi, factorial\n"
   ]
  },
  {
   "cell_type": "code",
   "execution_count": 11,
   "id": "3c5a1062-e099-4c02-b419-49df33f79a8c",
   "metadata": {},
   "outputs": [
    {
     "data": {
      "text/plain": [
       "2.0"
      ]
     },
     "execution_count": 11,
     "metadata": {},
     "output_type": "execute_result"
    }
   ],
   "source": [
    "import math\n",
    "import random as rnd\n",
    "from math import sqrt\n",
    "sqrt(4)"
   ]
  },
  {
   "cell_type": "code",
   "execution_count": 12,
   "id": "75c58f06-5c95-472f-943b-f6f825ef6ea5",
   "metadata": {},
   "outputs": [
    {
     "data": {
      "text/plain": [
       "8.2"
      ]
     },
     "execution_count": 12,
     "metadata": {},
     "output_type": "execute_result"
    }
   ],
   "source": [
    "# Math module\n",
    "sum([1.2,3,4])"
   ]
  },
  {
   "cell_type": "code",
   "execution_count": 15,
   "id": "baafe826-eeaf-4f26-82bb-b8435c199791",
   "metadata": {},
   "outputs": [
    {
     "data": {
      "text/plain": [
       "[0.1, 0.1, 0.1, 0.1, 0.1, 0.1, 0.1, 0.1, 0.1, 0.1]"
      ]
     },
     "execution_count": 15,
     "metadata": {},
     "output_type": "execute_result"
    }
   ],
   "source": [
    "values = [0.1] * 10\n",
    "values"
   ]
  },
  {
   "cell_type": "code",
   "execution_count": 22,
   "id": "7726344f-2af8-4d89-b9a3-0a66fc6c3fc8",
   "metadata": {},
   "outputs": [
    {
     "data": {
      "text/plain": [
       "'1.00000000000000000000'"
      ]
     },
     "execution_count": 22,
     "metadata": {},
     "output_type": "execute_result"
    }
   ],
   "source": [
    "# reduces compounding float errors\n",
    "format(math.fsum(values), '.20f')"
   ]
  },
  {
   "cell_type": "code",
   "execution_count": null,
   "id": "5e5dd21b-9322-462c-b5ba-b56830279eba",
   "metadata": {},
   "outputs": [],
   "source": []
  }
 ],
 "metadata": {
  "kernelspec": {
   "display_name": "Python 3 (ipykernel)",
   "language": "python",
   "name": "python3"
  },
  "language_info": {
   "codemirror_mode": {
    "name": "ipython",
    "version": 3
   },
   "file_extension": ".py",
   "mimetype": "text/x-python",
   "name": "python",
   "nbconvert_exporter": "python",
   "pygments_lexer": "ipython3",
   "version": "3.13.0"
  }
 },
 "nbformat": 4,
 "nbformat_minor": 5
}
