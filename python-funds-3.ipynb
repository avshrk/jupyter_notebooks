{
 "cells": [
  {
   "cell_type": "code",
   "execution_count": 2,
   "id": "e11cd97f-8f48-4434-be04-029b7bf9a1a8",
   "metadata": {},
   "outputs": [],
   "source": [
    "# list Comprehensions\n",
    "\n",
    "vectors = [(0,0), (0,1),(1,0),(1,1)]\n",
    "from math import sqrt"
   ]
  },
  {
   "cell_type": "code",
   "execution_count": 12,
   "id": "b37e2e32-0696-46a3-915c-ff4c403737e3",
   "metadata": {},
   "outputs": [
    {
     "data": {
      "text/plain": [
       "2.0960705110046547"
      ]
     },
     "execution_count": 12,
     "metadata": {},
     "output_type": "execute_result"
    }
   ],
   "source": [
    "magnitudes = []\n",
    "\n",
    "from time import perf_counter\n",
    "\n",
    "start = perf_counter()\n",
    "\n",
    "for i in range(1_000_000):\n",
    "    for v in vectors:\n",
    "        magnitude = sqrt(v[0] ** 2 + v[1] ** 2)\n",
    "        magnitudes.append(magnitude)\n",
    "    end = perf_counter()\n",
    "    \n",
    "end - start"
   ]
  },
  {
   "cell_type": "code",
   "execution_count": 13,
   "id": "2ab669b8-b032-4492-845c-9143463902b2",
   "metadata": {},
   "outputs": [
    {
     "data": {
      "text/plain": [
       "1.4395219370053383"
      ]
     },
     "execution_count": 13,
     "metadata": {},
     "output_type": "execute_result"
    }
   ],
   "source": [
    "# with list comprehensions\n",
    "start = perf_counter()\n",
    "for i in range(1_000_000):\n",
    "    magnitudes = [ sqrt(v[0] ** 2 + v[1] ** 2) for v in vectors]\n",
    "end = perf_counter()\n",
    "end - start\n"
   ]
  },
  {
   "cell_type": "code",
   "execution_count": 16,
   "id": "64707206-98b5-4246-9cea-cf0241d437f5",
   "metadata": {},
   "outputs": [
    {
     "data": {
      "text/plain": [
       "['Python', 'awsome', 'language']"
      ]
     },
     "execution_count": 16,
     "metadata": {},
     "output_type": "execute_result"
    }
   ],
   "source": [
    "st = 'Python is an awsome language'.split(' ')\n",
    "\n",
    "filtered = []\n",
    "for i in st:\n",
    "    if len(i) > 4:\n",
    "        filtered.append(i)\n",
    "filtered        \n",
    "    "
   ]
  },
  {
   "cell_type": "code",
   "execution_count": 18,
   "id": "26aa02a5-7b9d-4e6d-bef8-cb77c38253c3",
   "metadata": {},
   "outputs": [
    {
     "data": {
      "text/plain": [
       "['Python', 'awsome', 'language']"
      ]
     },
     "execution_count": 18,
     "metadata": {},
     "output_type": "execute_result"
    }
   ],
   "source": [
    "[ i for i in st if len(i) > 4 ]"
   ]
  },
  {
   "cell_type": "code",
   "execution_count": 21,
   "id": "2f47aaac-2d7f-4e9f-a9ad-45c934ad7d04",
   "metadata": {},
   "outputs": [
    {
     "data": {
      "text/plain": [
       "['w2', 'w3']"
      ]
     },
     "execution_count": 21,
     "metadata": {},
     "output_type": "execute_result"
    }
   ],
   "source": [
    "sales = {\n",
    "    'w1':0,\n",
    "    'w2': 5,\n",
    "    'w3': 10,\n",
    "    'w4': 2 }\n",
    "\n",
    "high_sales = [ k for k,v in sales.items() if v > 4]\n",
    "high_sales"
   ]
  },
  {
   "cell_type": "code",
   "execution_count": 25,
   "id": "c1d464ff-87f4-4ab5-a691-ca00c5b61998",
   "metadata": {},
   "outputs": [
    {
     "data": {
      "text/plain": [
       "True"
      ]
     },
     "execution_count": 25,
     "metadata": {},
     "output_type": "execute_result"
    }
   ],
   "source": [
    "# creating matrix\n",
    "m = [[0] *3 ] * 3\n",
    "m[0] is m[1]  # reference to the same list"
   ]
  },
  {
   "cell_type": "code",
   "execution_count": 27,
   "id": "47cb2299-c2e7-474d-9afa-06c277e15261",
   "metadata": {},
   "outputs": [
    {
     "data": {
      "text/plain": [
       "[[1, 0, 0], [1, 0, 0], [1, 0, 0]]"
      ]
     },
     "execution_count": 27,
     "metadata": {},
     "output_type": "execute_result"
    }
   ],
   "source": [
    "m[0][0] = 1\n",
    "m # gets duplicated"
   ]
  },
  {
   "cell_type": "code",
   "execution_count": 34,
   "id": "bf895d47-d42e-415b-a205-700c5f8a6fc2",
   "metadata": {},
   "outputs": [
    {
     "data": {
      "text/plain": [
       "False"
      ]
     },
     "execution_count": 34,
     "metadata": {},
     "output_type": "execute_result"
    }
   ],
   "source": [
    "#better alternative\n",
    "m = [[0] * 3 for _row in range(3)]\n",
    "m[0] is m[1] # not referencing to the same list"
   ]
  },
  {
   "cell_type": "code",
   "execution_count": 32,
   "id": "2f42e4b5-7cec-4a5e-bd35-07267d5d5c88",
   "metadata": {},
   "outputs": [
    {
     "data": {
      "text/plain": [
       "[[1, 0, 0], [0, 0, 0], [0, 0, 0]]"
      ]
     },
     "execution_count": 32,
     "metadata": {},
     "output_type": "execute_result"
    }
   ],
   "source": [
    "m[0][0] = 1\n",
    "m # does not get duplicated"
   ]
  },
  {
   "cell_type": "code",
   "execution_count": 37,
   "id": "aabc2b5a-5916-4a93-8f7a-74b4f77caf43",
   "metadata": {},
   "outputs": [
    {
     "data": {
      "text/plain": [
       "[[1, 0, 0], [0, 1, 0], [0, 0, 1]]"
      ]
     },
     "execution_count": 37,
     "metadata": {},
     "output_type": "execute_result"
    }
   ],
   "source": [
    "# Create identity matrix with nested comprehension\n",
    "m = [\n",
    "    [ 1 if row == col else 0 for col in range(3)] \n",
    "    for row in range(3)\n",
    "]\n",
    "m"
   ]
  },
  {
   "cell_type": "code",
   "execution_count": 47,
   "id": "ca001b41-c614-4d03-b531-9ac80584cf10",
   "metadata": {},
   "outputs": [
    {
     "data": {
      "text/plain": [
       "{'w1': 10, 'w2': 5, 'w3': 0}"
      ]
     },
     "execution_count": 47,
     "metadata": {},
     "output_type": "execute_result"
    }
   ],
   "source": [
    "widget_sales =  [\n",
    "    {'name': 'w1', 'sales': 10},\n",
    "    {'name': 'w2', 'sales': 5},\n",
    "    {'name': 'w3', 'sales': 0}, ]\n",
    "\n",
    "sales_by_widget = {}\n",
    "sales_by_widget['b'] = 1\n",
    "sales_by_widget\n",
    "{ r['name']: r['sales'] for r in widget_sales}"
   ]
  },
  {
   "cell_type": "code",
   "execution_count": 49,
   "id": "c8e8b1cb-b4f8-4d8a-93ec-0563aaa71191",
   "metadata": {},
   "outputs": [
    {
     "data": {
      "text/plain": [
       "{'w1': 10, 'w2': 5}"
      ]
     },
     "execution_count": 49,
     "metadata": {},
     "output_type": "execute_result"
    }
   ],
   "source": [
    "# getting sales > 0\n",
    "{ r['name']: r['sales'] for r in widget_sales if r['sales'] > 0}"
   ]
  },
  {
   "cell_type": "code",
   "execution_count": 53,
   "id": "a06df179-fb52-40c4-bfbd-188793e80997",
   "metadata": {},
   "outputs": [
    {
     "data": {
      "text/plain": [
       "{'b': 5, 'c': 2, 'a': 4}"
      ]
     },
     "execution_count": 53,
     "metadata": {},
     "output_type": "execute_result"
    }
   ],
   "source": [
    "# count the frequency of letters\n",
    "data = ['a', 'a', 'a', 'a','b','b', 'b', 'b', 'b','c','c']  \n",
    "\n",
    "{ \n",
    "    el: len([char for char in data if char == el])\n",
    "    for el in set(data)\n",
    "}"
   ]
  },
  {
   "cell_type": "code",
   "execution_count": 55,
   "id": "2665c525-3384-44b9-9c14-e6d2f8f6d3f7",
   "metadata": {},
   "outputs": [
    {
     "data": {
      "text/plain": [
       "{'a': 4, 'b': 5, 'c': 2}"
      ]
     },
     "execution_count": 55,
     "metadata": {},
     "output_type": "execute_result"
    }
   ],
   "source": [
    "# other way to do it\n",
    "from collections import Counter\n",
    "freq = Counter(data)\n",
    "dict(freq)"
   ]
  },
  {
   "cell_type": "code",
   "execution_count": 68,
   "id": "2734a5e6-c8eb-4045-bece-7d43c253d9fd",
   "metadata": {},
   "outputs": [
    {
     "data": {
      "text/plain": [
       "{'l': 22,\n",
       " 'o': 29,\n",
       " 'r': 22,\n",
       " 'e': 38,\n",
       " 'm': 17,\n",
       " 'i': 42,\n",
       " 'p': 11,\n",
       " 's': 18,\n",
       " 'u': 29,\n",
       " 'd': 19,\n",
       " 't': 32,\n",
       " 'a': 29,\n",
       " 'c': 16,\n",
       " 'n': 24,\n",
       " 'g': 3,\n",
       " 'b': 3,\n",
       " 'q': 5,\n",
       " 'v': 3,\n",
       " 'x': 3,\n",
       " 'h': 1,\n",
       " 'f': 3}"
      ]
     },
     "execution_count": 68,
     "metadata": {},
     "output_type": "execute_result"
    }
   ],
   "source": [
    "parg = \"\"\"\n",
    "Lorem ipsum dolor sit amet, consectetur adipiscing elit, sed do eiusmod \n",
    "tempor incididunt ut labore et dolore magna aliqua. Ut enim ad minim \n",
    "veniam, quis nostrud exercitation ullamco laboris nisi ut aliquip ex ea \n",
    "commodo consequat. Duis aute irure dolor in reprehenderit in voluptate \n",
    "velit esse cillum dolore eu fugiat nulla pariatur. Excepteur sint \n",
    "occaecat cupidatat non proident, sunt in culpa qui officia deserunt \n",
    "mollit anim id est laborum.\n",
    "\"\"\"\n",
    "\n",
    "{\n",
    "    k: v  \n",
    "    for k,v in  Counter(parg.casefold()).items() \n",
    "    if k not in ',.\\n '\n",
    "}"
   ]
  },
  {
   "cell_type": "code",
   "execution_count": 69,
   "id": "675a5fc1-281f-46f4-9c91-7881469bcaf0",
   "metadata": {},
   "outputs": [
    {
     "ename": "ZeroDivisionError",
     "evalue": "division by zero",
     "output_type": "error",
     "traceback": [
      "\u001b[0;31m---------------------------------------------------------------------------\u001b[0m",
      "\u001b[0;31mZeroDivisionError\u001b[0m                         Traceback (most recent call last)",
      "Cell \u001b[0;32mIn[69], line 5\u001b[0m\n\u001b[1;32m      3\u001b[0m a \u001b[38;5;241m=\u001b[39m \u001b[38;5;241m1\u001b[39m\n\u001b[1;32m      4\u001b[0m b \u001b[38;5;241m=\u001b[39m \u001b[38;5;241m0\u001b[39m\n\u001b[0;32m----> 5\u001b[0m res \u001b[38;5;241m=\u001b[39m \u001b[38;5;241;43m1\u001b[39;49m\u001b[43m \u001b[49m\u001b[38;5;241;43m/\u001b[39;49m\u001b[43m \u001b[49m\u001b[38;5;241;43m0\u001b[39;49m\n",
      "\u001b[0;31mZeroDivisionError\u001b[0m: division by zero"
     ]
    }
   ],
   "source": [
    "# exceptions\n",
    "\n",
    "a = 1\n",
    "b = 0\n",
    "res = 1 / 0\n",
    "    "
   ]
  },
  {
   "cell_type": "code",
   "execution_count": 71,
   "id": "101db7a4-649f-441d-b1f5-beeda1ef96a5",
   "metadata": {},
   "outputs": [
    {
     "data": {
      "text/plain": [
       "ValueError"
      ]
     },
     "execution_count": 71,
     "metadata": {},
     "output_type": "execute_result"
    }
   ],
   "source": [
    "ex = ValueError('Name must be 5 chars long')\n",
    "type(ex)"
   ]
  },
  {
   "cell_type": "code",
   "execution_count": 72,
   "id": "1c8c214b-6a4b-495e-89ad-54cb7f2cd6d8",
   "metadata": {},
   "outputs": [
    {
     "data": {
      "text/plain": [
       "ValueError('Name must be 5 chars long')"
      ]
     },
     "execution_count": 72,
     "metadata": {},
     "output_type": "execute_result"
    }
   ],
   "source": [
    "ex"
   ]
  },
  {
   "cell_type": "code",
   "execution_count": 73,
   "id": "a55e7e05-7ed6-4b00-bb5a-727ae7c7522b",
   "metadata": {},
   "outputs": [
    {
     "data": {
      "text/plain": [
       "\"ValueError('Name must be 5 chars long')\""
      ]
     },
     "execution_count": 73,
     "metadata": {},
     "output_type": "execute_result"
    }
   ],
   "source": [
    "repr(ex)"
   ]
  },
  {
   "cell_type": "code",
   "execution_count": 74,
   "id": "476f3060-2e23-4a48-9bf5-fdaafa8a421e",
   "metadata": {},
   "outputs": [
    {
     "name": "stdout",
     "output_type": "stream",
     "text": [
      "Name must be 5 chars long\n"
     ]
    }
   ],
   "source": [
    "print(ex)"
   ]
  },
  {
   "cell_type": "code",
   "execution_count": 2,
   "id": "f98c5951-d3dd-46d7-8ab7-579f01a24fa6",
   "metadata": {},
   "outputs": [
    {
     "data": {
      "text/plain": [
       "'Name must be 5 chars long'"
      ]
     },
     "execution_count": 2,
     "metadata": {},
     "output_type": "execute_result"
    }
   ],
   "source": [
    "ex = ValueError('Name must be 5 chars long')\n",
    "str(ex)"
   ]
  },
  {
   "cell_type": "code",
   "execution_count": 3,
   "id": "110a7729-9cb6-4a90-ab14-127c6c5f1f6a",
   "metadata": {},
   "outputs": [
    {
     "ename": "ValueError",
     "evalue": "Name must be 5 chars long",
     "output_type": "error",
     "traceback": [
      "\u001b[0;31m---------------------------------------------------------------------------\u001b[0m",
      "\u001b[0;31mValueError\u001b[0m                                Traceback (most recent call last)",
      "Cell \u001b[0;32mIn[3], line 1\u001b[0m\n\u001b[0;32m----> 1\u001b[0m \u001b[38;5;28;01mraise\u001b[39;00m ex\n",
      "\u001b[0;31mValueError\u001b[0m: Name must be 5 chars long"
     ]
    }
   ],
   "source": [
    "# to raise an exception\n",
    "raise ex"
   ]
  },
  {
   "cell_type": "code",
   "execution_count": null,
   "id": "c529374d-96b2-4fa8-a5ae-062dee61beb5",
   "metadata": {},
   "outputs": [],
   "source": [
    "name = input('enter name (min 5 chars)')\n",
    "\n",
    "if len(name) < 5:\n",
    "    raise ValueError(f'{name} is not 5 chars long')\n",
    "\n",
    "print(f'Hello {name}! ')"
   ]
  }
 ],
 "metadata": {
  "kernelspec": {
   "display_name": "Python 3 (ipykernel)",
   "language": "python",
   "name": "python3"
  },
  "language_info": {
   "codemirror_mode": {
    "name": "ipython",
    "version": 3
   },
   "file_extension": ".py",
   "mimetype": "text/x-python",
   "name": "python",
   "nbconvert_exporter": "python",
   "pygments_lexer": "ipython3",
   "version": "3.13.0"
  }
 },
 "nbformat": 4,
 "nbformat_minor": 5
}
