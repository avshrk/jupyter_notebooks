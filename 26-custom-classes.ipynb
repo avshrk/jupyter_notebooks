{
 "cells": [
  {
   "cell_type": "markdown",
   "id": "f4523bc3-c853-4539-b11b-592460b844ed",
   "metadata": {},
   "source": [
    "# Custom Classes"
   ]
  },
  {
   "cell_type": "code",
   "execution_count": 19,
   "id": "b90b7911-e37d-401f-9511-7baca8facfca",
   "metadata": {},
   "outputs": [
    {
     "data": {
      "text/plain": [
       "<__main__.Person at 0x7488fa1ecc20>"
      ]
     },
     "execution_count": 19,
     "metadata": {},
     "output_type": "execute_result"
    }
   ],
   "source": [
    "class Person:\n",
    "    \"\"\"This string can be used to document this class - called a docstring\"\"\"\n",
    "\n",
    "p1 = Person()\n",
    "p1"
   ]
  },
  {
   "cell_type": "code",
   "execution_count": 2,
   "id": "615ff744-f1db-4bbe-afa8-a8b4e746ebf4",
   "metadata": {},
   "outputs": [
    {
     "data": {
      "text/plain": [
       "'This string can be used to document this class - called a docstring'"
      ]
     },
     "execution_count": 2,
     "metadata": {},
     "output_type": "execute_result"
    }
   ],
   "source": [
    "Person.__doc__"
   ]
  },
  {
   "cell_type": "code",
   "execution_count": 3,
   "id": "48ddbf49-0457-4884-aa7e-7e5834730089",
   "metadata": {},
   "outputs": [
    {
     "name": "stdout",
     "output_type": "stream",
     "text": [
      "Help on class Person in module __main__:\n",
      "\n",
      "class Person(builtins.object)\n",
      " |  This string can be used to document this class - called a docstring\n",
      " |\n",
      " |  Data descriptors defined here:\n",
      " |\n",
      " |  __dict__\n",
      " |      dictionary for instance variables\n",
      " |\n",
      " |  __weakref__\n",
      " |      list of weak references to the object\n",
      "\n"
     ]
    }
   ],
   "source": [
    "help(Person)    "
   ]
  },
  {
   "cell_type": "code",
   "execution_count": 21,
   "id": "5925aab0-cbbf-429d-859f-d4ab8b43eebe",
   "metadata": {},
   "outputs": [
    {
     "data": {
      "text/plain": [
       "'Person'"
      ]
     },
     "execution_count": 21,
     "metadata": {},
     "output_type": "execute_result"
    }
   ],
   "source": [
    "Person.__name__"
   ]
  },
  {
   "cell_type": "code",
   "execution_count": 20,
   "id": "87fce992-0322-48df-8c28-de97ee215924",
   "metadata": {},
   "outputs": [
    {
     "data": {
      "text/plain": [
       "__main__.Person"
      ]
     },
     "execution_count": 20,
     "metadata": {},
     "output_type": "execute_result"
    }
   ],
   "source": [
    "p1.__class__"
   ]
  },
  {
   "cell_type": "code",
   "execution_count": 12,
   "id": "412247cf-66c8-4633-ab44-18ec5c3a39be",
   "metadata": {},
   "outputs": [
    {
     "data": {
      "text/plain": [
       "set()"
      ]
     },
     "execution_count": 12,
     "metadata": {},
     "output_type": "execute_result"
    }
   ],
   "source": [
    "set(dir(p1)) - set(dir(Person))"
   ]
  },
  {
   "cell_type": "code",
   "execution_count": 23,
   "id": "f0884e99-d92a-4235-9839-02f15f5eb002",
   "metadata": {},
   "outputs": [
    {
     "data": {
      "text/plain": [
       "(__main__.Person, __main__.Person)"
      ]
     },
     "execution_count": 23,
     "metadata": {},
     "output_type": "execute_result"
    }
   ],
   "source": [
    "p1.__class__ , type(p1)"
   ]
  },
  {
   "cell_type": "code",
   "execution_count": 18,
   "id": "6a39d2e2-504a-4645-800c-2a9546637326",
   "metadata": {},
   "outputs": [
    {
     "data": {
      "text/plain": [
       "True"
      ]
     },
     "execution_count": 18,
     "metadata": {},
     "output_type": "execute_result"
    }
   ],
   "source": [
    "p1 = Person()\n",
    "type(p1) is Person"
   ]
  },
  {
   "cell_type": "code",
   "execution_count": 24,
   "id": "da1e2fba-3675-4c1c-b3e8-8f34e39ee483",
   "metadata": {},
   "outputs": [
    {
     "data": {
      "text/plain": [
       "True"
      ]
     },
     "execution_count": 24,
     "metadata": {},
     "output_type": "execute_result"
    }
   ],
   "source": [
    "type([1]) is list"
   ]
  },
  {
   "cell_type": "code",
   "execution_count": 25,
   "id": "bc91ca8e-0e9c-4055-91dc-74cff1b25676",
   "metadata": {},
   "outputs": [
    {
     "data": {
      "text/plain": [
       "True"
      ]
     },
     "execution_count": 25,
     "metadata": {},
     "output_type": "execute_result"
    }
   ],
   "source": [
    "a = 1\n",
    "isinstance(a, int)"
   ]
  },
  {
   "cell_type": "code",
   "execution_count": 26,
   "id": "0f115850-9350-453d-8e5d-36a3ed4eb081",
   "metadata": {},
   "outputs": [
    {
     "data": {
      "text/plain": [
       "True"
      ]
     },
     "execution_count": 26,
     "metadata": {},
     "output_type": "execute_result"
    }
   ],
   "source": [
    "isinstance(p1, Person)"
   ]
  },
  {
   "cell_type": "code",
   "execution_count": 36,
   "id": "b03ed2c3-fc6c-4929-be81-0ec499416b3c",
   "metadata": {},
   "outputs": [
    {
     "data": {
      "text/plain": [
       "{'greet': 'says hello'}"
      ]
     },
     "execution_count": 36,
     "metadata": {},
     "output_type": "execute_result"
    }
   ],
   "source": [
    "def hello():\n",
    "    pass\n",
    "\n",
    "hello.greet = 'says hello'\n",
    "\n",
    "hello.__dict__"
   ]
  },
  {
   "cell_type": "code",
   "execution_count": 35,
   "id": "1a042efe-c9a7-4126-943a-a02baedbffde",
   "metadata": {},
   "outputs": [],
   "source": [
    "# deleting attribute\n",
    "del hello.greet"
   ]
  },
  {
   "cell_type": "code",
   "execution_count": 39,
   "id": "e0ae4c7e-b96a-4c58-babc-0cb3d33826fe",
   "metadata": {},
   "outputs": [
    {
     "name": "stdout",
     "output_type": "stream",
     "text": [
      "custom init... <__main__.Person object at 0x7488fa1eecf0>\n"
     ]
    },
    {
     "data": {
      "text/plain": [
       "'0x7488fa1eecf0'"
      ]
     },
     "execution_count": 39,
     "metadata": {},
     "output_type": "execute_result"
    }
   ],
   "source": [
    "# initializing objects\n",
    "\n",
    "class Person:\n",
    "    \"\"\"Person Class\"\"\"\n",
    "    def __init__(self):\n",
    "        print('custom init...', self)\n",
    "    \n",
    "\n",
    "p1 = Person()    \n",
    "hex(id(p1))\n"
   ]
  },
  {
   "cell_type": "code",
   "execution_count": 41,
   "id": "0a4d4b88-2fab-481e-8cf1-2b21ba787e38",
   "metadata": {},
   "outputs": [
    {
     "data": {
      "text/plain": [
       "('bob', 'zoo')"
      ]
     },
     "execution_count": 41,
     "metadata": {},
     "output_type": "execute_result"
    }
   ],
   "source": [
    "\n",
    "class Person:\n",
    "    \"\"\"Person Class\"\"\"\n",
    "    def __init__(self, first_name, last_name):\n",
    "        self.first_name = first_name \n",
    "        self.last_name = last_name\n",
    "        \n",
    "p1 = Person('bob', 'zoo')\n",
    "p1.first_name, p1.last_name"
   ]
  },
  {
   "cell_type": "code",
   "execution_count": 43,
   "id": "9be2a356-632e-4bd6-8c38-266cfc079749",
   "metadata": {},
   "outputs": [
    {
     "name": "stdout",
     "output_type": "stream",
     "text": [
      "dimension: 2\n"
     ]
    }
   ],
   "source": [
    "class Point:\n",
    "    def __init__(self, *coords): \n",
    "        self.coords = coords \n",
    "        print(f'dimension: {len(coords)}')\n",
    "\n",
    "p = Point(1,2) "
   ]
  },
  {
   "cell_type": "code",
   "execution_count": 52,
   "id": "538068f3-71c0-497f-a16a-78ab44079cf2",
   "metadata": {},
   "outputs": [],
   "source": [
    "# requires keyword arguments\n",
    "class Circle:\n",
    "    def __init__(self,*, radius=1): \n",
    "        if radius <= 0:\n",
    "            raise ValueError('Radius must be positive!')\n",
    "        self.radius = radius \n",
    "\n",
    "c1 = Circle(radius=3)"
   ]
  },
  {
   "cell_type": "code",
   "execution_count": 50,
   "id": "e83267ce-fd0c-448c-938b-03a7a2b74cd3",
   "metadata": {},
   "outputs": [
    {
     "data": {
      "text/plain": [
       "({'radius': 3}, {'radius': 3})"
      ]
     },
     "execution_count": 50,
     "metadata": {},
     "output_type": "execute_result"
    }
   ],
   "source": [
    "vars(c1) , c1.__dict__"
   ]
  },
  {
   "cell_type": "code",
   "execution_count": 53,
   "id": "7d130975-1e0a-4f25-9fcf-e233ba747270",
   "metadata": {},
   "outputs": [
    {
     "ename": "ValueError",
     "evalue": "Radius must be positive!",
     "output_type": "error",
     "traceback": [
      "\u001b[0;31m---------------------------------------------------------------------------\u001b[0m",
      "\u001b[0;31mValueError\u001b[0m                                Traceback (most recent call last)",
      "Cell \u001b[0;32mIn[53], line 1\u001b[0m\n\u001b[0;32m----> 1\u001b[0m c2 \u001b[38;5;241m=\u001b[39m \u001b[43mCircle\u001b[49m\u001b[43m(\u001b[49m\u001b[43mradius\u001b[49m\u001b[38;5;241;43m=\u001b[39;49m\u001b[38;5;241;43m-\u001b[39;49m\u001b[38;5;241;43m1\u001b[39;49m\u001b[43m)\u001b[49m\n",
      "Cell \u001b[0;32mIn[52], line 5\u001b[0m, in \u001b[0;36mCircle.__init__\u001b[0;34m(self, radius)\u001b[0m\n\u001b[1;32m      3\u001b[0m \u001b[38;5;28;01mdef\u001b[39;00m \u001b[38;5;21m__init__\u001b[39m(\u001b[38;5;28mself\u001b[39m,\u001b[38;5;241m*\u001b[39m, radius\u001b[38;5;241m=\u001b[39m\u001b[38;5;241m1\u001b[39m): \n\u001b[1;32m      4\u001b[0m     \u001b[38;5;28;01mif\u001b[39;00m radius \u001b[38;5;241m<\u001b[39m\u001b[38;5;241m=\u001b[39m \u001b[38;5;241m0\u001b[39m:\n\u001b[0;32m----> 5\u001b[0m         \u001b[38;5;28;01mraise\u001b[39;00m \u001b[38;5;167;01mValueError\u001b[39;00m(\u001b[38;5;124m'\u001b[39m\u001b[38;5;124mRadius must be positive!\u001b[39m\u001b[38;5;124m'\u001b[39m)\n\u001b[1;32m      6\u001b[0m     \u001b[38;5;28mself\u001b[39m\u001b[38;5;241m.\u001b[39mradius \u001b[38;5;241m=\u001b[39m radius\n",
      "\u001b[0;31mValueError\u001b[0m: Radius must be positive!"
     ]
    }
   ],
   "source": [
    "c2 = Circle(radius=-1)"
   ]
  },
  {
   "cell_type": "code",
   "execution_count": 70,
   "id": "d08410d5-67dc-4b88-9e09-f7785f84564f",
   "metadata": {},
   "outputs": [
    {
     "name": "stdout",
     "output_type": "stream",
     "text": [
      "address <__main__.Circle object at 0x7488f3f18590>\n"
     ]
    },
    {
     "data": {
      "text/plain": [
       "(3, '0x7488f3f18590', None)"
      ]
     },
     "execution_count": 70,
     "metadata": {},
     "output_type": "execute_result"
    }
   ],
   "source": [
    "# instance Methods\n",
    "from math import pi\n",
    "\n",
    "class Circle:\n",
    "    def __init__(self, radius): \n",
    "        self.radius = radius \n",
    "\n",
    "    def area(self): \n",
    "        print(f'address {self}')\n",
    "        # print(self)\n",
    "\n",
    "c1 = Circle(3)\n",
    "c1.radius, hex(id(c1)),  c1.area()\n"
   ]
  },
  {
   "cell_type": "code",
   "execution_count": 83,
   "id": "5b9451a6-b6ff-455a-b326-5531076e4d17",
   "metadata": {},
   "outputs": [
    {
     "data": {
      "text/plain": [
       "((5, 6), 28.274333882308138)"
      ]
     },
     "execution_count": 83,
     "metadata": {},
     "output_type": "execute_result"
    }
   ],
   "source": [
    "\n",
    "class Circle:\n",
    "    def __init__(self, x, y, radius): \n",
    "        self.center = x, y\n",
    "        self.radius = radius \n",
    "\n",
    "    def area(self):\n",
    "        return pi * self.radius ** 2\n",
    "\n",
    "    def translate(self, x, y):\n",
    "        self.center = (self.center[0] + x, self.center[1] + y)\n",
    "\n",
    "    def scale(self, factor): \n",
    "        self.radius *= factor\n",
    "\n",
    "c1 = Circle(2,3,1)\n",
    "c1.translate(3,3)\n",
    "c1.scale(3)\n",
    "c1.center, c1.area() "
   ]
  },
  {
   "cell_type": "code",
   "execution_count": 85,
   "id": "1a703c60-a386-41a8-bdc3-74f2d4588d7d",
   "metadata": {},
   "outputs": [
    {
     "name": "stdout",
     "output_type": "stream",
     "text": [
      "DATE,DEXUSEU\n",
      "\n",
      "2015-04-03,1.0990\n",
      "\n",
      "2015-04-06,1.1008\n",
      "\n",
      "2015-04-07,1.0850\n",
      "\n",
      "2015-04-08,1.0818\n",
      "\n"
     ]
    }
   ],
   "source": [
    "file_name = 'DEXUSEU.csv'\n",
    "\n",
    "with open(file_name) as f:\n",
    "    for _ in range(5):\n",
    "        print(next(f))"
   ]
  },
  {
   "cell_type": "code",
   "execution_count": 88,
   "id": "337b8a27-34a0-4ffb-8cb6-f0299da0bf8c",
   "metadata": {},
   "outputs": [
    {
     "name": "stdout",
     "output_type": "stream",
     "text": [
      "['DATE', 'DEXUSEU']\n"
     ]
    }
   ],
   "source": [
    "import csv\n",
    "\n",
    "with open(file_name) as f:\n",
    "    reader = csv.reader(f)\n",
    "    headers = next(reader)\n",
    "    print(headers)\n",
    "    data = list(reader)\n",
    "    "
   ]
  },
  {
   "cell_type": "code",
   "execution_count": 90,
   "id": "f8d9bd18-1809-45e0-aa59-a2669aef1842",
   "metadata": {},
   "outputs": [
    {
     "data": {
      "text/plain": [
       "datetime.date(2015, 4, 3)"
      ]
     },
     "execution_count": 90,
     "metadata": {},
     "output_type": "execute_result"
    }
   ],
   "source": [
    "from datetime import datetime\n",
    "datetime.strptime('2015-04-03', '%Y-%m-%d').date()\n"
   ]
  },
  {
   "cell_type": "code",
   "execution_count": 91,
   "id": "3dbaf747-5a5b-4c38-9b46-55b872cce047",
   "metadata": {},
   "outputs": [
    {
     "data": {
      "text/plain": [
       "Decimal('1.113')"
      ]
     },
     "execution_count": 91,
     "metadata": {},
     "output_type": "execute_result"
    }
   ],
   "source": [
    "from decimal import Decimal\n",
    "Decimal('1.113')"
   ]
  },
  {
   "cell_type": "code",
   "execution_count": 119,
   "id": "44b888da-33e6-4399-9691-8f7387c58920",
   "metadata": {},
   "outputs": [
    {
     "data": {
      "text/plain": [
       "(datetime.date(2015, 4, 9), Decimal('1.0671'))"
      ]
     },
     "execution_count": 119,
     "metadata": {},
     "output_type": "execute_result"
    }
   ],
   "source": [
    "class DataPoint:\n",
    "    def __init__(self, date, value):\n",
    "        self.date =  datetime.strptime(date, '%Y-%m-%d').date()\n",
    "        self.value = Decimal(value)\n",
    "        \n",
    "class Forex:\n",
    "    def __init__(self, csv_file):\n",
    "        with open(csv_file) as f:\n",
    "            self.file_name = csv_file\n",
    "            self.data = self.process_data()\n",
    "            \n",
    "    def process_data(self): \n",
    "        with open(self.file_name) as f:\n",
    "            reader = csv.reader(f)\n",
    "            next(reader) # to skip headers\n",
    "            return [\n",
    "                DataPoint(d, v) \n",
    "                for d, v in reader \n",
    "                if v != '.'\n",
    "            ]\n",
    "\n",
    "         \n",
    "fx = Forex('DEXUSEU.csv')            \n",
    "fx.data[4].date, fx.data[4].value"
   ]
  },
  {
   "cell_type": "code",
   "execution_count": 120,
   "id": "8139d4d9-505c-40ab-a2fc-03c87078323d",
   "metadata": {},
   "outputs": [
    {
     "name": "stdout",
     "output_type": "stream",
     "text": [
      "2015-04-03 1.0990\n",
      "2015-04-06 1.1008\n",
      "2015-04-07 1.0850\n",
      "2015-04-08 1.0818\n",
      "2015-04-09 1.0671\n"
     ]
    }
   ],
   "source": [
    "for i in fx.data[:5]:\n",
    "    print(i.date, i.value)"
   ]
  },
  {
   "cell_type": "code",
   "execution_count": 121,
   "id": "bc35dcaf-bbc6-4be1-a8ab-18221f1075f8",
   "metadata": {},
   "outputs": [
    {
     "data": {
      "text/plain": [
       "[<__main__.DataPoint at 0x7488f3f1a900>,\n",
       " <__main__.DataPoint at 0x7488f2128f50>,\n",
       " <__main__.DataPoint at 0x7488f2129090>,\n",
       " <__main__.DataPoint at 0x7488f35b42b0>,\n",
       " <__main__.DataPoint at 0x7488f35b4510>]"
      ]
     },
     "execution_count": 121,
     "metadata": {},
     "output_type": "execute_result"
    }
   ],
   "source": [
    "list(fx.data[:5])"
   ]
  },
  {
   "cell_type": "markdown",
   "id": "6a43264c-3904-462f-83e0-c85cb8e98a48",
   "metadata": {},
   "source": [
    "# special methods"
   ]
  },
  {
   "cell_type": "code",
   "execution_count": 187,
   "id": "1abb4910-0075-4144-8b58-df89107ec93b",
   "metadata": {},
   "outputs": [
    {
     "name": "stdout",
     "output_type": "stream",
     "text": [
      "setter rad\n",
      "rad getter called\n",
      "rad getter called\n",
      "rad getter called\n"
     ]
    },
    {
     "data": {
      "text/plain": [
       "('Circle(1)', 'Circle(rad=1)', 9.869604401089358)"
      ]
     },
     "execution_count": 187,
     "metadata": {},
     "output_type": "execute_result"
    }
   ],
   "source": [
    "import math\n",
    "\n",
    "class Circle: \n",
    "    def __init__(self, rad): \n",
    "        self.rad = rad\n",
    "\n",
    "    # @property is a descriptor\n",
    "    @property\n",
    "    def rad(self): \n",
    "        print('rad getter called')\n",
    "        return self._rad\n",
    "\n",
    "    @rad.setter \n",
    "    def rad(self, val): \n",
    "        print('setter rad')\n",
    "        if not (isinstance(val, float) or isinstance(val, int)):\n",
    "            raise ValueError('radies must be float or integer')\n",
    "        if val < 1:\n",
    "            raise ValueError('rad must be postive')\n",
    "            \n",
    "        # Starting a variable name '_' is a convention to indicate that private variables \n",
    "        self._rad = val\n",
    "\n",
    "    # turns it into calculated property \n",
    "    # can be called without () eg. c1.area\n",
    "    @property\n",
    "    def area(self):\n",
    "        return self.rad * math.pi ** 2\n",
    "        \n",
    "    def __str__(self):\n",
    "        return f'Circle({self.rad})'\n",
    "\n",
    "    def __repr__(self): \n",
    "        return f'Circle(rad={self.rad})'\n",
    "\n",
    "    def __eq__(self, other): \n",
    "        print('__eq__ called')\n",
    "        return isinstance(other, Circle) and self.rad == other.rad\n",
    "\n",
    "    def __lt__(self, other):\n",
    "        print('__lt__ called')\n",
    "        return isinstance(other, Circle) and self.rad < other.rad\n",
    "\n",
    "c = Circle(1)\n",
    "str(c), repr(c), c.area"
   ]
  },
  {
   "cell_type": "code",
   "execution_count": 188,
   "id": "f3ab91e2-dfd0-4f65-bdea-61e22135f14b",
   "metadata": {},
   "outputs": [
    {
     "name": "stdout",
     "output_type": "stream",
     "text": [
      "setter rad\n",
      "setter rad\n",
      "__eq__ called\n",
      "rad getter called\n",
      "rad getter called\n",
      "__eq__ called\n",
      "__lt__ called\n",
      "rad getter called\n",
      "rad getter called\n"
     ]
    },
    {
     "data": {
      "text/plain": [
       "(True, False, True)"
      ]
     },
     "execution_count": 188,
     "metadata": {},
     "output_type": "execute_result"
    }
   ],
   "source": [
    "c2 = Circle(1)\n",
    "c3 = Circle(3)\n",
    "p1 = Person('a', 'b')\n",
    "\n",
    "# it is c.__eq__(c2)\n",
    "c == c2, c == p1, c < c3"
   ]
  },
  {
   "cell_type": "code",
   "execution_count": 189,
   "id": "26735e4b-0f8c-4fb3-a22d-22ae9c2e1e0d",
   "metadata": {},
   "outputs": [],
   "source": [
    "# Properties"
   ]
  },
  {
   "cell_type": "code",
   "execution_count": 193,
   "id": "45e6c853-3a5f-4b2f-9485-9ee16a4de875",
   "metadata": {},
   "outputs": [
    {
     "name": "stdout",
     "output_type": "stream",
     "text": [
      "setter rad\n",
      "rad getter called\n",
      "setter rad\n",
      "rad getter called\n"
     ]
    },
    {
     "data": {
      "text/plain": [
       "44"
      ]
     },
     "execution_count": 193,
     "metadata": {},
     "output_type": "execute_result"
    }
   ],
   "source": [
    "c = Circle(1)\n",
    "c.area\n",
    "c.rad = 33 \n",
    "c._rad = 44\n",
    "c.rad\n"
   ]
  },
  {
   "cell_type": "code",
   "execution_count": null,
   "id": "7b898e41-6760-4b64-8398-e4e07bc0890d",
   "metadata": {},
   "outputs": [],
   "source": []
  }
 ],
 "metadata": {
  "kernelspec": {
   "display_name": "Python 3 (ipykernel)",
   "language": "python",
   "name": "python3"
  },
  "language_info": {
   "codemirror_mode": {
    "name": "ipython",
    "version": 3
   },
   "file_extension": ".py",
   "mimetype": "text/x-python",
   "name": "python",
   "nbconvert_exporter": "python",
   "pygments_lexer": "ipython3",
   "version": "3.13.0"
  }
 },
 "nbformat": 4,
 "nbformat_minor": 5
}
