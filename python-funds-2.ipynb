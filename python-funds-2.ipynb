{
 "cells": [
  {
   "cell_type": "code",
   "execution_count": 1,
   "id": "69b959e3-efad-4b4d-bcef-b85a953e6e1e",
   "metadata": {},
   "outputs": [
    {
     "data": {
      "text/plain": [
       "'😁'"
      ]
     },
     "execution_count": 1,
     "metadata": {},
     "output_type": "execute_result"
    }
   ],
   "source": [
    "# Strings\n",
    "# sequence type\n",
    "# Code Points A -> 65\n",
    "# Hex powers of 16\n",
    "# fc15 -> 64533\n",
    "# https://www.compart.com/en/unicode/U+03B2\n",
    "hex(65) # 0x41\n",
    "ord('A') # 65\n",
    "hex(ord('β')) # 0x3b2\n",
    "\"\\N{Greek Small Letter Beta}\"   # 'β'\n",
    "# \\u needs 4 digits\n",
    "\"\\u03b2\"  # same as above\n",
    "\"\\N{Snake}\"  # Snake Emoji\n",
    "# \\U needs 8 digits  \n",
    "\"\\U0001f40d\" # actual code is 1f40d \n",
    "int('1f40d', 16) # 128013 decimal value\n",
    "\"\\N{Latin Capital Letter A}lways\" # 'Always'\n",
    "\"Av\\N{Latin small letter s with cedilla}ar\" # 'Avşar'\n",
    "\"\\u015f\" #  ş\n",
    "\"\\u015E\" #  'Ş'\n",
    "\"Av\\u015far\" # 'Avşar'\n",
    "\"\\U0001f601\"  #  Grinn Emoji\n"
   ]
  },
  {
   "cell_type": "code",
   "execution_count": 98,
   "id": "c1438640-1ae8-42ec-abe0-18ff0f97e7ac",
   "metadata": {},
   "outputs": [
    {
     "data": {
      "text/plain": [
       "True"
      ]
     },
     "execution_count": 98,
     "metadata": {},
     "output_type": "execute_result"
    }
   ],
   "source": [
    "# Common String Methods \n",
    "# https://docs.python.org/3/library/stdtypes.html#string-methods\n",
    "msg = \"The definitive\"\n",
    "msg.upper()\n",
    "msg.lower()\n",
    "msg.title() # The Definitive\n",
    "\n",
    "# not the best way to comprace strings\n",
    "'aBc'.lower() == 'AbC'.lower()\n",
    "\n",
    "# better way to compare strings - not for display purposes \n",
    "# just to compare case insensetive equality \n",
    "'AAa'.casefold() == \"aaA\".casefold()"
   ]
  },
  {
   "cell_type": "code",
   "execution_count": 99,
   "id": "7037169b-f460-48b3-93f3-ef0a97b169af",
   "metadata": {},
   "outputs": [
    {
     "data": {
      "text/plain": [
       "'Python'"
      ]
     },
     "execution_count": 99,
     "metadata": {},
     "output_type": "execute_result"
    }
   ],
   "source": [
    "# Stripping\n",
    "name = ' peter '\n",
    "\n",
    "# from ends of the string\n",
    "name.strip() \n",
    "name.rstrip()\n",
    "name.lstrip()\n",
    "\n",
    "strg = 'ababPythonabab'\n",
    "strg.strip('ab') #  Python \n"
   ]
  },
  {
   "cell_type": "code",
   "execution_count": 100,
   "id": "786cf65a-77e3-4f6d-bbdf-2addb84bdd64",
   "metadata": {},
   "outputs": [
    {
     "data": {
      "text/plain": [
       "True"
      ]
     },
     "execution_count": 100,
     "metadata": {},
     "output_type": "execute_result"
    }
   ],
   "source": [
    "# Concatination\n",
    "strg = 'Python' + ' ' + 'rocks'\n",
    "ls = 'a,b,c'\n",
    "ls.split(',') # ['a','b','c']\n",
    "\n",
    "','.join(['a','b','c']) # 'a,b,c'\n",
    "','.join('ABCD') # 'A,B,C,D'\n",
    "'rock' in 'python rocks'   # True\n",
    "'rock' in 'python rOcks'   # False\n",
    "'rock'.casefold() in 'python rOcks'.casefold()   # True\n",
    "'abc' in ('abc', 'cda')  # True\n",
    "1 in [1,2] # True"
   ]
  },
  {
   "cell_type": "code",
   "execution_count": 101,
   "id": "67dca49e-e8c1-4983-8b18-b41151820bac",
   "metadata": {},
   "outputs": [
    {
     "data": {
      "text/plain": [
       "True"
      ]
     },
     "execution_count": 101,
     "metadata": {},
     "output_type": "execute_result"
    }
   ],
   "source": [
    "'Python rocks'.startswith('Python')\n",
    "'Python rocks'.endswith('rocks')"
   ]
  },
  {
   "cell_type": "code",
   "execution_count": 102,
   "id": "c6f117a1-3e3f-4dc9-842e-bb0cbf118d5c",
   "metadata": {},
   "outputs": [
    {
     "ename": "ValueError",
     "evalue": "substring not found",
     "output_type": "error",
     "traceback": [
      "\u001b[0;31m---------------------------------------------------------------------------\u001b[0m",
      "\u001b[0;31mValueError\u001b[0m                                Traceback (most recent call last)",
      "Cell \u001b[0;32mIn[102], line 4\u001b[0m\n\u001b[1;32m      2\u001b[0m msg \u001b[38;5;241m=\u001b[39m \u001b[38;5;124m'\u001b[39m\u001b[38;5;124mbar foo alpha mega teta\u001b[39m\u001b[38;5;124m'\u001b[39m\n\u001b[1;32m      3\u001b[0m msg\u001b[38;5;241m.\u001b[39mindex(\u001b[38;5;124m'\u001b[39m\u001b[38;5;124mfoo\u001b[39m\u001b[38;5;124m'\u001b[39m) \u001b[38;5;66;03m# 4\u001b[39;00m\n\u001b[0;32m----> 4\u001b[0m \u001b[43mmsg\u001b[49m\u001b[38;5;241;43m.\u001b[39;49m\u001b[43mindex\u001b[49m\u001b[43m(\u001b[49m\u001b[38;5;124;43m'\u001b[39;49m\u001b[38;5;124;43mafoo\u001b[39;49m\u001b[38;5;124;43m'\u001b[39;49m\u001b[43m)\u001b[49m \u001b[38;5;66;03m# raises exception\u001b[39;00m\n",
      "\u001b[0;31mValueError\u001b[0m: substring not found"
     ]
    }
   ],
   "source": [
    "# applies to all sequences\n",
    "msg = 'bar foo alpha mega teta'\n",
    "msg.index('foo') # 4\n",
    "msg.index('afoo') # raises exception\n"
   ]
  },
  {
   "cell_type": "code",
   "execution_count": null,
   "id": "55b1fc4d-2d8e-4850-bbc7-e1d7e961bcc4",
   "metadata": {},
   "outputs": [],
   "source": [
    "# 'find' is limited to string only\n",
    "msg.find('foo') # 4\n",
    "msg.find('aafoo') # -1 no exception"
   ]
  },
  {
   "cell_type": "code",
   "execution_count": null,
   "id": "32afe2e9-3a31-40e8-83ae-7074a3d34cfe",
   "metadata": {},
   "outputs": [],
   "source": [
    "[1,2,99,33].index(99) # 2\n",
    "(0,10,33,99,88).index(88)   # 4\n",
    "'abcdabcd'.index('bc') # 1 returns first substring\n",
    "'abcdabcd'.find('bc') # 1 returns first substrnig"
   ]
  },
  {
   "cell_type": "code",
   "execution_count": null,
   "id": "994ccad9-c80d-458c-bcda-d301d4b33cd9",
   "metadata": {},
   "outputs": [],
   "source": [
    "'bar foo bar zoo beta foo'.index('foo') # 4\n",
    "'bar foo bar zoo beta foo'.index('foo', 5 ) # 21 - gets the next one "
   ]
  },
  {
   "cell_type": "code",
   "execution_count": null,
   "id": "34810230-cadc-4043-964b-9b831f2e661e",
   "metadata": {},
   "outputs": [],
   "source": [
    "# timing \n",
    "from timeit import timeit\n",
    "msg = 'foo beta alpha on at the bar alpha'\n",
    "timeit(\"'bar' in msg\", globals=globals(), number=10_000_000) # 0.59 sec\n",
    "timeit(\"msg.find('bar')\", globals=globals(), number=10_000_000) # 0.69 sec\n",
    "timeit(\"msg.index('bar')\", globals=globals(), number=10_000_000) # 0.68 sec"
   ]
  },
  {
   "cell_type": "code",
   "execution_count": 6,
   "id": "f2c26e8d-fced-4652-a484-ce08bea11eb5",
   "metadata": {},
   "outputs": [
    {
     "data": {
      "text/plain": [
       "'open: 98, high: 100, low: 95, close99'"
      ]
     },
     "execution_count": 6,
     "metadata": {},
     "output_type": "execute_result"
    }
   ],
   "source": [
    "# String interpolation\n",
    "open_, high, low, close = 98, 100, 95, 99\n",
    "'open: ' + str(open_) + ', high: ' + str(high) + ', low: ' + str(low)\n",
    "\n",
    "# Order of arguments is important\n",
    "'open: {}, high: {}, low: {}, close: {}'.format(open_, high, low, close)\n",
    "\n",
    "# Order is not important\n",
    "'open: {a}, high: {b}, low: {c}, close: {d}'.format(a = open_, b = high, c = low, d = close)\n",
    "\n",
    "f'open: {open_}, high: {high}, low: {low}, close{close}'"
   ]
  },
  {
   "cell_type": "code",
   "execution_count": 16,
   "id": "02287a9c-1e5d-4dd3-970e-0b890f51de83",
   "metadata": {},
   "outputs": [
    {
     "data": {
      "text/plain": [
       "'bid: 1.5760, ask: 1.5763, spread: 0.00030'"
      ]
     },
     "execution_count": 16,
     "metadata": {},
     "output_type": "execute_result"
    }
   ],
   "source": [
    "# formatting\n",
    "bid = 1.5760\n",
    "ask = 1.5763\n",
    "# They are all equal \n",
    "'bid: {:.4f}, ask: {:.4f}, spread: {:.2f}'.format(bid, ask, ask - bid)\n",
    "'bid: {a:.4f}, ask: {b:.4f}, spread: {c:.2f}'.format(a = bid, b = ask, c = ask - bid)\n",
    "\n",
    "# preferred method\n",
    "f'bid: {bid:.4f}, ask: {ask:.4f}, spread: {ask - bid:.5f}'"
   ]
  },
  {
   "cell_type": "code",
   "execution_count": null,
   "id": "c265a989-1b3f-4417-84c0-5a09bc9b3655",
   "metadata": {},
   "outputs": [],
   "source": [
    "# Deterministic iterations \n",
    "# for loop\n",
    "\n",
    "# Non deterministic iterations\n",
    "# while true\n"
   ]
  },
  {
   "cell_type": "code",
   "execution_count": 26,
   "id": "01881a67-d80c-4fba-8cd3-65e3ed32d63c",
   "metadata": {},
   "outputs": [
    {
     "data": {
      "text/plain": [
       "[2, 4, 6, 8]"
      ]
     },
     "execution_count": 26,
     "metadata": {},
     "output_type": "execute_result"
    }
   ],
   "source": [
    "# range object\n",
    "range(10) # represations range(0,10)\n",
    "type(range(10)) # range\n",
    "list(range(10)) # [0,1,...,9]\n",
    "tuple(range(10))  # (0,1,...,9)\n",
    "list('abc') # ['a','b','c']\n",
    "tuple('abc') #  ('a','b','c')\n",
    "\n",
    "list(range(2,8)) # [2,...,7]\n",
    "len(range(2,8)) # 6\n",
    "\n",
    "# start at 2, up to 10, every 2nd number\n",
    "list(range(2,10,2)) # [2,4,6,8]\n"
   ]
  },
  {
   "cell_type": "code",
   "execution_count": 27,
   "id": "6f54d9aa-248b-421c-8c9b-0670993262aa",
   "metadata": {},
   "outputs": [
    {
     "name": "stdout",
     "output_type": "stream",
     "text": [
      "spades\n",
      "hearth\n",
      "diamonds\n",
      "clubs\n"
     ]
    }
   ],
   "source": [
    "# For loops\n",
    "suits = ['spades', 'hearth', 'diamonds', 'clubs']\n",
    "for s in suits:\n",
    "    print(s)"
   ]
  },
  {
   "cell_type": "code",
   "execution_count": 29,
   "id": "1ff34f65-7922-4b5e-811c-a46da444604f",
   "metadata": {},
   "outputs": [
    {
     "name": "stdout",
     "output_type": "stream",
     "text": [
      "p\n",
      "y\n",
      "t\n",
      "h\n",
      "o\n",
      "n\n"
     ]
    },
    {
     "data": {
      "text/plain": [
       "'n'"
      ]
     },
     "execution_count": 29,
     "metadata": {},
     "output_type": "execute_result"
    }
   ],
   "source": [
    "for i in 'python':\n",
    "   print(i)\n",
    "i # still accessable outside of loop"
   ]
  },
  {
   "cell_type": "code",
   "execution_count": 31,
   "id": "21770fd2-def1-48e6-a24d-0b6b48c6b910",
   "metadata": {},
   "outputs": [
    {
     "name": "stdout",
     "output_type": "stream",
     "text": [
      "2\n",
      "4\n",
      "6\n",
      "8\n",
      "10\n"
     ]
    }
   ],
   "source": [
    "# Range object with for\n",
    "for i in range(2,11,2):\n",
    "    print(i)  # 2,4..10"
   ]
  },
  {
   "cell_type": "code",
   "execution_count": null,
   "id": "428bb8f7-88ec-4bf3-b9db-53e0136a283b",
   "metadata": {},
   "outputs": [],
   "source": []
  },
  {
   "cell_type": "code",
   "execution_count": 43,
   "id": "5303575f-2676-4480-ac5b-9e0811e169ed",
   "metadata": {},
   "outputs": [
    {
     "data": {
      "text/plain": [
       "[[1, 0, 0, 0, 0],\n",
       " [0, 1, 0, 0, 0],\n",
       " [0, 0, 1, 0, 0],\n",
       " [0, 0, 0, 1, 0],\n",
       " [0, 0, 0, 0, 1]]"
      ]
     },
     "execution_count": 43,
     "metadata": {},
     "output_type": "execute_result"
    }
   ],
   "source": [
    "# creating identity matrix\n",
    "# 1 when row and col index is the same\n",
    "\n",
    "n = 5\n",
    "matrix = []\n",
    "\n",
    "for ni in range(n):\n",
    "    row = []\n",
    "    for ki in range(n):\n",
    "        if ni == ki:\n",
    "            row.append(1)\n",
    "        else: \n",
    "            row.append(0)\n",
    "    matrix.append(row) \n",
    "\n",
    "matrix"
   ]
  },
  {
   "cell_type": "code",
   "execution_count": 49,
   "id": "b2170a5d-add0-426b-bca2-86e60d77a294",
   "metadata": {},
   "outputs": [
    {
     "name": "stdout",
     "output_type": "stream",
     "text": [
      "0 10\n",
      "1 20\n",
      "2 30\n"
     ]
    }
   ],
   "source": [
    "# Enumerable\n",
    "data = [10,20,30]\n",
    "\n",
    "list(enumerate(data)) # [(0,10),(1,20),(2,30)]\n",
    "for (i,v) in enumerate(data):\n",
    "    print(i, v)"
   ]
  },
  {
   "cell_type": "code",
   "execution_count": 55,
   "id": "ad872ae7-978a-4fd8-8387-0372d0548076",
   "metadata": {},
   "outputs": [
    {
     "name": "stdout",
     "output_type": "stream",
     "text": [
      "0\n",
      "1\n",
      "2\n",
      "3\n",
      "----\n",
      "4\n",
      "5\n",
      "6\n",
      "----\n",
      "7\n",
      "8\n",
      "9\n",
      "10\n",
      "11\n",
      "12\n",
      "----\n"
     ]
    }
   ],
   "source": [
    "\n",
    "# iterating over any matrix\n",
    "m = [\n",
    "    [0,1,2,3],\n",
    "    [4,5,6],\n",
    "    [7,8,9,10,11,12]\n",
    "]\n",
    "\n",
    "# iterating through indexes\n",
    "for row in range(len(m)):\n",
    "    for col in range(len(m[row])):\n",
    "        #print(f'm[{row}][{col}]: {m[row][col]}')\n",
    "        print(m[row][col])\n",
    "\n",
    "    print('----') "
   ]
  },
  {
   "cell_type": "code",
   "execution_count": 56,
   "id": "a651f10c-534b-462d-bec6-4b7b5396e4fe",
   "metadata": {},
   "outputs": [
    {
     "name": "stdout",
     "output_type": "stream",
     "text": [
      "0\n",
      "1\n",
      "2\n",
      "3\n",
      "4\n",
      "5\n",
      "6\n",
      "7\n",
      "8\n",
      "9\n",
      "10\n",
      "11\n",
      "12\n"
     ]
    }
   ],
   "source": [
    "\n",
    "#iterating throug elements\n",
    "for row in m:\n",
    "    for element in row:\n",
    "         print(element)\n",
    "\n"
   ]
  },
  {
   "cell_type": "code",
   "execution_count": 57,
   "id": "0f1c4703-1172-4e92-826d-1599bc0e138c",
   "metadata": {},
   "outputs": [
    {
     "name": "stdout",
     "output_type": "stream",
     "text": [
      "0 0\n",
      "1 1\n",
      "2 2\n",
      "3 3\n",
      "0 4\n",
      "1 5\n",
      "2 6\n",
      "0 7\n",
      "1 8\n",
      "2 9\n",
      "3 10\n",
      "4 11\n",
      "5 12\n"
     ]
    }
   ],
   "source": [
    "# enumeration: index and value\n",
    "for (i, v) in enumerate(m):\n",
    "    for (ei, vv) in enumerate(v):\n",
    "        print(ei, vv)\n",
    "       "
   ]
  },
  {
   "cell_type": "code",
   "execution_count": 67,
   "id": "b8b91cd6-866c-4fed-9e55-cffa42252c75",
   "metadata": {},
   "outputs": [
    {
     "data": {
      "text/plain": [
       "[10.5, 11.2, 9.8, 10.75, 11.5, 10.75]"
      ]
     },
     "execution_count": 67,
     "metadata": {},
     "output_type": "execute_result"
    }
   ],
   "source": [
    "data = [10.5, 11.2, 9.8, None, 11.5, None]\n",
    "# Replace None values with avegare \n",
    "\n",
    "total = 0\n",
    "val_count = 0\n",
    "\n",
    "for  d in data: \n",
    "    if d is not None:\n",
    "        val_count += 1\n",
    "        total += d\n",
    "\n",
    "avg = total / val_count\n",
    "\n",
    "for i, d in enumerate(data):\n",
    "    if d is None:\n",
    "        data[i] = avg\n",
    "data        "
   ]
  },
  {
   "cell_type": "code",
   "execution_count": 73,
   "id": "4b4b5706-c513-4527-8f2b-5cbafecf7c6a",
   "metadata": {},
   "outputs": [
    {
     "data": {
      "text/plain": [
       "[10.5, 11.2, 9.8, 10.75, 11.5, 10.75]"
      ]
     },
     "execution_count": 73,
     "metadata": {},
     "output_type": "execute_result"
    }
   ],
   "source": [
    "# comprehensions\n",
    "data = [10.5, 11.2, 9.8, None, 11.5, None]\n",
    "count = sum(1 for val in data if val is not None)\n",
    "total = sum(val for val in data if val is not None)\n",
    "total\n",
    "avg = total / count\n",
    "# not mutation - new list return\n",
    "data = [val if val is not None else avg for val in data]\n",
    "data"
   ]
  },
  {
   "cell_type": "code",
   "execution_count": 74,
   "id": "dc8c802e-4e01-4b2d-b109-19416ad58b7c",
   "metadata": {},
   "outputs": [
    {
     "data": {
      "text/plain": [
       "[10.5, 11.2, 9.8, 10.75, 11.5, 10.75]"
      ]
     },
     "execution_count": 74,
     "metadata": {},
     "output_type": "execute_result"
    }
   ],
   "source": [
    "# Statistics \n",
    "\n",
    "from statistics import fmean\n",
    "data = [10.5, 11.2, 9.8, None, 11.5, None]\n",
    "avg = fmean(val for val in data if val is not None)\n",
    "# below is not mutation - new list\n",
    "data = [val if val is not None else avg for val in data]\n",
    "data"
   ]
  },
  {
   "cell_type": "code",
   "execution_count": 78,
   "id": "b0124cc4-9f64-440a-8f5f-c779eabbd13f",
   "metadata": {},
   "outputs": [
    {
     "name": "stdout",
     "output_type": "stream",
     "text": [
      "400\n",
      "300\n",
      "200\n",
      "100\n"
     ]
    }
   ],
   "source": [
    "# While loops\n",
    "\n",
    "# Remove element from list\n",
    "\n",
    "data = [100,200,300,400]\n",
    "\n",
    "while len(data) > 0:\n",
    "    last_element = data.pop()\n",
    "    print(last_element)\n"
   ]
  },
  {
   "cell_type": "code",
   "execution_count": 80,
   "id": "09cce014-36fd-4cad-86ab-7f81b519255f",
   "metadata": {},
   "outputs": [
    {
     "name": "stdout",
     "output_type": "stream",
     "text": [
      "1\n",
      "2\n",
      "3\n",
      "4\n",
      "5\n"
     ]
    }
   ],
   "source": [
    "# Continue, Break, and else\n",
    "i = 0\n",
    "\n",
    "while True:\n",
    "    i += 1\n",
    "    if i > 5:\n",
    "        break\n",
    "    print(i)       \n",
    "\n"
   ]
  },
  {
   "cell_type": "code",
   "execution_count": 87,
   "id": "b85b8747-6bb1-41c0-8630-22753890ab3c",
   "metadata": {},
   "outputs": [],
   "source": [
    "# 'else' to determine if loop terminated normally or not ( break )\n",
    "\n",
    "data = [1,2,3,-3,4]\n",
    "# requires no flag, else excutes when no break countered\n",
    "for e in data:\n",
    "    if e < 0: \n",
    "        break\n",
    "else: # no break\n",
    "    print('No Break')"
   ]
  },
  {
   "cell_type": "code",
   "execution_count": 92,
   "id": "9dcd1c27-3e97-47af-8169-3fa31da85909",
   "metadata": {},
   "outputs": [
    {
     "data": {
      "text/plain": [
       "{'first': 'bob', 'laste': 'brown', 'middle': 'Smith'}"
      ]
     },
     "execution_count": 92,
     "metadata": {},
     "output_type": "execute_result"
    }
   ],
   "source": [
    "# Associative Arrays and Dictionaries\n",
    "d = {'a':1, 'b':2}\n",
    "person = {\n",
    "    'first': 'bob',\n",
    "    'laste': 'brown',\n",
    "}\n",
    "person['first']\n",
    "\n",
    "# adding to dictionary\n",
    "person['middle'] = 'Smith'\n",
    "person"
   ]
  },
  {
   "cell_type": "code",
   "execution_count": 93,
   "id": "f5341804-15b5-4dca-ba3b-63f3dbe4d5f8",
   "metadata": {},
   "outputs": [
    {
     "data": {
      "text/plain": [
       "100"
      ]
     },
     "execution_count": 93,
     "metadata": {},
     "output_type": "execute_result"
    }
   ],
   "source": [
    "# dictionaries use hash to store get retrive the value\n",
    "hash(100)"
   ]
  },
  {
   "cell_type": "code",
   "execution_count": 94,
   "id": "c1f4d1fa-7ca7-4b2e-a2f6-6787ef3a30e7",
   "metadata": {},
   "outputs": [
    {
     "data": {
      "text/plain": [
       "322818021289917443"
      ]
     },
     "execution_count": 94,
     "metadata": {},
     "output_type": "execute_result"
    }
   ],
   "source": [
    "hash(3.14)"
   ]
  },
  {
   "cell_type": "code",
   "execution_count": 95,
   "id": "8a806437-979e-44a3-9991-1cd0309456f8",
   "metadata": {},
   "outputs": [
    {
     "data": {
      "text/plain": [
       "-7976621010266585625"
      ]
     },
     "execution_count": 95,
     "metadata": {},
     "output_type": "execute_result"
    }
   ],
   "source": [
    "hash('a')"
   ]
  },
  {
   "cell_type": "code",
   "execution_count": 107,
   "id": "1d0d1f67-ea91-4926-9db3-84e4ec0b4e3b",
   "metadata": {},
   "outputs": [
    {
     "data": {
      "text/plain": [
       "'origin'"
      ]
     },
     "execution_count": 107,
     "metadata": {},
     "output_type": "execute_result"
    }
   ],
   "source": [
    "# Tuples hashable only if they do not contain unhassable objects\n",
    "t = (0,0) \n",
    "hash(t) # good\n",
    "d = { t: \"origin\" }\n",
    "d[(0,0)]"
   ]
  },
  {
   "cell_type": "code",
   "execution_count": 99,
   "id": "7539d356-8583-43f0-bdc7-6cff79e1e455",
   "metadata": {},
   "outputs": [
    {
     "data": {
      "text/plain": [
       "3"
      ]
     },
     "execution_count": 99,
     "metadata": {},
     "output_type": "execute_result"
    }
   ],
   "source": [
    "# not hashable - mutable objects\n",
    "l = [1,2]\n",
    "hash(l)"
   ]
  },
  {
   "cell_type": "code",
   "execution_count": null,
   "id": "a0f9336e-a4da-4887-8f84-d57b3b016144",
   "metadata": {},
   "outputs": [],
   "source": [
    "#  Not hashable \n",
    "t_not = ([1,2],2)\n",
    "hash(t_not) # not hashable"
   ]
  },
  {
   "cell_type": "code",
   "execution_count": 109,
   "id": "189966a0-828a-4645-8d92-65f131e24e1d",
   "metadata": {},
   "outputs": [
    {
     "data": {
      "text/plain": [
       "{'b': 2}"
      ]
     },
     "execution_count": 109,
     "metadata": {},
     "output_type": "execute_result"
    }
   ],
   "source": [
    "# Deleting an item from dictionary\n",
    "d = {'a': 1, 'b':2}\n",
    "del d['a']\n",
    "d"
   ]
  },
  {
   "cell_type": "code",
   "execution_count": 110,
   "id": "61084ace-2bd9-4a46-98e3-9682f117f3e9",
   "metadata": {},
   "outputs": [
    {
     "ename": "KeyError",
     "evalue": "'x'",
     "output_type": "error",
     "traceback": [
      "\u001b[0;31m---------------------------------------------------------------------------\u001b[0m",
      "\u001b[0;31mKeyError\u001b[0m                                  Traceback (most recent call last)",
      "Cell \u001b[0;32mIn[110], line 3\u001b[0m\n\u001b[1;32m      1\u001b[0m \u001b[38;5;66;03m# returns error when not able to find key\u001b[39;00m\n\u001b[1;32m      2\u001b[0m d \u001b[38;5;241m=\u001b[39m {\u001b[38;5;124m'\u001b[39m\u001b[38;5;124ma\u001b[39m\u001b[38;5;124m'\u001b[39m: \u001b[38;5;241m1\u001b[39m, \u001b[38;5;124m'\u001b[39m\u001b[38;5;124mb\u001b[39m\u001b[38;5;124m'\u001b[39m:\u001b[38;5;241m2\u001b[39m}\n\u001b[0;32m----> 3\u001b[0m \u001b[43md\u001b[49m\u001b[43m[\u001b[49m\u001b[38;5;124;43m'\u001b[39;49m\u001b[38;5;124;43mx\u001b[39;49m\u001b[38;5;124;43m'\u001b[39;49m\u001b[43m]\u001b[49m\n",
      "\u001b[0;31mKeyError\u001b[0m: 'x'"
     ]
    }
   ],
   "source": [
    "# returns error when not able to find key\n",
    "d = {'a': 1, 'b':2}\n",
    "d['x']"
   ]
  },
  {
   "cell_type": "code",
   "execution_count": 114,
   "id": "3528a233-381c-4e48-a842-8790e23894a7",
   "metadata": {},
   "outputs": [
    {
     "data": {
      "text/plain": [
       "{'first': 'bob', 'laste': 'brown', 'middle': 'Smith'}"
      ]
     },
     "execution_count": 114,
     "metadata": {},
     "output_type": "execute_result"
    }
   ],
   "source": [
    "# Name space is a dictionary\n",
    "globals() # prints out the entire notebook\n",
    "type(globals())\n",
    "p = globals()['person']\n",
    "p"
   ]
  },
  {
   "cell_type": "code",
   "execution_count": 5,
   "id": "149ff235-39b1-4224-911c-c5654185bd8f",
   "metadata": {},
   "outputs": [
    {
     "name": "stdout",
     "output_type": "stream",
     "text": [
      "a\n",
      "b\n",
      "3.14\n"
     ]
    }
   ],
   "source": [
    "# iterate over keys only\n",
    "# order of operation is the order of insertion \n",
    "d = { 'a': 1, 'b': 2, 3.14: 'pi'}\n",
    "for k in d:\n",
    "    print(k)"
   ]
  },
  {
   "cell_type": "code",
   "execution_count": 2,
   "id": "15dd2e79-b17f-4e9c-aba5-ff804ec359aa",
   "metadata": {},
   "outputs": [
    {
     "name": "stdout",
     "output_type": "stream",
     "text": [
      "1\n",
      "2\n",
      "pi\n"
     ]
    }
   ],
   "source": [
    "# iterating over values only\n",
    "d = { 'a': 1, 'b': 2, 3.14: 'pi'}\n",
    "for v in d.values():\n",
    "    print(v)"
   ]
  },
  {
   "cell_type": "code",
   "execution_count": 3,
   "id": "5823aadf-8c19-43cd-b630-6fcd0e110bbc",
   "metadata": {},
   "outputs": [
    {
     "name": "stdout",
     "output_type": "stream",
     "text": [
      "('a', 1)\n",
      "('b', 2)\n",
      "(3.14, 'pi')\n"
     ]
    }
   ],
   "source": [
    "# iterating over each k and value as tuple\n",
    "for t in d.items():\n",
    "    print(t)"
   ]
  },
  {
   "cell_type": "code",
   "execution_count": 4,
   "id": "c1c18f0c-3e3d-4108-91f9-9db9483513cd",
   "metadata": {},
   "outputs": [
    {
     "name": "stdout",
     "output_type": "stream",
     "text": [
      "a 1\n",
      "b 2\n",
      "3.14 pi\n"
     ]
    }
   ],
   "source": [
    "# upacking the tuple\n",
    "for k,v in d.items():\n",
    "    print(k,v)"
   ]
  },
  {
   "cell_type": "code",
   "execution_count": 7,
   "id": "63001aac-ab24-47a9-a8ff-3e8d070f4974",
   "metadata": {},
   "outputs": [
    {
     "data": {
      "text/plain": [
       "True"
      ]
     },
     "execution_count": 7,
     "metadata": {},
     "output_type": "execute_result"
    }
   ],
   "source": [
    "# test if key/value in dictionary\n",
    "data = {\n",
    "    'open': 100,\n",
    "    'high': 110,\n",
    "    'low': 95,\n",
    "    'close': 110,\n",
    "    3.14: 'pip'\n",
    "}\n",
    "\n",
    "# check if key exists\n",
    "'open' in data"
   ]
  },
  {
   "cell_type": "code",
   "execution_count": 8,
   "id": "28b09e17-39b7-4152-8755-d429cb7ed1da",
   "metadata": {},
   "outputs": [
    {
     "data": {
      "text/plain": [
       "True"
      ]
     },
     "execution_count": 8,
     "metadata": {},
     "output_type": "execute_result"
    }
   ],
   "source": [
    "# check if value exist\n",
    "100 in data.values()"
   ]
  },
  {
   "cell_type": "code",
   "execution_count": 9,
   "id": "bec968ee-7a56-4ec3-916f-d2cc4cbf2285",
   "metadata": {},
   "outputs": [
    {
     "data": {
      "text/plain": [
       "True"
      ]
     },
     "execution_count": 9,
     "metadata": {},
     "output_type": "execute_result"
    }
   ],
   "source": [
    "# check if it is NOT in the dictionary\n",
    "\n",
    "not 'foo' in data"
   ]
  },
  {
   "cell_type": "code",
   "execution_count": null,
   "id": "9bdc947d-7160-4a0c-812a-8e35fcab4b4f",
   "metadata": {},
   "outputs": [],
   "source": [
    "# membership checking in dictionary is extremely fast\n",
    "# dictionary is constant lookup speed\n",
    "# unlike lists\n",
    "# O(n) - search each item"
   ]
  },
  {
   "cell_type": "code",
   "execution_count": 12,
   "id": "2bbc599a-2335-4dc2-af01-69f0a2371b8d",
   "metadata": {},
   "outputs": [],
   "source": [
    "# adding an item\n",
    "data['spread'] = 0.5 "
   ]
  },
  {
   "cell_type": "code",
   "execution_count": 14,
   "id": "0dc7d9fc-67a6-401a-a142-f1df241c4150",
   "metadata": {},
   "outputs": [
    {
     "name": "stdout",
     "output_type": "stream",
     "text": [
      "{'open': 100, 'high': 110, 'low': 95, 'close': 110, 3.14: 'pip', 'spread': 0.5}\n"
     ]
    },
    {
     "data": {
      "text/plain": [
       "{'open': 100, 'high': 110, 'low': 95, 'close': 110, 3.14: 'pip'}"
      ]
     },
     "execution_count": 14,
     "metadata": {},
     "output_type": "execute_result"
    }
   ],
   "source": [
    "# deleting an item\n",
    "print(data)\n",
    "del data['spread']\n",
    "data"
   ]
  },
  {
   "cell_type": "code",
   "execution_count": 16,
   "id": "14a02d69-2cad-46a7-83ad-84bd9b24aa32",
   "metadata": {},
   "outputs": [
    {
     "name": "stdout",
     "output_type": "stream",
     "text": [
      "{'open': 100, 'high': 110, 'low': 95, 'close': 110, 3.14: 'pip'}\n",
      "{}\n"
     ]
    }
   ],
   "source": [
    "# clearing a dictionary\n",
    "print(data)\n",
    "data.clear()\n",
    "print(data)"
   ]
  },
  {
   "cell_type": "code",
   "execution_count": 17,
   "id": "6b5956c1-cbb1-4670-b1dd-548e1e455b50",
   "metadata": {},
   "outputs": [
    {
     "data": {
      "text/plain": [
       "5"
      ]
     },
     "execution_count": 17,
     "metadata": {},
     "output_type": "execute_result"
    }
   ],
   "source": [
    "\n",
    "data = {\n",
    "    'open': 100,\n",
    "    'high': 110,\n",
    "    'low': 95,\n",
    "    'close': 110,\n",
    "    3.14: 'pip'\n",
    "}\n",
    "\n",
    "# gettin number of elements\n",
    "len(data)"
   ]
  },
  {
   "cell_type": "code",
   "execution_count": 19,
   "id": "fa497d7e-174a-44f6-a8a0-b904139bed52",
   "metadata": {},
   "outputs": [
    {
     "data": {
      "text/plain": [
       "(131321803725824, 131321913467520)"
      ]
     },
     "execution_count": 19,
     "metadata": {},
     "output_type": "execute_result"
    }
   ],
   "source": [
    "# Copying \n",
    "# shallow  \n",
    "\n",
    "data_cp = data.copy()\n",
    "id(data_cp), id(data)\n"
   ]
  },
  {
   "cell_type": "code",
   "execution_count": 21,
   "id": "75083014-f26b-4dc2-a8ab-693f9f1a11e4",
   "metadata": {},
   "outputs": [
    {
     "data": {
      "text/plain": [
       "{'open': 100, 'high': 110, 'low': 95, 'close': 110, 3.14: 'pip'}"
      ]
     },
     "execution_count": 21,
     "metadata": {},
     "output_type": "execute_result"
    }
   ],
   "source": [
    "# deep copy\n",
    "# no need for deep copy when elements are immutable type\n",
    "\n",
    "from copy import deepcopy\n",
    "data_cp = deepcopy(data)\n",
    "data_cp"
   ]
  },
  {
   "cell_type": "code",
   "execution_count": 22,
   "id": "d95e9a30-1ab5-4e12-929c-612f6705e253",
   "metadata": {},
   "outputs": [
    {
     "data": {
      "text/plain": [
       "{'a': 1, 'b': 2}"
      ]
     },
     "execution_count": 22,
     "metadata": {},
     "output_type": "execute_result"
    }
   ],
   "source": [
    "# other ways to create dictionary\n",
    "# below it has to be valid variable name\n",
    "# eg. 'a' but not 3.14 - this is a limitation\n",
    "d = dict(a=1, b=2)\n",
    "d"
   ]
  },
  {
   "cell_type": "code",
   "execution_count": 35,
   "id": "b23a7205-1e87-4c13-95e6-477da81ec94d",
   "metadata": {},
   "outputs": [],
   "source": [
    "# types are objects\n",
    "type(d)\n",
    "mets  = dir(d) # list object methods"
   ]
  },
  {
   "cell_type": "code",
   "execution_count": 30,
   "id": "fc1d012e-d3ca-4e96-b4c6-140f57ee762d",
   "metadata": {},
   "outputs": [
    {
     "name": "stdout",
     "output_type": "stream",
     "text": [
      "Help on built-in function fromkeys:\n",
      "\n",
      "fromkeys(iterable, value=None, /) class method of builtins.dict\n",
      "    Create a new dictionary with keys from iterable and values set to value.\n",
      "\n"
     ]
    },
    {
     "data": {
      "text/plain": [
       "\u001b[0;31mSignature:\u001b[0m \u001b[0mdict\u001b[0m\u001b[0;34m.\u001b[0m\u001b[0mfromkeys\u001b[0m\u001b[0;34m(\u001b[0m\u001b[0miterable\u001b[0m\u001b[0;34m,\u001b[0m \u001b[0mvalue\u001b[0m\u001b[0;34m=\u001b[0m\u001b[0;32mNone\u001b[0m\u001b[0;34m,\u001b[0m \u001b[0;34m/\u001b[0m\u001b[0;34m)\u001b[0m\u001b[0;34m\u001b[0m\u001b[0;34m\u001b[0m\u001b[0m\n",
       "\u001b[0;31mDocstring:\u001b[0m Create a new dictionary with keys from iterable and values set to value.\n",
       "\u001b[0;31mType:\u001b[0m      builtin_function_or_method"
      ]
     },
     "metadata": {},
     "output_type": "display_data"
    }
   ],
   "source": [
    "# ways to get help in jupyter lab\n",
    "help(dict.fromkeys)\n",
    "dict.fromkeys?\n",
    "dict.fromkeys?? # docstring and soruce code if available"
   ]
  },
  {
   "cell_type": "code",
   "execution_count": 37,
   "id": "bc5751ea-0c02-4d10-ac90-f295f3c6e8a7",
   "metadata": {},
   "outputs": [
    {
     "data": {
      "text/plain": [
       "{'open': 0, 'high': 0, 'close': 0, 3.14: 0}"
      ]
     },
     "execution_count": 37,
     "metadata": {},
     "output_type": "execute_result"
    }
   ],
   "source": [
    "# creating a new dictionary with keys set to a value\n",
    "dict.fromkeys(['open', 'high','close', 3.14], 0)"
   ]
  },
  {
   "cell_type": "code",
   "execution_count": 39,
   "id": "123ce648-c7a8-4834-a326-4360ab2cbead",
   "metadata": {},
   "outputs": [
    {
     "data": {
      "text/plain": [
       "{'p': 0, 'y': 0, 't': 0, 'h': 0, 'o': 0, 'n': 0}"
      ]
     },
     "execution_count": 39,
     "metadata": {},
     "output_type": "execute_result"
    }
   ],
   "source": [
    "dict.fromkeys('python', 0)"
   ]
  },
  {
   "cell_type": "code",
   "execution_count": 43,
   "id": "d4b04aab-f87b-4849-a73c-b97b047459c8",
   "metadata": {},
   "outputs": [
    {
     "data": {
      "text/plain": [
       "({}, {})"
      ]
     },
     "execution_count": 43,
     "metadata": {},
     "output_type": "execute_result"
    }
   ],
   "source": [
    "# creating empty dictionary\n",
    "d = {}\n",
    "d2 = dict()\n",
    "d, d2"
   ]
  },
  {
   "cell_type": "code",
   "execution_count": 85,
   "id": "72b2b502-c092-4e9e-951c-d8e4ca8f5799",
   "metadata": {},
   "outputs": [
    {
     "data": {
      "text/plain": [
       "{'w': 13, 'l': 1}"
      ]
     },
     "execution_count": 85,
     "metadata": {},
     "output_type": "execute_result"
    }
   ],
   "source": [
    "trans = [\n",
    "    {'item': 'w', 'type': 'sale', 'q': 10},\n",
    "    {'item': 'w', 'type': 'sale', 'q': 5},\n",
    "    {'item': 'w', 'type': 'refund', 'q': 2},\n",
    "    {'item': 'l', 'type': 'sale', 'q': 1},\n",
    "    {'item': 'l', 'type': 'sale', 'q': 1},\n",
    "    {'item': 'l', 'type': 'refund', 'q': 1},\n",
    "]\n",
    "\n",
    "total_sold = {}\n",
    "\n",
    "for t in trans:\n",
    "    item = t['item']\n",
    "    total_sold[item] = total_sold.get(item, 0)\n",
    "    total_sold[item] += t['q'] if t['type'] == 'sale' else 0\n",
    "    total_sold[item] -= t['q'] if t['type'] == 'refund' else 0\n",
    "\n",
    "total_sold"
   ]
  },
  {
   "cell_type": "code",
   "execution_count": 76,
   "id": "2403a97f-f441-4b73-b9c4-712c97109c7d",
   "metadata": {},
   "outputs": [
    {
     "data": {
      "text/plain": [
       "{'w': 13, 'l': 1}"
      ]
     },
     "execution_count": 76,
     "metadata": {},
     "output_type": "execute_result"
    }
   ],
   "source": [
    "from collections import defaultdict\n",
    "total_sold = defaultdict(int)\n",
    "\n",
    "for t in trans:\n",
    "    total_sold[t['item']] += t['q'] * (1 if t['type'] == 'sale' else -1)\n",
    "\n",
    "dict(total_sold)"
   ]
  },
  {
   "cell_type": "code",
   "execution_count": 80,
   "id": "1f49c817-b0a2-4dec-829e-0fcfff1a068c",
   "metadata": {},
   "outputs": [
    {
     "data": {
      "text/plain": [
       "{'a': 1, 'b': 2, 'c': 3, 'd': 4}"
      ]
     },
     "execution_count": 80,
     "metadata": {},
     "output_type": "execute_result"
    }
   ],
   "source": [
    "# merging dictionary\n",
    "d1 = {'a': 1, 'b': 2}\n",
    "d2 = {'c': 3, 'd':4}\n",
    "d1.update(d2)\n",
    "d1\n"
   ]
  },
  {
   "cell_type": "code",
   "execution_count": 87,
   "id": "f9e75082-363e-4888-a769-321bac8cf5ee",
   "metadata": {},
   "outputs": [
    {
     "data": {
      "text/plain": [
       "dict"
      ]
     },
     "execution_count": 87,
     "metadata": {},
     "output_type": "execute_result"
    }
   ],
   "source": [
    "# Sets\n",
    "s = {'a','b'}\n",
    "type(s)"
   ]
  },
  {
   "cell_type": "code",
   "execution_count": 88,
   "id": "6337c1af-ce28-4336-9285-1991f9bbb48f",
   "metadata": {},
   "outputs": [
    {
     "data": {
      "text/plain": [
       "{'a', 'b', 'c'}"
      ]
     },
     "execution_count": 88,
     "metadata": {},
     "output_type": "execute_result"
    }
   ],
   "source": [
    "s = set('abc')\n",
    "s"
   ]
  },
  {
   "cell_type": "code",
   "execution_count": 89,
   "id": "41f58bec-9f14-415f-a22b-c36aed7f793b",
   "metadata": {},
   "outputs": [
    {
     "data": {
      "text/plain": [
       "{1, 2, 3}"
      ]
     },
     "execution_count": 89,
     "metadata": {},
     "output_type": "execute_result"
    }
   ],
   "source": [
    "s = set([1,2,3])\n",
    "s"
   ]
  },
  {
   "cell_type": "code",
   "execution_count": 90,
   "id": "5cf21b2e-b6bd-40b7-ad2d-8d8409637bb8",
   "metadata": {},
   "outputs": [
    {
     "data": {
      "text/plain": [
       "{1, 2, 3.14, 'a'}"
      ]
     },
     "execution_count": 90,
     "metadata": {},
     "output_type": "execute_result"
    }
   ],
   "source": [
    "s = set((1,2,'a',3.14))\n",
    "s"
   ]
  },
  {
   "cell_type": "code",
   "execution_count": 92,
   "id": "3b4fc748-d920-45e1-ad74-ff1ef6b5b7f2",
   "metadata": {},
   "outputs": [
    {
     "data": {
      "text/plain": [
       "{'h', 'n', 'o', 'p', 't', 'y'}"
      ]
     },
     "execution_count": 92,
     "metadata": {},
     "output_type": "execute_result"
    }
   ],
   "source": [
    "# order in sets are not guranteed\n",
    "s = set('python')\n",
    "s"
   ]
  },
  {
   "cell_type": "code",
   "execution_count": 93,
   "id": "72bc73f8-c2d8-452a-b5c8-c7d361bc79a3",
   "metadata": {},
   "outputs": [
    {
     "data": {
      "text/plain": [
       "{'a', 'b', 'n'}"
      ]
     },
     "execution_count": 93,
     "metadata": {},
     "output_type": "execute_result"
    }
   ],
   "source": [
    "s = set('banana')\n",
    "s"
   ]
  },
  {
   "cell_type": "code",
   "execution_count": 96,
   "id": "d5cc1051-c086-4ea5-9aff-90ec674752a0",
   "metadata": {},
   "outputs": [
    {
     "data": {
      "text/plain": [
       "(set, 0)"
      ]
     },
     "execution_count": 96,
     "metadata": {},
     "output_type": "execute_result"
    }
   ],
   "source": [
    "# only way to create empty set\n",
    "s = set()\n",
    "type(s), len(s)"
   ]
  },
  {
   "cell_type": "code",
   "execution_count": 99,
   "id": "4a7bec54-d30b-4b46-9775-c3c411209fc5",
   "metadata": {},
   "outputs": [
    {
     "data": {
      "text/plain": [
       "(True, True)"
      ]
     },
     "execution_count": 99,
     "metadata": {},
     "output_type": "execute_result"
    }
   ],
   "source": [
    "# membership, iterationg is done similar to dictionaries\n",
    "s = set('python')\n",
    "'p' in s, 'z' not in s"
   ]
  },
  {
   "cell_type": "code",
   "execution_count": 98,
   "id": "9f9562aa-171b-4c1e-af2d-d562774ab900",
   "metadata": {},
   "outputs": [
    {
     "name": "stdout",
     "output_type": "stream",
     "text": [
      "h\n",
      "t\n",
      "o\n",
      "y\n",
      "n\n",
      "p\n"
     ]
    }
   ],
   "source": [
    "for i in s:\n",
    "    print(i)"
   ]
  },
  {
   "cell_type": "code",
   "execution_count": 101,
   "id": "6a0d13f9-717f-444a-98aa-a7e209e6c169",
   "metadata": {},
   "outputs": [
    {
     "ename": "TypeError",
     "evalue": "unhashable type: 'list'",
     "output_type": "error",
     "traceback": [
      "\u001b[0;31m---------------------------------------------------------------------------\u001b[0m",
      "\u001b[0;31mTypeError\u001b[0m                                 Traceback (most recent call last)",
      "Cell \u001b[0;32mIn[101], line 1\u001b[0m\n\u001b[0;32m----> 1\u001b[0m s1 \u001b[38;5;241m=\u001b[39m {\u001b[38;5;124m'\u001b[39m\u001b[38;5;124ma\u001b[39m\u001b[38;5;124m'\u001b[39m,[\u001b[38;5;241m1\u001b[39m]}\n\u001b[1;32m      2\u001b[0m s1\n",
      "\u001b[0;31mTypeError\u001b[0m: unhashable type: 'list'"
     ]
    }
   ],
   "source": [
    "# set can not have mutable object - similar to dict keys\n",
    "s1 = {'a',[1]} # lists are not allowed\n",
    "s1"
   ]
  },
  {
   "cell_type": "code",
   "execution_count": 103,
   "id": "8fd928a2-b423-45a9-9248-9cb5cc019e6c",
   "metadata": {},
   "outputs": [
    {
     "data": {
      "text/plain": [
       "(131321677569088, 131321677543936)"
      ]
     },
     "execution_count": 103,
     "metadata": {},
     "output_type": "execute_result"
    }
   ],
   "source": [
    "# copying sets\n",
    "s2 = s.copy()\n",
    "id(s2), id(s)"
   ]
  },
  {
   "cell_type": "code",
   "execution_count": 106,
   "id": "f4c70041-56ae-4bd6-9745-44f3bf410dcb",
   "metadata": {},
   "outputs": [
    {
     "data": {
      "text/plain": [
       "True"
      ]
     },
     "execution_count": 106,
     "metadata": {},
     "output_type": "execute_result"
    }
   ],
   "source": [
    "# Common set operations\n",
    "s1 = set('abc')\n",
    "s2 = {True, False}\n",
    "s3 = {'a', 100, 200}\n",
    "\n",
    "s1.isdisjoint(s2)\n"
   ]
  },
  {
   "cell_type": "code",
   "execution_count": 107,
   "id": "0b7e4d64-612e-418e-8433-ce70502819c1",
   "metadata": {},
   "outputs": [
    {
     "data": {
      "text/plain": [
       "False"
      ]
     },
     "execution_count": 107,
     "metadata": {},
     "output_type": "execute_result"
    }
   ],
   "source": [
    "s1.isdisjoint(s3)"
   ]
  },
  {
   "cell_type": "code",
   "execution_count": 109,
   "id": "8c6ce601-5c6b-4006-b64d-2bd332e5f2e1",
   "metadata": {},
   "outputs": [
    {
     "data": {
      "text/plain": [
       "{'a', 'b', 'c', 'd'}"
      ]
     },
     "execution_count": 109,
     "metadata": {},
     "output_type": "execute_result"
    }
   ],
   "source": [
    "# adding element to set - no duplication\n",
    "s1.add('d')\n",
    "s1.add('d')\n",
    "s1"
   ]
  },
  {
   "cell_type": "code",
   "execution_count": 110,
   "id": "35f07f0b-59f5-4082-9b09-86bd09462397",
   "metadata": {},
   "outputs": [
    {
     "data": {
      "text/plain": [
       "{'a', 'b', 'c'}"
      ]
     },
     "execution_count": 110,
     "metadata": {},
     "output_type": "execute_result"
    }
   ],
   "source": [
    "# removing elements\n",
    "s1.remove('d')\n",
    "s1"
   ]
  },
  {
   "cell_type": "code",
   "execution_count": 111,
   "id": "4523ada8-6f20-473e-8afd-931587f46fc0",
   "metadata": {},
   "outputs": [
    {
     "ename": "KeyError",
     "evalue": "'z'",
     "output_type": "error",
     "traceback": [
      "\u001b[0;31m---------------------------------------------------------------------------\u001b[0m",
      "\u001b[0;31mKeyError\u001b[0m                                  Traceback (most recent call last)",
      "Cell \u001b[0;32mIn[111], line 2\u001b[0m\n\u001b[1;32m      1\u001b[0m \u001b[38;5;66;03m# can not remove non-existing element\u001b[39;00m\n\u001b[0;32m----> 2\u001b[0m \u001b[43ms1\u001b[49m\u001b[38;5;241;43m.\u001b[39;49m\u001b[43mremove\u001b[49m\u001b[43m(\u001b[49m\u001b[38;5;124;43m'\u001b[39;49m\u001b[38;5;124;43mz\u001b[39;49m\u001b[38;5;124;43m'\u001b[39;49m\u001b[43m)\u001b[49m\n",
      "\u001b[0;31mKeyError\u001b[0m: 'z'"
     ]
    }
   ],
   "source": [
    "# can not remove non-existing element\n",
    "s1.remove('z')\n"
   ]
  },
  {
   "cell_type": "code",
   "execution_count": 113,
   "id": "e0b24fc5-094b-44e3-92d7-8560379409f9",
   "metadata": {},
   "outputs": [
    {
     "data": {
      "text/plain": [
       "{'a', 'b'}"
      ]
     },
     "execution_count": 113,
     "metadata": {},
     "output_type": "execute_result"
    }
   ],
   "source": [
    "s1.discard('c')\n",
    "s1"
   ]
  },
  {
   "cell_type": "code",
   "execution_count": 116,
   "id": "8bf51b1c-371d-4561-a484-7169c84363a5",
   "metadata": {},
   "outputs": [
    {
     "data": {
      "text/plain": [
       "{'a', 'b'}"
      ]
     },
     "execution_count": 116,
     "metadata": {},
     "output_type": "execute_result"
    }
   ],
   "source": [
    "# no errors raised when discarding non-existing element\n",
    "s1.discard('z')\n",
    "s1"
   ]
  },
  {
   "cell_type": "code",
   "execution_count": 117,
   "id": "aa2e24dd-c4f2-4a5e-8a3a-b9babbaba63b",
   "metadata": {},
   "outputs": [
    {
     "data": {
      "text/plain": [
       "True"
      ]
     },
     "execution_count": 117,
     "metadata": {},
     "output_type": "execute_result"
    }
   ],
   "source": [
    "s1 = set('abc')\n",
    "s2 = set('abcdef')\n",
    "s1 < s2"
   ]
  },
  {
   "cell_type": "code",
   "execution_count": 118,
   "id": "2e285def-2963-4089-b951-2c61e6b28423",
   "metadata": {},
   "outputs": [
    {
     "data": {
      "text/plain": [
       "True"
      ]
     },
     "execution_count": 118,
     "metadata": {},
     "output_type": "execute_result"
    }
   ],
   "source": [
    "s1 <= s2"
   ]
  },
  {
   "cell_type": "code",
   "execution_count": 119,
   "id": "b9a94954-04da-46a0-8643-c731064589bc",
   "metadata": {},
   "outputs": [
    {
     "data": {
      "text/plain": [
       "True"
      ]
     },
     "execution_count": 119,
     "metadata": {},
     "output_type": "execute_result"
    }
   ],
   "source": [
    "s2 >= s1"
   ]
  },
  {
   "cell_type": "code",
   "execution_count": 120,
   "id": "f3999b7d-fa36-4495-9d4b-ca15d1472905",
   "metadata": {},
   "outputs": [
    {
     "data": {
      "text/plain": [
       "True"
      ]
     },
     "execution_count": 120,
     "metadata": {},
     "output_type": "execute_result"
    }
   ],
   "source": [
    "s2 > s1"
   ]
  },
  {
   "cell_type": "code",
   "execution_count": 122,
   "id": "5e0cb757-7aaa-44f0-8284-900b420bf5da",
   "metadata": {},
   "outputs": [
    {
     "data": {
      "text/plain": [
       "False"
      ]
     },
     "execution_count": 122,
     "metadata": {},
     "output_type": "execute_result"
    }
   ],
   "source": [
    "s3 = set('abc')\n",
    "s1 < s3"
   ]
  },
  {
   "cell_type": "code",
   "execution_count": 123,
   "id": "bb12d299-fedd-4e87-8358-165ce5103d19",
   "metadata": {},
   "outputs": [
    {
     "data": {
      "text/plain": [
       "True"
      ]
     },
     "execution_count": 123,
     "metadata": {},
     "output_type": "execute_result"
    }
   ],
   "source": [
    "s1 == s3"
   ]
  },
  {
   "cell_type": "code",
   "execution_count": 124,
   "id": "ae444acd-06e2-4571-aa8d-313895c2c4e5",
   "metadata": {},
   "outputs": [
    {
     "data": {
      "text/plain": [
       "(131321677568416, 131321677565504)"
      ]
     },
     "execution_count": 124,
     "metadata": {},
     "output_type": "execute_result"
    }
   ],
   "source": [
    "id(s1), id(s3)"
   ]
  },
  {
   "cell_type": "code",
   "execution_count": 125,
   "id": "4cdf0d38-15d2-4789-ae0a-435833786c97",
   "metadata": {},
   "outputs": [
    {
     "data": {
      "text/plain": [
       "True"
      ]
     },
     "execution_count": 125,
     "metadata": {},
     "output_type": "execute_result"
    }
   ],
   "source": [
    "s1 <= s3"
   ]
  },
  {
   "cell_type": "code",
   "execution_count": 127,
   "id": "4983b9e3-02d2-4491-b6d2-c62b3e689e44",
   "metadata": {},
   "outputs": [
    {
     "data": {
      "text/plain": [
       "{'a', 'b', 'c', 'd'}"
      ]
     },
     "execution_count": 127,
     "metadata": {},
     "output_type": "execute_result"
    }
   ],
   "source": [
    "# union - returns new set\n",
    "s1 = set('abc')\n",
    "s2 = set('bcd')\n",
    "s_union = s1 | s2 \n",
    "s_union"
   ]
  },
  {
   "cell_type": "code",
   "execution_count": 128,
   "id": "56a0e798-5a80-4c28-a831-81b90a1105cb",
   "metadata": {},
   "outputs": [
    {
     "data": {
      "text/plain": [
       "{'b', 'c'}"
      ]
     },
     "execution_count": 128,
     "metadata": {},
     "output_type": "execute_result"
    }
   ],
   "source": [
    "# intersection\n",
    "s_intersection = s1 & s2\n",
    "s_intersection "
   ]
  },
  {
   "cell_type": "code",
   "execution_count": 129,
   "id": "478217c4-dc18-4272-817d-c866c4a109c7",
   "metadata": {},
   "outputs": [
    {
     "data": {
      "text/plain": [
       "{'a'}"
      ]
     },
     "execution_count": 129,
     "metadata": {},
     "output_type": "execute_result"
    }
   ],
   "source": [
    "# difference \n",
    "s_diff = s1 - s2\n",
    "s_diff"
   ]
  },
  {
   "cell_type": "code",
   "execution_count": 133,
   "id": "dc24caed-f6e9-46f1-8ed7-00425a5f2b5b",
   "metadata": {},
   "outputs": [
    {
     "data": {
      "text/plain": [
       "{' ', 'a', 'e', 'h', 'i', 'l', 'n', 'o', 'p', 's', 't', 'y'}"
      ]
     },
     "execution_count": 133,
     "metadata": {},
     "output_type": "execute_result"
    }
   ],
   "source": [
    "st_1 = set('python is an awesome language!')\n",
    "st_2 = set('a python is also a snake')\n",
    "st_1 & st_2\n"
   ]
  },
  {
   "cell_type": "code",
   "execution_count": 137,
   "id": "c888ab89-83df-4b87-bf35-592afcbe51ea",
   "metadata": {},
   "outputs": [
    {
     "data": {
      "text/plain": [
       "{'AAPL', 'AMZN', 'BABA', 'COST', 'F', 'FB', 'GM', 'GOOG', 'TSLA', 'WMT'}"
      ]
     },
     "execution_count": 137,
     "metadata": {},
     "output_type": "execute_result"
    }
   ],
   "source": [
    "s1 = {'FB', 'AMZN', 'AAPL', 'GOOG'}\n",
    "s2 = {'BABA', 'WMT', 'COST'}\n",
    "s3 = {'TSLA', 'F', 'GM'}\n",
    "consolidated = s1 | s2 | s3\n",
    "consolidated "
   ]
  },
  {
   "cell_type": "code",
   "execution_count": 140,
   "id": "1dc5bae2-b970-4877-ae9d-918427327a11",
   "metadata": {},
   "outputs": [
    {
     "data": {
      "text/plain": [
       "'abcdefghijklmnopqrstuvwxyz'"
      ]
     },
     "execution_count": 140,
     "metadata": {},
     "output_type": "execute_result"
    }
   ],
   "source": [
    "import string\n",
    "string.ascii_lowercase"
   ]
  },
  {
   "cell_type": "code",
   "execution_count": 141,
   "id": "23b0504d-a923-4358-b719-c9ae705cf517",
   "metadata": {},
   "outputs": [
    {
     "data": {
      "text/plain": [
       "'abcdefghijklmnopqrstuvwxyzABCDEFGHIJKLMNOPQRSTUVWXYZ'"
      ]
     },
     "execution_count": 141,
     "metadata": {},
     "output_type": "execute_result"
    }
   ],
   "source": [
    "string.ascii_letters"
   ]
  },
  {
   "cell_type": "code",
   "execution_count": 142,
   "id": "4d480a3f-e606-40f9-a045-a3c3ae78106a",
   "metadata": {},
   "outputs": [
    {
     "data": {
      "text/plain": [
       "'ABCDEFGHIJKLMNOPQRSTUVWXYZ'"
      ]
     },
     "execution_count": 142,
     "metadata": {},
     "output_type": "execute_result"
    }
   ],
   "source": [
    "string.ascii_uppercase"
   ]
  },
  {
   "cell_type": "code",
   "execution_count": 143,
   "id": "eb56a0ac-fb3c-442d-ba12-4c1f12c9a2bb",
   "metadata": {},
   "outputs": [
    {
     "data": {
      "text/plain": [
       "\u001b[0;31mType:\u001b[0m        module\n",
       "\u001b[0;31mString form:\u001b[0m <module 'string' from '/home/avsar/.asdf/installs/python/3.13.0/lib/python3.13/string.py'>\n",
       "\u001b[0;31mFile:\u001b[0m        ~/.asdf/installs/python/3.13.0/lib/python3.13/string.py\n",
       "\u001b[0;31mDocstring:\u001b[0m  \n",
       "A collection of string constants.\n",
       "\n",
       "Public module variables:\n",
       "\n",
       "whitespace -- a string containing all ASCII whitespace\n",
       "ascii_lowercase -- a string containing all ASCII lowercase letters\n",
       "ascii_uppercase -- a string containing all ASCII uppercase letters\n",
       "ascii_letters -- a string containing all ASCII letters\n",
       "digits -- a string containing all ASCII decimal digits\n",
       "hexdigits -- a string containing all ASCII hexadecimal digits\n",
       "octdigits -- a string containing all ASCII octal digits\n",
       "punctuation -- a string containing all ASCII punctuation characters\n",
       "printable -- a string containing all ASCII characters considered printable"
      ]
     },
     "metadata": {},
     "output_type": "display_data"
    }
   ],
   "source": [
    "?string"
   ]
  },
  {
   "cell_type": "code",
   "execution_count": 146,
   "id": "6c70b4d7-5e55-493d-ba8d-c2155db1990a",
   "metadata": {},
   "outputs": [
    {
     "data": {
      "text/plain": [
       "{'A',\n",
       " 'B',\n",
       " 'C',\n",
       " 'D',\n",
       " 'E',\n",
       " 'F',\n",
       " 'G',\n",
       " 'H',\n",
       " 'I',\n",
       " 'J',\n",
       " 'K',\n",
       " 'L',\n",
       " 'M',\n",
       " 'N',\n",
       " 'O',\n",
       " 'P',\n",
       " 'Q',\n",
       " 'R',\n",
       " 'S',\n",
       " 'U',\n",
       " 'V',\n",
       " 'W',\n",
       " 'X',\n",
       " 'Y',\n",
       " 'Z'}"
      ]
     },
     "execution_count": 146,
     "metadata": {},
     "output_type": "execute_result"
    }
   ],
   "source": [
    "alp = set(string.ascii_letters)\n",
    "text = 'The quick brown fox jumps over the lazy dog'\n",
    "alp - set(text)"
   ]
  },
  {
   "cell_type": "code",
   "execution_count": 152,
   "id": "63ea641d-9846-4877-b462-238513351dfd",
   "metadata": {},
   "outputs": [
    {
     "data": {
      "text/plain": [
       "set()"
      ]
     },
     "execution_count": 152,
     "metadata": {},
     "output_type": "execute_result"
    }
   ],
   "source": [
    "alp = set(string.ascii_letters.casefold())\n",
    "# text = 'The quick brown fox jumps over the lazy dog'\n",
    "text = 'THE QUICK BROWN FOX JUMPS OVER THE LAZY DOG'\n",
    "alp - set(text.casefold())"
   ]
  },
  {
   "cell_type": "code",
   "execution_count": null,
   "id": "c94a115f-9e7f-421d-b625-70feeae5b766",
   "metadata": {},
   "outputs": [],
   "source": []
  }
 ],
 "metadata": {
  "kernelspec": {
   "display_name": "Python 3 (ipykernel)",
   "language": "python",
   "name": "python3"
  },
  "language_info": {
   "codemirror_mode": {
    "name": "ipython",
    "version": 3
   },
   "file_extension": ".py",
   "mimetype": "text/x-python",
   "name": "python",
   "nbconvert_exporter": "python",
   "pygments_lexer": "ipython3",
   "version": "3.13.0"
  }
 },
 "nbformat": 4,
 "nbformat_minor": 5
}
