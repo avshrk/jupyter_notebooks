{
 "cells": [
  {
   "cell_type": "code",
   "execution_count": 24,
   "id": "778189c4-98d5-4a1f-8bfe-08a18b919f34",
   "metadata": {},
   "outputs": [],
   "source": [
    "class Account:\n",
    "    def __init__(self, account_number, account_type, initial_balance):\n",
    "        self.account_number = account_number\n",
    "        self.account_type = account_type\n",
    "        self.balance = initial_balance\n",
    "\n",
    "    def withdraw(self, amount):\n",
    "        if amount > 0 and amount <= self.balance:\n",
    "            self.balance = self.balance - amount\n",
    "            print(f'Withdrawal: {amount}')\n",
    "            print(f'New Blance: {self.balance}')\n",
    "        else:\n",
    "            if amount < 0:\n",
    "                print(f'{amount} is an invalid amount')\n",
    "            else:\n",
    "                print('Insufficient funds.')\n",
    "                print(f'Current balance is {self.balance}')"
   ]
  },
  {
   "cell_type": "code",
   "execution_count": 22,
   "id": "5002d0da-7803-482f-a087-51a4597b6e12",
   "metadata": {},
   "outputs": [
    {
     "name": "stdout",
     "output_type": "stream",
     "text": [
      "A =  65\n",
      "65 = A\n"
     ]
    },
    {
     "data": {
      "text/plain": [
       "'aaa bbbaaa bbb'"
      ]
     },
     "execution_count": 22,
     "metadata": {},
     "output_type": "execute_result"
    }
   ],
   "source": [
    "# a - z 97 - 122\n",
    "# A - Z 65 - 90\n",
    "print(\"A = \", ord('A')) # numeric value of the char\n",
    "print(\"65 =\", chr(65))   # char for given integer\n",
    "strg = 'aaa bbb'\n",
    "strg+= strg\n",
    "strg"
   ]
  },
  {
   "cell_type": "code",
   "execution_count": 28,
   "id": "256ee1a4-983f-4985-998b-2c846d07c37a",
   "metadata": {},
   "outputs": [
    {
     "name": "stdout",
     "output_type": "stream",
     "text": [
      " aaaa  aaaa \n",
      " aaaa  aaaa \n"
     ]
    },
    {
     "data": {
      "text/plain": [
       "True"
      ]
     },
     "execution_count": 28,
     "metadata": {},
     "output_type": "execute_result"
    }
   ],
   "source": [
    "strg= ' aaaa '\n",
    "ostr = ' aaaa '\n",
    "strg+= strg\n",
    "other_str = ostr + ostr\n",
    "print(str) \n",
    "print(other_str) \n",
    "other_str == strg\n"
   ]
  },
  {
   "cell_type": "code",
   "execution_count": 68,
   "id": "3271d53b-ab57-447a-86f3-307b9cbb79a4",
   "metadata": {},
   "outputs": [
    {
     "name": "stdout",
     "output_type": "stream",
     "text": [
      "bar\n"
     ]
    }
   ],
   "source": [
    "'    booo'.lstrip()\n",
    "'fooo    '.rstrip()\n",
    "'boo'.capitalize()\n",
    "'BB'.lower()\n",
    "' '.join(['bb','aa','cc'])\n",
    "'boo foo zoo'.split()\n",
    "' bar foo barfoo'.count(' bar ') \n",
    "' bar foo barfoo'.find(' foo ')  # returns index starting from 0\n",
    "'bar foo bar foo barfoo'.replace('bar ', 'zoo ')\n",
    "# print(\"boo\",end=\"-\")\n",
    "# print('zoo',end=' ')\n",
    "let_z = 'z'\n",
    "'z'.isalnum()\n",
    "'z'.isalpha()\n",
    "'1'.isdigit()\n",
    "'z'.islower()\n",
    "'Z'.isupper()\n",
    "' '.isspace()\n",
    "\n",
    "print('bar',end=\"\\n\")"
   ]
  },
  {
   "cell_type": "code",
   "execution_count": 79,
   "id": "45888e25-3e86-46e8-99eb-cba3139477d6",
   "metadata": {},
   "outputs": [
    {
     "data": {
      "text/plain": [
       "['a', 'b']"
      ]
     },
     "execution_count": 79,
     "metadata": {},
     "output_type": "execute_result"
    }
   ],
   "source": [
    "def is_float(strg):\n",
    "    try:\n",
    "        float(strg)\n",
    "        return True\n",
    "    except ValueError: \n",
    "        return False\n",
    "        \n",
    "is_float('33.3a')\n",
    "'a b'.split(' ')\n",
    "'a b'.split()"
   ]
  },
  {
   "cell_type": "code",
   "execution_count": null,
   "id": "c31bd99f-b639-4b01-a72f-74001bd2ae4d",
   "metadata": {},
   "outputs": [],
   "source": [
    "def solve_eq(eq):\n",
    "    x,op,n,eql,n2 = eq.split()"
   ]
  },
  {
   "cell_type": "code",
   "execution_count": 81,
   "id": "cba85bb3-7d44-441f-9815-ba868b87a531",
   "metadata": {},
   "outputs": [
    {
     "name": "stdout",
     "output_type": "stream",
     "text": [
      "{} {} 8 2.0\n"
     ]
    }
   ],
   "source": [
    "def mult_div(n1, n2):\n",
    "    return (n1 * n2), (n1/n2)\n",
    "\n",
    "m,d = mult_div(4,2)\n",
    "print(\"{} {}\",m,d)"
   ]
  },
  {
   "cell_type": "code",
   "execution_count": 94,
   "id": "3fc5062d-858c-48a3-bff8-26e0ce56310d",
   "metadata": {},
   "outputs": [
    {
     "data": {
      "text/plain": [
       "[2, 3, 5, 7, 11, 13, 17, 19]"
      ]
     },
     "execution_count": 94,
     "metadata": {},
     "output_type": "execute_result"
    }
   ],
   "source": [
    "def is_prime(n):\n",
    "    for i in range(2, n):\n",
    "        if (n % i) == 0:\n",
    "            return False\n",
    "    return True \n",
    "\n",
    "def list_primes(max): \n",
    "    primes_list = []\n",
    "    for n1 in range(2, max):\n",
    "         if is_prime(n1):\n",
    "             primes_list.append(n1)\n",
    "    return primes_list  \n",
    "\n",
    "list_primes(20)\n"
   ]
  },
  {
   "cell_type": "code",
   "execution_count": 110,
   "id": "513d1d0e-d898-43bd-8e33-b25006314015",
   "metadata": {},
   "outputs": [
    {
     "name": "stdout",
     "output_type": "stream",
     "text": [
      "3 4 9 22 10\n",
      "<class 'tuple'>\n",
      "(3, 4, 9, 22, 10)\n"
     ]
    },
    {
     "data": {
      "text/plain": [
       "48"
      ]
     },
     "execution_count": 110,
     "metadata": {},
     "output_type": "execute_result"
    }
   ],
   "source": [
    "def sum_all(*args):\n",
    "    print(*args)\n",
    "    print(type(args))\n",
    "    print(args)\n",
    "    sm = 0\n",
    "    for i in args:\n",
    "        sm += i\n",
    "    return sm \n",
    "\n",
    "sum_all(3,4,9,22,10)"
   ]
  },
  {
   "cell_type": "code",
   "execution_count": null,
   "id": "c9404dd2-f62d-4cf4-a5fc-a4060bbd7744",
   "metadata": {},
   "outputs": [],
   "source": [
    "import math\n",
    "\n",
    "def get_areo(shape):\n",
    "    shape = shape.lower()"
   ]
  },
  {
   "cell_type": "code",
   "execution_count": 58,
   "id": "82256e8a-5b66-46e2-8a59-bdeb909cbb74",
   "metadata": {},
   "outputs": [
    {
     "name": "stdout",
     "output_type": "stream",
     "text": [
      "--\n",
      "[0, 1, 2, 33, 99]\n",
      "[99, 33, 2, 1, 0]\n",
      "[100, 99, 33, 2, 1, 0]\n",
      "[99, 33, 2, 1, 0]\n",
      "[99, 33, 2, 1]\n"
     ]
    }
   ],
   "source": [
    "rlist = ['aa', 1.23, 28]\n",
    "rlist[-3] # 'aa'\n",
    "rlist[-1] # 28\n",
    "one_to_ten = list(range(11))\n",
    "len(rlist) # 3\n",
    "len('foo') # 3\n",
    "rlist[0:2] # first two items\n",
    "rlist[0] * 3 # aaaaaa\n",
    "rlist.index(28)  # index 2\n",
    "'aa' in rlist   # True\n",
    "rlist.count('aa') # 1\n",
    "rlist[0] = 'bb' # replaces values\n",
    "rlist.append('foo') # ['bb', 1.23, 28, 'foo']\n",
    "\n",
    "import random\n",
    "nlist = []\n",
    "for i in range(5):\n",
    "    nlist.append(random.randrange(1,9)) \n",
    "\n",
    "# Buble Sort\n",
    "blist = []\n",
    "for i in range(10):\n",
    "    blist.append(random.randrange(1,99)) \n",
    "\n",
    "swapped = True\n",
    "i = 0\n",
    "\n",
    "while swapped:\n",
    "    swapped = False\n",
    "    for i in range(len(blist) - 1):\n",
    "        if blist[i] > blist[i + 1]:\n",
    "            blist[i], blist[i+1] = blist[i +1], blist[i]\n",
    "            swapped = True\n",
    "\n",
    "print('--')\n",
    "rv = [2,99,1,0,33]\n",
    "rv.sort()\n",
    "print(rv)\n",
    "rv.reverse()\n",
    "print(rv)\n",
    "rv.insert(0,100)\n",
    "print(rv)\n",
    "rv.remove(100)\n",
    "print(rv)\n",
    "rv.pop(-1)\n",
    "print(rv)\n"
   ]
  },
  {
   "cell_type": "code",
   "execution_count": 23,
   "id": "86958015-2bf5-4aa3-95be-a0ddf6bc4fa7",
   "metadata": {},
   "outputs": [
    {
     "name": "stdout",
     "output_type": "stream",
     "text": [
      "[0, 0, 0]\n"
     ]
    }
   ],
   "source": [
    "# O(nlog n ) Time complexity\n",
    "# O(n) Space complexity\n",
    "def ary_square(ary):\n",
    "    if len(ary) < 1:\n",
    "        return ary\n",
    "    for i in range(len(ary)):\n",
    "        ary[i] = ary[i] ** 2\n",
    "    return  ary\n",
    "\n",
    "ary_square([1,3,5]) == [1,9,25]\n",
    "sol = ary_square([-4, -2, 0,1,3])\n",
    "sol.sort()\n",
    "\n",
    "res = [0] * 3\n",
    "len(res)\n",
    "print(res)"
   ]
  },
  {
   "cell_type": "code",
   "execution_count": 148,
   "id": "26413013-9779-4af9-a2bd-89db6532df98",
   "metadata": {},
   "outputs": [
    {
     "name": "stdout",
     "output_type": "stream",
     "text": [
      "5\n",
      "4\n",
      "3\n",
      "2\n",
      "1\n"
     ]
    },
    {
     "data": {
      "text/plain": [
       "[0, 1, 4, 9, 25, 400]"
      ]
     },
     "execution_count": 148,
     "metadata": {},
     "output_type": "execute_result"
    }
   ],
   "source": [
    "def asqr(ary):\n",
    "    new_ary = [0] * len(ary)\n",
    "    left = 0\n",
    "    cur = right = len(ary) - 1\n",
    "    while left < right: \n",
    "        print(cur)\n",
    "        lt = ary[left] ** 2\n",
    "        rt = ary[right] ** 2\n",
    "        if lt > rt:  \n",
    "            new_ary[cur] = lt\n",
    "            left += 1\n",
    "        else: \n",
    "            new_ary[cur] = rt\n",
    "            right -= 1\n",
    "        cur -= 1 \n",
    "    return new_ary \n",
    "    \n",
    "asqr([-5,-2,0,1,3,20])\n",
    "            "
   ]
  },
  {
   "cell_type": "code",
   "execution_count": 155,
   "id": "685f2290-e8ec-4dff-816a-89b67a35e869",
   "metadata": {},
   "outputs": [
    {
     "name": "stdout",
     "output_type": "stream",
     "text": [
      "5\n",
      "4\n",
      "3\n",
      "2\n",
      "1\n",
      "0\n"
     ]
    },
    {
     "data": {
      "text/plain": [
       "[0, 1, 4, 9, 25, 400]"
      ]
     },
     "execution_count": 155,
     "metadata": {},
     "output_type": "execute_result"
    }
   ],
   "source": [
    "def sq(ary):\n",
    "    n = len(ary)\n",
    "    l,r = 0, n-1\n",
    "    res =[0]*n\n",
    "\n",
    "    for k in reversed(range(n)):\n",
    "        print(k) \n",
    "        lv = ary[l]**2\n",
    "        rv = ary[r]**2\n",
    "        if lv > rv:\n",
    "            l += 1\n",
    "            res[k] = lv\n",
    "        else:\n",
    "            r -= 1\n",
    "            res[k] = rv\n",
    "    return res   \n",
    "\n",
    "sq([-5,-2,0,1,3,20])"
   ]
  },
  {
   "cell_type": "code",
   "execution_count": 43,
   "id": "73cbff18-ff11-46df-a41c-4645c803c3f9",
   "metadata": {},
   "outputs": [
    {
     "data": {
      "text/plain": [
       "[[1.0, 1.0, 1.0], [4.0, 8.0, 16.0], [9.0, 27.0, 81.0]]"
      ]
     },
     "execution_count": 43,
     "metadata": {},
     "output_type": "execute_result"
    }
   ],
   "source": [
    "import math\n",
    "[[math.pow(m,2), math.pow(m,3), math.pow(m,4)] for m in [1,2,3]]"
   ]
  },
  {
   "cell_type": "code",
   "execution_count": 49,
   "id": "8b59de4a-4f36-4bf5-895d-6a97686a12b2",
   "metadata": {},
   "outputs": [
    {
     "data": {
      "text/plain": [
       "[[0, 0, 0, 0, 0, 0, 0, 0, 0],\n",
       " [0, 0, 0, 0, 0, 0, 0, 0, 0],\n",
       " [0, 0, 0, 0, 0, 0, 0, 0, 0]]"
      ]
     },
     "execution_count": 49,
     "metadata": {},
     "output_type": "execute_result"
    }
   ],
   "source": [
    "[[0] * 9 for i in range(3)]"
   ]
  },
  {
   "cell_type": "code",
   "execution_count": 64,
   "id": "0dc36702-c6a4-4e7f-aafa-8c46b53541fe",
   "metadata": {},
   "outputs": [
    {
     "data": {
      "text/plain": [
       "{'bar': 2, 3: 'zo'}"
      ]
     },
     "execution_count": 64,
     "metadata": {},
     "output_type": "execute_result"
    }
   ],
   "source": [
    "dc = {'foo': 'a', 'bar': 2, 3: 'zo'}\n",
    "dc[3]\n",
    "dc['bar']\n",
    "'foo' in dc  # true if exists\n",
    "dc.values()\n",
    "dc.keys()\n",
    "dc.get('f','not here') # prints default if not found\n",
    "dc.clear()  #  return {}\n",
    "dc = {'foo': 'a', 'bar': 2, 3: 'zo'}\n",
    "del dc['foo']\n",
    "dc # removes 'foo' and value\n"
   ]
  },
  {
   "cell_type": "code",
   "execution_count": 123,
   "id": "e2b8ef56-e833-4c3a-a9c2-f49b5bd0bc18",
   "metadata": {},
   "outputs": [
    {
     "name": "stdout",
     "output_type": "stream",
     "text": [
      "1\n",
      "2\n",
      "1\n",
      "2\n",
      "3\n",
      "4\n"
     ]
    }
   ],
   "source": [
    "# tubples\n",
    "mt = (1,2,3,4)\n",
    "nt = mt[0:2] # returns (1,2) tuple\n",
    "type(nt)\n",
    "len(nt)\n",
    "jt = nt + mt\n",
    "4 in jt # returns true\n",
    "for i in jt:\n",
    "    print(i)\n",
    "gt = tuple([i for i in range(10)])  # creates tuple from 0 to 9\n",
    "lt = tuple([1,2,4]) # converts list to tuple\n",
    "lst = list(lt)"
   ]
  },
  {
   "cell_type": "code",
   "execution_count": 133,
   "id": "755a9a81-f548-4b4e-8ff1-28b4c13df6bc",
   "metadata": {},
   "outputs": [
    {
     "name": "stdout",
     "output_type": "stream",
     "text": [
      "Spot runs\n",
      "Spot\n",
      "3\n"
     ]
    }
   ],
   "source": [
    "## OOP\n",
    "\n",
    "class Dog:\n",
    "    def __init__(self, name=\"\", height=0, weight=0 ): \n",
    "        self.name = name\n",
    "        self.height = height\n",
    "        self.weight = weight\n",
    "\n",
    "    def run(self): \n",
    "        print(\"{} runs\".format(self.name))\n",
    "\n",
    "    def eat(self): \n",
    "        print(\"{} eats\".format(self.name))\n",
    "        \n",
    "    def bark(self): \n",
    "        print(\"{} barks\".format(self.name))\n",
    "\n",
    "def main():\n",
    "    \n",
    "    spot = Dog(\"Spot\", 3, 20)\n",
    "    spot.run()\n",
    "    print(spot.name)\n",
    "    print(spot.height)\n",
    "\n",
    "main()"
   ]
  },
  {
   "cell_type": "code",
   "execution_count": 144,
   "id": "f6dbceac-e173-459e-8adc-cc0079d8e55d",
   "metadata": {},
   "outputs": [
    {
     "name": "stdout",
     "output_type": "stream",
     "text": [
      "Retrieving the height\n",
      "10\n",
      "Retrieving the height\n",
      "30\n",
      "Retrieving the height\n",
      "300\n",
      "False\n",
      "True\n"
     ]
    }
   ],
   "source": [
    "class Square:  \n",
    "    def __init__(self, height='0', width='0'): \n",
    "        self.height = height \n",
    "        self.width = width\n",
    "\n",
    "    @property \n",
    "    def height(self):\n",
    "        print(\"Retrieving the height\")\n",
    "        return self.__height\n",
    "        \n",
    "    @height.setter\n",
    "    def height(self, value):\n",
    "        if value.isdigit():\n",
    "            self.__height = value\n",
    "        else:\n",
    "            print(\"Invalid format\")\n",
    "\n",
    "    def area(self):\n",
    "        return int(self.height) * int(self.width)\n",
    "            \n",
    "def main():\n",
    "    sq = Square('10', '10')\n",
    "    print(sq.height)\n",
    "    sq.height = '30'\n",
    "    print(sq.height)\n",
    "    print(sq.area())\n",
    "    print('b'.isdigit())\n",
    "    print('4'.isdigit())\n",
    "\n",
    "\n",
    "main()"
   ]
  },
  {
   "cell_type": "code",
   "execution_count": 164,
   "id": "5a914416-76b2-4b54-8263-1d181112e53b",
   "metadata": {},
   "outputs": [
    {
     "data": {
      "text/plain": [
       "True"
      ]
     },
     "execution_count": 164,
     "metadata": {},
     "output_type": "execute_result"
    }
   ],
   "source": [
    "def mnt(ary):\n",
    "    if len(ary) < 2:\n",
    "        return True\n",
    "        \n",
    "    n = len(ary)\n",
    "    monoten = ''\n",
    "    for i in range(n - 1):\n",
    "        if ary[i] > ary[i+1]:\n",
    "            if monoten == '':\n",
    "                monoten = 'inc'\n",
    "            if monoten != 'inc':\n",
    "                return False\n",
    "        if ary[i] < ary[i+1]:\n",
    "            if monoten == '':\n",
    "                monoten = 'dec'\n",
    "            if monoten != 'dec':\n",
    "                return False\n",
    "    return True \n",
    "\n",
    "# Time Complexity O(n), Space Complexity O(1)\n",
    "   \n",
    "# mnt([1,1,1,1,1])\n",
    "# mnt([1])\n",
    "# mnt([1,1,2,0,3,4])\n",
    "# mnt([9,9,8,7,0,4,4,1])"
   ]
  },
  {
   "cell_type": "code",
   "execution_count": 165,
   "id": "0e1f1458-e91b-4ee1-a52e-b507e5f85c54",
   "metadata": {},
   "outputs": [
    {
     "data": {
      "text/plain": [
       "55"
      ]
     },
     "execution_count": 165,
     "metadata": {},
     "output_type": "execute_result"
    }
   ],
   "source": [
    "def downsm(n):\n",
    "    if n == 1:  \n",
    "        return 1\n",
    "    return n + sm(n - 1)\n",
    "\n",
    "downsm(10)"
   ]
  },
  {
   "cell_type": "code",
   "execution_count": 168,
   "id": "7bbf7362-acaf-4a34-a0a1-1c032e1eb4be",
   "metadata": {},
   "outputs": [
    {
     "data": {
      "text/plain": [
       "55"
      ]
     },
     "execution_count": 168,
     "metadata": {},
     "output_type": "execute_result"
    }
   ],
   "source": [
    "def upsm(m,n):\n",
    "    if n == m:\n",
    "        return n\n",
    "    return m + upsm(m +1, n) \n",
    "\n",
    "upsm(0,10)"
   ]
  },
  {
   "cell_type": "code",
   "execution_count": 203,
   "id": "5a8ab41e-d3f0-4457-9b04-499e02395ddb",
   "metadata": {},
   "outputs": [
    {
     "data": {
      "text/plain": [
       "'0'"
      ]
     },
     "execution_count": 203,
     "metadata": {},
     "output_type": "execute_result"
    }
   ],
   "source": [
    "def kth(n, k = 1, s = '0'):\n",
    "    if n == 1:\n",
    "        return s[k - 1]\n",
    "    ns = '' \n",
    "    for i in range(len(s)):\n",
    "        if s[i] == '0': \n",
    "            ns += '01'\n",
    "        else: \n",
    "            ns += '10'\n",
    "    return kth( n - 1, k, ns)\n",
    "    \n",
    "      \n",
    "# kth(3,4)\n",
    "# kth(4,1)\n",
    "kth(4,8)\n",
    "kth(1,1)\n",
    "    "
   ]
  },
  {
   "cell_type": "code",
   "execution_count": 214,
   "id": "0d4c8ade-9d77-4a3d-b969-f3ab2732a250",
   "metadata": {},
   "outputs": [
    {
     "data": {
      "text/plain": [
       "1"
      ]
     },
     "execution_count": 214,
     "metadata": {},
     "output_type": "execute_result"
    }
   ],
   "source": [
    "def kth_sym(n,k):\n",
    "    if n == 1:\n",
    "        return 0\n",
    "    ln = 2**(n-1) \n",
    "    mid = ln // 2\n",
    "    if k <= mid:\n",
    "        return kth_sym(n-1,k)\n",
    "    else:\n",
    "        return  int(not kth_sym(n-1, k - mid))\n",
    "\n",
    "kth_sym(4,8)"
   ]
  },
  {
   "cell_type": "code",
   "execution_count": 248,
   "id": "d2bc99d4-a5f6-4d32-9187-3ba3f75f02c6",
   "metadata": {},
   "outputs": [
    {
     "name": "stdout",
     "output_type": "stream",
     "text": [
      "['Batman', 'Superman']\n",
      "Batman attacks Superman\n",
      "attack force: 11\n",
      "block force: 14\n",
      "3\n",
      "Superman blocked attack!\n",
      "['Superman', 'Batman']\n",
      "Superman attacks Batman\n",
      "attack force: 13\n",
      "block force: 27\n",
      "14\n",
      "Batman blocked attack!\n",
      "['Batman', 'Superman']\n",
      "Batman attacks Superman\n",
      "attack force: 19\n",
      "block force: 22\n",
      "3\n",
      "Superman blocked attack!\n",
      "['Superman', 'Batman']\n",
      "Superman attacks Batman\n",
      "attack force: 9\n",
      "block force: 34\n",
      "25\n",
      "Batman blocked attack!\n",
      "['Batman', 'Superman']\n",
      "Batman attacks Superman\n",
      "attack force: 19\n",
      "block force: 36\n",
      "17\n",
      "Superman blocked attack!\n",
      "['Superman', 'Batman']\n",
      "Superman attacks Batman\n",
      "attack force: 20\n",
      "block force: 32\n",
      "12\n",
      "Batman blocked attack!\n",
      "['Batman', 'Superman']\n",
      "Batman attacks Superman\n",
      "attack force: 21\n",
      "block force: 16\n",
      "-5\n",
      "Superman lost\n",
      "Game Over\n"
     ]
    }
   ],
   "source": [
    "import random\n",
    "import math\n",
    "\n",
    "class Warrior:\n",
    "    def __init__(self, name=\"Warrior\", health=0, att_max=0, block_max=0):\n",
    "        self.name = name\n",
    "        self.health = health\n",
    "        self.att_max = att_max\n",
    "        self.block_max = block_max\n",
    "\n",
    "    def attack(self):\n",
    "        return int(self.att_max * (random.random() + .5))\n",
    "\n",
    "    def block(self): \n",
    "        return int(self.block_max * (random.random() + .5))\n",
    "\n",
    "# Utility Class - no instantiation \n",
    "class Battle:\n",
    "    def start_fight(self, w1,w2):\n",
    "        wrs = [w1,w2]\n",
    "        random.shuffle(wrs)\n",
    "        ar, br = wrs\n",
    "        while True:\n",
    "            print([ar.name, br.name])\n",
    "            print(\"{} attacks {}\".format(ar.name,br.name))\n",
    "            remaining =  self.attack_result(ar,br) \n",
    "            print(remaining)\n",
    "            if remaining < 1:\n",
    "                  print(\"{} lost\".format(br.name)) \n",
    "                  print(\"Game Over\") \n",
    "                  break\n",
    "            else:\n",
    "                print(\"{} blocked attack!\".format(br.name))\n",
    "                ar, br = br, ar\n",
    "                \n",
    "    def attack_result(self, ar, br):\n",
    "         attack = br.attack()\n",
    "         block = br.block()\n",
    "         print(\"attack force:\", attack)\n",
    "         print(\"block force:\", block)\n",
    "         return  block - attack\n",
    "         \n",
    "         \n",
    "def main():\n",
    "    w1 = Warrior(\"Batman\", 100, 15, 25)\n",
    "    w2 = Warrior(\"Superman\", 100, 15, 25)\n",
    "    battle = Battle()\n",
    "    battle.start_fight(w1,w2)\n",
    "\n",
    "main()"
   ]
  },
  {
   "cell_type": "code",
   "execution_count": 232,
   "id": "1dec876f-a69c-4340-86b2-c400e93aae59",
   "metadata": {},
   "outputs": [
    {
     "name": "stdout",
     "output_type": "stream",
     "text": [
      "[2, 1]\n"
     ]
    }
   ],
   "source": [
    "import random\n",
    "\n",
    "w = [1,2]\n",
    "random.shuffle(w)\n",
    "print(w)"
   ]
  },
  {
   "cell_type": "code",
   "execution_count": 277,
   "id": "3201f023-d585-4ef3-bdec-2100ddab7b28",
   "metadata": {},
   "outputs": [
    {
     "name": "stdout",
     "output_type": "stream",
     "text": [
      "Animals\n",
      "Type: mouse, Blooded: None\n",
      "Type: bear, Blooded: warm Nursed: True\n"
     ]
    }
   ],
   "source": [
    "class Animal:\n",
    "    def __init__(self, \n",
    "                 an_type=\"None\", \n",
    "                 blooded=\"None\"):\n",
    "        self._an_type = an_type\n",
    "        self._blooded = blooded\n",
    "\n",
    "    @property\n",
    "    def an_type(self):\n",
    "        return self._an_type\n",
    "        \n",
    "    @an_type.setter\n",
    "    def an_type(self, val):\n",
    "        self._an_type = val\n",
    "\n",
    "    @property\n",
    "    def blooded(self):\n",
    "        return self._blooded \n",
    "\n",
    "    @blooded.setter\n",
    "    def blooded(self, val):\n",
    "        self._blooded = val\n",
    "\n",
    "    def __str__(self):\n",
    "        return \"Type: {}, Blooded: {}\".format(self.an_type, self.blooded)\n",
    "\n",
    "class Mamal(Animal):\n",
    "    def __init__(self, an_type=\"None\", blooded=\"None\", nursed=True):\n",
    "        super().__init__(an_type, blooded)\n",
    "        self._nursed = nursed\n",
    "\n",
    "    @property\n",
    "    def nursed(self):\n",
    "        return self._nursed \n",
    "     \n",
    "    @nursed.setter\n",
    "    def nursed(self, val):\n",
    "        self._nursed = val\n",
    "     \n",
    "    def __str__(self): \n",
    "        return super().__str__() + \" Nursed: {}\".format(self.nursed)\n",
    "\n",
    "def main():\n",
    "    print(\"Animals\")\n",
    "    a1 = Animal(\"mouse\")\n",
    "    print (a1)\n",
    "    m1 = Mamal(\"bear\", \"warm\", True)\n",
    "    # print(m1.an_type)\n",
    "    # print(m1.blooded)\n",
    "    # print(m1.nursed)\n",
    "    print(m1)\n",
    "\n",
    "\n",
    "main()\n",
    "  "
   ]
  },
  {
   "cell_type": "code",
   "execution_count": 281,
   "id": "02bf1bfd-569e-4131-a357-e7f39e99773c",
   "metadata": {},
   "outputs": [
    {
     "data": {
      "text/plain": [
       "list"
      ]
     },
     "execution_count": 281,
     "metadata": {},
     "output_type": "execute_result"
    }
   ],
   "source": [
    "a = [1,2]\n",
    "b =  [0, 4]\n",
    "type(a)\n"
   ]
  },
  {
   "cell_type": "code",
   "execution_count": 287,
   "id": "4c43fafc-40cd-41dc-ae9f-bc75b3c77a24",
   "metadata": {},
   "outputs": [
    {
     "data": {
      "text/plain": [
       "int"
      ]
     },
     "execution_count": 287,
     "metadata": {},
     "output_type": "execute_result"
    }
   ],
   "source": [
    " b > a\n",
    "type(id(b))"
   ]
  },
  {
   "cell_type": "code",
   "execution_count": 293,
   "id": "c9a90bf5-4a0b-44a1-bfbd-e3df203081a7",
   "metadata": {},
   "outputs": [
    {
     "data": {
      "text/plain": [
       "[0, 3, 6, 9, 12, 15, 18]"
      ]
     },
     "execution_count": 293,
     "metadata": {},
     "output_type": "execute_result"
    }
   ],
   "source": [
    "l = [i for i in range(19)]\n",
    "l[::3]\n",
    "\n"
   ]
  },
  {
   "cell_type": "code",
   "execution_count": 294,
   "id": "65d30bed-c6ae-4d03-ab16-105566f25ce0",
   "metadata": {},
   "outputs": [
    {
     "data": {
      "text/plain": [
       "(5, 4, 3, 2, 1)"
      ]
     },
     "execution_count": 294,
     "metadata": {},
     "output_type": "execute_result"
    }
   ],
   "source": [
    "t = 1,2,3,4,5\n",
    "t[::-1]"
   ]
  },
  {
   "cell_type": "code",
   "execution_count": 299,
   "id": "059d2da7-150e-489b-b34c-c055ef93cf76",
   "metadata": {},
   "outputs": [
    {
     "data": {
      "text/plain": [
       "[1, 5, 7, 9, 11, 13, 15, 17]"
      ]
     },
     "execution_count": 299,
     "metadata": {},
     "output_type": "execute_result"
    }
   ],
   "source": [
    "s = 'racecar'\n",
    "s == s[::-1]\n",
    "del l[::2]\n",
    "l"
   ]
  },
  {
   "cell_type": "code",
   "execution_count": 303,
   "id": "bfaf84be-7d58-453c-9cbb-e6a7be6b3564",
   "metadata": {},
   "outputs": [
    {
     "data": {
      "text/plain": [
       "[1, 5, 7, 9, 11, 13, 15, 17, '2', 2, 2, 'c', 'a', 'r', 2, 'c', 'a', 'r']"
      ]
     },
     "execution_count": 303,
     "metadata": {},
     "output_type": "execute_result"
    }
   ],
   "source": [
    "l.append(2)\n",
    "l\n",
    "l.extend('car')\n",
    "l"
   ]
  },
  {
   "cell_type": "code",
   "execution_count": 304,
   "id": "d9ab9be8-52f8-4245-8a36-bf7cf70e39aa",
   "metadata": {},
   "outputs": [
    {
     "data": {
      "text/plain": [
       "['s', 'o', 'm', 'e']"
      ]
     },
     "execution_count": 304,
     "metadata": {},
     "output_type": "execute_result"
    }
   ],
   "source": [
    "s = 'some'\n",
    "ls = list(s)\n",
    "ls"
   ]
  },
  {
   "cell_type": "code",
   "execution_count": 350,
   "id": "ac4ba03b-ca02-48cf-bf1d-c111b4ef6c12",
   "metadata": {},
   "outputs": [
    {
     "data": {
      "text/plain": [
       "[2, 3]"
      ]
     },
     "execution_count": 350,
     "metadata": {},
     "output_type": "execute_result"
    }
   ],
   "source": [
    "# sets\n",
    "st = {'a','b','c'}\n",
    "ds = {'a','b'}\n",
    "st.add('d')\n",
    "st.difference(ds) # st - ds\n",
    "ds.difference(st) # ds - st\n",
    "set() # empty set\n",
    "ds.union(st) == st.union(ds) # adds sets\n",
    "ds.intersection(st)  # mutual elements\n",
    "'a' in ds \n",
    "\n",
    "# for i in ds: print(i);\n",
    "    \n",
    "# list comprehesions\n",
    "nl = [i for i in range(10)]\n",
    "nl2 = [i * 2 for i in [1,2,3]]\n",
    "[  s for s in ['sam','sally','bbo'] if s.startswith('s') ]\n",
    "\n",
    "# dictionary\n",
    "dct = {'r': 24, 'b': 30} \n",
    "dct['r'] = 44\n",
    "dct['z'] = 99\n",
    "dct[3] = 'b'\n",
    "'r' in dct # True - only keys\n",
    "# for k in dct:   # iterate over keys\n",
    "#    print(k,dct[k])\n",
    "\n",
    "# for k,v in dct.items(): # prints both keys and values\n",
    "#    print(k, v)\n",
    "\n",
    "dct.values() # to get only values\n",
    "\n",
    "# descructuring\n",
    "x,y = 3,4 # tuples\n",
    "x,y = [3,4]  # lists\n",
    "x, y,z = {3,4,'b'} # sets\n",
    "x, y = {1: 'a',2:'b'}\n",
    "type(x), y\n",
    "\n",
    "# for i in {1: 'a',2:'b'}.items():  print(i) # prints (1,'a') ..\n",
    "    \n",
    "x, _, y = (1,2,3) \n",
    "h, *t = (1,2,3)\n",
    "h, *t = [1,2,3]"
   ]
  },
  {
   "cell_type": "code",
   "execution_count": 417,
   "id": "67f16070-7394-49db-bee9-eb668f393326",
   "metadata": {},
   "outputs": [
    {
     "name": "stdout",
     "output_type": "stream",
     "text": [
      "1\n",
      "2 3\n"
     ]
    }
   ],
   "source": [
    "# sets\n",
    "st = {'a','b','c'}\n",
    "ds = {'a','b'}\n",
    "st.add('d')\n",
    "st.difference(ds) # st - ds\n",
    "ds.difference(st) # ds - st\n",
    "set() # empty set\n",
    "ds.union(st) == st.union(ds) # adds sets\n",
    "ds.intersection(st)  # mutual elements\n",
    "'a' in ds \n",
    "\n",
    "# for i in ds: print(i);\n",
    "    \n",
    "# list comprehesions\n",
    "nl = [i for i in range(10)]\n",
    "nl2 = [i * 2 for i in [1,2,3]]\n",
    "[  s for s in ['sam','sally','bbo'] if s.startswith('s') ]\n",
    "\n",
    "# dictionary\n",
    "dct = {'r': 24, 'b': 30} \n",
    "dct['r'] = 44\n",
    "dct['z'] = 99\n",
    "dct[3] = 'b'\n",
    "'r' in dct # True - only keys\n",
    "# for k in dct:   # iterate over keys\n",
    "#    print(k,dct[k])\n",
    "\n",
    "# for k,v in dct.items(): # prints both keys and values\n",
    "#    print(k, v)\n",
    "\n",
    "dct.values() # to get only values\n",
    "\n",
    "# descructuring\n",
    "x,y = 3,4 # tuples\n",
    "x,y = [3,4]  # lists\n",
    "x, y,z = {3,4,'b'} # sets\n",
    "x, y = {1: 'a',2:'b'}\n",
    "type(x), y\n",
    "\n",
    "# for i in {1: 'a',2:'b'}.items():  print(i) # prints (1,'a') ..\n",
    "    \n",
    "x, _, y = (1,2,3) \n",
    "h, *t = (1,2,3)\n",
    "h, *t = [1,2,3]\n",
    "*h, t = [1,2,3]\n",
    "h, *t, z = [1,2,3,4]\n",
    "print(*t)"
   ]
  },
  {
   "cell_type": "code",
   "execution_count": 384,
   "id": "a70e383f-1d58-4be7-9713-572ff9555c99",
   "metadata": {},
   "outputs": [
    {
     "data": {
      "text/plain": [
       "{'bob': (22, 'pass'), 'foo': (33, 'pass2')}"
      ]
     },
     "execution_count": 384,
     "metadata": {},
     "output_type": "execute_result"
    }
   ],
   "source": [
    "# functions\n",
    "\n",
    "def hello(first, last):\n",
    "    ...\n",
    "\n",
    "hello(last='bob',first='joe') # named/keyword arguments - not positional - no spaces between expressions\n",
    "hello('joe',last='all') # positional args before named args\n",
    "\n",
    "# default params\n",
    "\n",
    "def add(x,y=8):\n",
    "    pass # positionsal args comes first\n",
    "\n",
    "add(5)  # y is not required  \n",
    "\n",
    "# Lambda functions\n",
    "\n",
    "add = lambda x,y: x + y\n",
    "(lambda x,y: x + y)(5,7)\n",
    "\n",
    "def double(x):\n",
    "    return x * 2\n",
    "\n",
    "nums = [i for i in range(9)]\n",
    "res = [ x * 2 for x in nums] \n",
    "res = [double(x) for x in nums]\n",
    "res = list(map(double,nums))\n",
    "res = list(map(lambda x: x * 2,nums))\n",
    "\n",
    "# dictionary comprehensions\n",
    "\n",
    "users = [\n",
    "    ('bob',22, 'pass'),\n",
    "    ('foo',33, 'pass2')  ]\n",
    "\n",
    "{u[0]: u[1:] for u in users} # {'bob': (22, 'pass'), 'foo': (33, 'pass2')}\n"
   ]
  },
  {
   "cell_type": "code",
   "execution_count": 409,
   "id": "442340b4-fe81-4102-a1d9-1933663e25af",
   "metadata": {},
   "outputs": [
    {
     "name": "stdout",
     "output_type": "stream",
     "text": [
      "(3, 2, 4)\n",
      "(1, 2, 3)\n"
     ]
    },
    {
     "data": {
      "text/plain": [
       "6"
      ]
     },
     "execution_count": 409,
     "metadata": {},
     "output_type": "execute_result"
    }
   ],
   "source": [
    "\n",
    "# multiple args\n",
    "\n",
    "def mul(*args): # converts arguments into a tuple\n",
    "    print(args)\n",
    "    res = 1\n",
    "    for arg in args:\n",
    "        res *= arg\n",
    "    return res\n",
    "\n",
    "\n",
    "mul(3,2,4)\n",
    "\n",
    "def multp(args):\n",
    "    res = 1\n",
    "    for arg in args:\n",
    "        res *= arg\n",
    "    return res\n",
    "\n",
    "# \n",
    "def add(x,y):   \n",
    "    return x + y\n",
    "\n",
    "nums = [3,5]\n",
    "add(*nums)\n",
    "\n",
    "# \n",
    "\n",
    "def add(x,y):\n",
    "    return x + y\n",
    "\n",
    "nums = {'x': 10, 'y':20}\n",
    "res = add(**nums)\n",
    "\n",
    "def apply(*args, op):\n",
    "    print(args)\n",
    "    if op == '*':\n",
    "        return multp(args)\n",
    "    elif op == '+':\n",
    "        return add(args)\n",
    "    else:\n",
    "        return \"not a vaild operator\" \n",
    "        \n",
    "res =  apply(1,2,3, op='*')\n",
    "res"
   ]
  },
  {
   "cell_type": "code",
   "execution_count": 415,
   "id": "5a24eec8-35b2-4c51-8d8a-3097a6614af9",
   "metadata": {},
   "outputs": [
    {
     "name": "stdout",
     "output_type": "stream",
     "text": [
      "{'name': 'bar', 'age': 99}\n",
      "{'name': 'bar', 'age': 99}\n",
      "{'name': 'bob', 'age': 99}\n",
      "name: bob\n",
      "age: 99\n"
     ]
    }
   ],
   "source": [
    "# unpacking keyword arguments\n",
    "\n",
    "def named(**kwargs):\n",
    "    print(kwargs)  #  {'name': 'bar', 'age': 99}\n",
    "    \n",
    "p = {'name': 'bar', 'age': 99}\n",
    "named(**p)\n",
    "named(name='bar',age=99)\n",
    "\n",
    "def print_nicely(**kwargs):\n",
    "    named(**kwargs)\n",
    "    for arg, value in kwargs.items():\n",
    "        print(f\"{arg}: {value}\")\n",
    "\n",
    "print_nicely(name='bob', age=99)\n",
    "    "
   ]
  },
  {
   "cell_type": "code",
   "execution_count": 416,
   "id": "6183bea1-d9c2-422e-965e-b37ef11b9996",
   "metadata": {},
   "outputs": [
    {
     "name": "stdout",
     "output_type": "stream",
     "text": [
      "(1, 3, 5)\n",
      "{'name': 'bob', 'age': 99}\n"
     ]
    }
   ],
   "source": [
    "def both(*args, **kwargs):\n",
    "    print(args)\n",
    "    print(kwargs)\n",
    "\n",
    "\n",
    "both(1, 3, 5, name='bob', age=99)\n",
    "    "
   ]
  },
  {
   "cell_type": "code",
   "execution_count": 430,
   "id": "d95fee66-02a7-4f36-bb24-5474a8ea3ef0",
   "metadata": {},
   "outputs": [
    {
     "data": {
      "text/plain": [
       "{'name': 'joe', 'grades': (89, 90, 90, 89)}"
      ]
     },
     "execution_count": 430,
     "metadata": {},
     "output_type": "execute_result"
    }
   ],
   "source": [
    "# object oriented programming\n",
    "student = {'name': 'joe', 'grades': (89,90,90,89)}\n",
    "student"
   ]
  },
  {
   "cell_type": "code",
   "execution_count": 435,
   "id": "e4fc8573-ca34-4ebf-abc4-f791df940889",
   "metadata": {},
   "outputs": [
    {
     "data": {
      "text/plain": [
       "30.0"
      ]
     },
     "execution_count": 435,
     "metadata": {},
     "output_type": "execute_result"
    }
   ],
   "source": [
    "class Student:\n",
    "    def __init__(self, name, grades):\n",
    "        self.grades = grades\n",
    "        self.name = name\n",
    "\n",
    "    def average_grade(self):\n",
    "        return sum(self.grades)/ len(self.grades)\n",
    "        \n",
    "student = Student('rolf', (20,30,40))\n",
    "Student.average_grade(student)\n",
    "student.average_grade()\n",
    "     "
   ]
  },
  {
   "cell_type": "code",
   "execution_count": 443,
   "id": "17decb3a-0a83-4a97-a63b-1306ead03791",
   "metadata": {},
   "outputs": [
    {
     "name": "stdout",
     "output_type": "stream",
     "text": [
      "None\n"
     ]
    }
   ],
   "source": [
    "# Magic Methods\n",
    "class Person:\n",
    "    def __init__(self, name, age):\n",
    "        self.name = name\n",
    "        self.age = age\n",
    "\n",
    "    def __str__(self):\n",
    "        return f\"Person {self.name}, {self.age} years old.\"\n",
    "\n",
    "    def __repr__(self):\n",
    "        return f\"<Pereson({self.name}, {self.age})>\"\n",
    "\n",
    "\n",
    "\n",
    "bob = Person('bob', 34)\n",
    "print(bob)\n",
    "        "
   ]
  },
  {
   "cell_type": "code",
   "execution_count": 453,
   "id": "43d8a9e6-a841-49bc-97bf-5fdb9a2aebd6",
   "metadata": {},
   "outputs": [
    {
     "name": "stdout",
     "output_type": "stream",
     "text": [
      "Called ins_method of <__main__.MetTest object at 0x76d1842f4590>\n",
      "Called class method of <class '__main__.MetTest'>\n",
      "Called class method of <class '__main__.MetTest'>\n",
      "Called static method\n",
      "Called static method\n"
     ]
    }
   ],
   "source": [
    "# Static and class methods\n",
    "\n",
    "class MetTest:\n",
    "    def ins_method(self):\n",
    "        print(f\"Called ins_method of {self}\")\n",
    "\n",
    "    @classmethod         # used for factories\n",
    "    def class_method(cls):\n",
    "        print(f\"Called class method of {cls}\")\n",
    "\n",
    "\n",
    "    @staticmethod          \n",
    "    def static_method():\n",
    "        print(\"Called static method\")\n",
    "    \n",
    "test = MetTest()\n",
    "test.ins_method()\n",
    "test.class_method()\n",
    "MetTest.class_method()  \n",
    "MetTest.static_method()\n",
    "test.static_method()"
   ]
  },
  {
   "cell_type": "code",
   "execution_count": 465,
   "id": "7194c1cb-93cf-4b38-a185-7095b9fc34f8",
   "metadata": {},
   "outputs": [
    {
     "name": "stdout",
     "output_type": "stream",
     "text": [
      "<Book SCIP, hardcover, 200>\n"
     ]
    }
   ],
   "source": [
    "# Class properties\n",
    "class Book:\n",
    "    TYPES = 'hardcover', 'paperback'\n",
    "\n",
    "    def __init__(self, name, book_type, weight):\n",
    "        self.name = name\n",
    "        self.book_type = book_type\n",
    "        self.weight = weight\n",
    "\n",
    "    def __repr__(self):\n",
    "        return f\"<Book {self.name}, {self.book_type}, {self.weight}>\"\n",
    "\n",
    "    @classmethod \n",
    "    def hardcover(cls, name, weight):\n",
    "        return Book(name, Book.TYPES[0], weight + 100)\n",
    "\n",
    "book = Book.hardcover('SCIP', 100)\n",
    "print(book)"
   ]
  },
  {
   "cell_type": "code",
   "execution_count": 478,
   "id": "975499d2-f3ec-4d3c-beb6-f9877bb36e09",
   "metadata": {},
   "outputs": [
    {
     "name": "stdout",
     "output_type": "stream",
     "text": [
      "Device 'Printer' (usb) (100 pages remaining)\n",
      "printing\n"
     ]
    }
   ],
   "source": [
    "# Class inheritance\n",
    "# is-a relationship printer is a device\n",
    "class Device:\n",
    "    def __init__(self, name, connected_by):\n",
    "        self.name = name\n",
    "        self.connected_by = connected_by\n",
    "        self.connected = True\n",
    "\n",
    "    def __str__(self):\n",
    "        return f\"Device {self.name!r} ({self.connected_by})\"\n",
    "    \n",
    "    def  disconnect(self):\n",
    "        self.connected = False\n",
    "        print(\"Disconnected.\")\n",
    "\n",
    "class Printer(Device):\n",
    "    def __init__(self, name, connected_by, capacity):\n",
    "        super().__init__(name, connected_by)\n",
    "        self.capacity = capacity\n",
    "        self.remaining_pages = capacity\n",
    "\n",
    "\n",
    "    def __str__(self):\n",
    "        return f\"{super().__str__()} ({self.remaining_pages} pages remaining)\"\n",
    "\n",
    "    def print(self, pages):\n",
    "        if not self.connected:\n",
    "            return f\"printer is not connected\"\n",
    "        if self.capacity > pages: \n",
    "             self.remaining_pages -= pages\n",
    "             return f\"printing\"\n",
    "        return f\"not enogh capacity\" \n",
    "         \n",
    "\n",
    "\n",
    "printer = Printer('Printer', 'usb', 100)\n",
    "print(printer)\n",
    "print(printer.print(20))\n"
   ]
  },
  {
   "cell_type": "code",
   "execution_count": 483,
   "id": "45f524ed-beba-474d-a923-2cd8accb14da",
   "metadata": {},
   "outputs": [
    {
     "name": "stdout",
     "output_type": "stream",
     "text": [
      "(potter, snow)\n"
     ]
    }
   ],
   "source": [
    "# Class composition\n",
    "# has-a relationship : bookshelf has books\n",
    "class BookShelf:\n",
    "    def __init__(self, *books):\n",
    "        self.books = books\n",
    "\n",
    "\n",
    "    def __str__(self):\n",
    "        return f\"Bookself with {len(self.books)} books.\"\n",
    "\n",
    "class Book:\n",
    "    def __init__(self, name):\n",
    "        self.name = name\n",
    "\n",
    "    def __str__(self):\n",
    "        return f\"{self.name}\"\n",
    "\n",
    "    def __repr__(self):\n",
    "        return f\"{self.name}\"\n",
    "        \n",
    "b1 = Book('potter')\n",
    "b2 = Book('snow')\n",
    "\n",
    "shelf = BookShelf(b1,b2)\n",
    "print(shelf.books) #  (potter, snow)"
   ]
  },
  {
   "cell_type": "code",
   "execution_count": null,
   "id": "68e740dc-a80a-4bef-aa8e-57e1c4c8b9a6",
   "metadata": {},
   "outputs": [],
   "source": [
    "# Type hinting\n",
    "\n",
    "from typing import List\n",
    "\n",
    "def list_avg(seq: List) -> float:\n",
    "    return sum(seq) / len(seq)\n",
    "\n",
    "class BookShelf:\n",
    "    def __init__(self, books: List[Book]\n",
    "\n",
    "    def __str__(self) -> str: \n",
    "   \n"
   ]
  },
  {
   "cell_type": "code",
   "execution_count": 485,
   "id": "1f9c4694-f5ec-4f62-91c3-eeb3fdec8eef",
   "metadata": {},
   "outputs": [
    {
     "name": "stdout",
     "output_type": "stream",
     "text": [
      "my_module.py:  __main__\n"
     ]
    }
   ],
   "source": [
    "# importing \n",
    "\n",
    "# in mymodule.py\n",
    "\n",
    "def divide(dividend, divisor):\n",
    "    return divident / divisor\n",
    "\n",
    "print(\"mymodule.py: \", __name__)\n",
    "\n",
    "# within another file\n",
    "\n",
    "from mymodule import divide\n",
    "\n",
    "divide(10,2)"
   ]
  },
  {
   "cell_type": "code",
   "execution_count": 486,
   "id": "15cf1fc4-eb44-411c-b5d9-e9c059a6e1a3",
   "metadata": {},
   "outputs": [
    {
     "name": "stdout",
     "output_type": "stream",
     "text": [
      "['/home/avsar/.asdf/installs/python/3.13.0/lib/python313.zip', '/home/avsar/.asdf/installs/python/3.13.0/lib/python3.13', '/home/avsar/.asdf/installs/python/3.13.0/lib/python3.13/lib-dynload', '', '/home/avsar/.asdf/installs/python/3.13.0/lib/python3.13/site-packages']\n"
     ]
    }
   ],
   "source": [
    "# finding current python paths\n",
    "import sys\n",
    "\n",
    "print(sys.path)"
   ]
  },
  {
   "cell_type": "code",
   "execution_count": null,
   "id": "bb591783-dc3c-4b47-b464-4336932628ea",
   "metadata": {},
   "outputs": [],
   "source": [
    "# absolute path importing \n",
    "from operations.libs import divide\n",
    "# relative path importing\n",
    "# avoid using it\n",
    "from .libs import divide"
   ]
  },
  {
   "cell_type": "code",
   "execution_count": null,
   "id": "506db097-eb49-4663-aae7-b066214c7c2d",
   "metadata": {},
   "outputs": [],
   "source": [
    "# errors/exceptions in python\n",
    "if divisor == 0:\n",
    "    raise ZeroDivisionError('Divisor cannot be 0.')\n"
   ]
  },
  {
   "cell_type": "code",
   "execution_count": 498,
   "id": "da914f38-3b76-47f2-8909-86ef7a956b2b",
   "metadata": {},
   "outputs": [
    {
     "name": "stdout",
     "output_type": "stream",
     "text": [
      "Divisor cannot be 0.\n",
      "division error \n",
      "done\n"
     ]
    }
   ],
   "source": [
    "def div(n1,n2):\n",
    "    if n2 == 0: \n",
    "        raise ZeroDivisionError('Divisor cannot be 0.')\n",
    "    return n1/n2 \n",
    "        \n",
    "try:\n",
    "    resp =div(3,0)\n",
    "except ZeroDivisionError as e:\n",
    "    print(e)\n",
    "    print(\"division error \")\n",
    "else: \n",
    "    print(resp)\n",
    "finally:\n",
    "    print(\"done\")"
   ]
  },
  {
   "cell_type": "code",
   "execution_count": 502,
   "id": "2c91a617-9aec-4836-89e8-990a5af9ee81",
   "metadata": {},
   "outputs": [
    {
     "data": {
      "text/plain": [
       "100"
      ]
     },
     "execution_count": 502,
     "metadata": {},
     "output_type": "execute_result"
    }
   ],
   "source": [
    "# custom execption classes\n",
    "class TooManyPagesReadError(ValueError):\n",
    "    pass\n",
    "\n",
    "def read(pages: int, pages_read: int):\n",
    "    if pages_read > pages:\n",
    "        raise TooManyPagesReadError(\"More pages than available\")\n",
    "    return pages - pages_read\n",
    "\n",
    "read(300, 200)"
   ]
  },
  {
   "cell_type": "code",
   "execution_count": 504,
   "id": "1e6281ce-34c9-4713-88c0-67a4c83f77ba",
   "metadata": {},
   "outputs": [
    {
     "data": {
      "text/plain": [
       "5.0"
      ]
     },
     "execution_count": 504,
     "metadata": {},
     "output_type": "execute_result"
    }
   ],
   "source": [
    "# First class functions - functions as arguments\n",
    "\n",
    "def div(n1,n2):\n",
    "    return n1/n2\n",
    "    \n",
    "def calc(*values, op):\n",
    "    return op(*values)\n",
    "\n",
    "calc(10,2,op=div) # returns 5.0\n"
   ]
  },
  {
   "cell_type": "code",
   "execution_count": 505,
   "id": "049d83d1-1f25-46d7-8e26-8c86ed89738e",
   "metadata": {},
   "outputs": [
    {
     "data": {
      "text/plain": [
       "{'name': 'bob', 'age': 44}"
      ]
     },
     "execution_count": 505,
     "metadata": {},
     "output_type": "execute_result"
    }
   ],
   "source": [
    "def search(seq, expected, finder):\n",
    "    for elem in seq:\n",
    "        if finder(elem) == expected:\n",
    "            return elem\n",
    "    raise RuntimeError(f\"Not found {expected}\")\n",
    "\n",
    "friends = [\n",
    "    {'name': 'rofl','age': 22},\n",
    "    {'name': 'bob', 'age':44}\n",
    "]\n",
    "\n",
    "def friend_by_name(friend):\n",
    "    return friend['name']\n",
    "\n",
    "search(friends, 'bob', friend_by_name) # {'name': 'bob', 'age': 44} "
   ]
  },
  {
   "cell_type": "code",
   "execution_count": 508,
   "id": "116b7b9f-9707-4ce3-9110-0e21149f33c9",
   "metadata": {},
   "outputs": [
    {
     "name": "stdout",
     "output_type": "stream",
     "text": [
      "1234\n"
     ]
    }
   ],
   "source": [
    "# Decorators\n",
    "user = {'name':'bob', 'level': 'admin'}\n",
    "def admin_password(): \n",
    "    return '1234'\n",
    "\n",
    "def make_secure(func):  \n",
    "    def secure_function():  \n",
    "        if user['level'] == 'admin':\n",
    "            return func()\n",
    "        else:\n",
    "            return \"Not authorized\"\n",
    "\n",
    "    return secure_function\n",
    "\n",
    "admin_password = make_secure(admin_password)\n",
    "\n",
    "print(admin_password())"
   ]
  },
  {
   "cell_type": "code",
   "execution_count": 510,
   "id": "80bb9e2a-65e6-4efd-bec0-f6d8ca2cf09c",
   "metadata": {},
   "outputs": [
    {
     "name": "stdout",
     "output_type": "stream",
     "text": [
      "Not authorized\n"
     ]
    }
   ],
   "source": [
    "# Decorators with 'at' syntax\n",
    "import functools\n",
    "user = {'name':'bob', 'level': 'admin'}\n",
    "\n",
    "@make_secure\n",
    "def admin_password(): \n",
    "    return '1234'\n",
    "\n",
    "def make_secure(func):   # decorator function\n",
    "    @functools.wraps(func)\n",
    "    def secure_function():  \n",
    "        if user['level'] == 'admin':\n",
    "            return func()\n",
    "        else:\n",
    "            return \"Not authorized\"\n",
    "\n",
    "    return secure_function\n",
    "\n",
    "print(admin_password())"
   ]
  },
  {
   "cell_type": "code",
   "execution_count": 516,
   "id": "eb9098e8-1080-484b-b870-df52226eb0dc",
   "metadata": {},
   "outputs": [
    {
     "name": "stdout",
     "output_type": "stream",
     "text": [
      "5678\n"
     ]
    }
   ],
   "source": [
    "# Decorator functions with parameters\n",
    "import functools\n",
    "user = {'name':'bob', 'level': 'admin'}\n",
    "\n",
    "@make_secure\n",
    "def admin_password(panel): \n",
    "    if panel == 'admin':\n",
    "        return '1234'\n",
    "    elif panel == 'billing':\n",
    "        return '5678'\n",
    "\n",
    "def make_secure(func):   # decorator function\n",
    "    @functools.wraps(func)\n",
    "    def secure_function(*args, **kwargs):  \n",
    "        if user['level'] == 'admin':\n",
    "            return func(*args, **kwargs)\n",
    "        else:\n",
    "            return \"Not authorized\"\n",
    "\n",
    "    return secure_function\n",
    "\n",
    "print(admin_password('billing'))"
   ]
  },
  {
   "cell_type": "code",
   "execution_count": 526,
   "id": "018bdd23-4b85-4913-a09f-f88ea9ec6c08",
   "metadata": {},
   "outputs": [
    {
     "name": "stdout",
     "output_type": "stream",
     "text": [
      "Not authorize\n",
      "user: user_pass\n"
     ]
    }
   ],
   "source": [
    "# Decorator with parameters\n",
    "import functools\n",
    "user = {'name':'bob', 'level': 'admin'}\n",
    "user = {'name':'tom', 'level': 'guest'}\n",
    "user = {'name':'joe', 'level': 'user'}\n",
    "\n",
    "def make_secure(access_level):\n",
    "    def decorator(func):\n",
    "        @functools.wraps(func)\n",
    "        def secure_function(*args, **kwargs):\n",
    "            if user['level'] == access_level:\n",
    "                return func(*args, **kwargs)\n",
    "            else:\n",
    "                return f\"Not authorize\"\n",
    "        return secure_function \n",
    "    return decorator \n",
    "\n",
    "\n",
    "\n",
    "            \n",
    "@make_secure('admin')\n",
    "def admin_password():\n",
    "    return 'admin: 1234'\n",
    "    \n",
    "@make_secure('user')\n",
    "def dashboard_password():\n",
    "    return 'user: user_pass'\n",
    "\n",
    "print(admin_password())\n",
    "print(dashboard_password())"
   ]
  },
  {
   "cell_type": "code",
   "execution_count": null,
   "id": "64629662-1557-4db5-aa32-3478dff73feb",
   "metadata": {},
   "outputs": [],
   "source": [
    "# Mutable default parameters\n",
    "# do not use mutable default parameter values\n",
    "from typing import list \n",
    "\n",
    "Class Student:\n",
    "def __init__(self, grades: List[int] = []): # This is bad\n",
    "\n",
    "def __init__(self, grades: List[int] = None ): # This is better"
   ]
  },
  {
   "cell_type": "code",
   "execution_count": 37,
   "id": "94822e03-acaa-4697-973c-fe168c7208a2",
   "metadata": {},
   "outputs": [
    {
     "data": {
      "text/plain": [
       "False"
      ]
     },
     "execution_count": 37,
     "metadata": {},
     "output_type": "execute_result"
    }
   ],
   "source": [
    "# Copying Sequences\n",
    "\n",
    "# Shallow Copy - good for immutable elements\n",
    "l1 = [1,2,3]\n",
    "\n",
    "l2 = l1[:] # shallow copy - copying by slicing - different ids \n",
    "id(l2) is id(l1) # False\n",
    "\n",
    "l3 = l1.copy() # shallow copy - elements are the same - referencing the same objects\n",
    "\n",
    "# if elements are mutable, content gets changed \n",
    "\n",
    "la = [[1],[2]]\n",
    "lb = la.copy()\n",
    "lb is la  # False\n",
    "lb[0] is la[0] # True\n",
    "la[0][0]  = 99\n",
    "lb[0][0] # is also changed to 99 \n",
    "la, lb # return [[99],[2]] for both of them\n",
    "\n",
    "# Deep Copy - not a built in function\n",
    "# Good for mutable types\n",
    "\n",
    "from copy import deepcopy\n",
    "lc = deepcopy(la)\n",
    "lc,la\n",
    "lc[0] is la[0] # False"
   ]
  },
  {
   "cell_type": "code",
   "execution_count": 47,
   "id": "7dfda372-3799-4349-b9a1-0db8fd3cd5a7",
   "metadata": {},
   "outputs": [
    {
     "data": {
      "text/plain": [
       "(2, 'bc', 3.14)"
      ]
     },
     "execution_count": 47,
     "metadata": {},
     "output_type": "execute_result"
    }
   ],
   "source": [
    "# Unpacking Sequences\n",
    "rate = 5.0, 5.12\n",
    "apr, apy = rate\n",
    "\n",
    "nms = 3,4,5,8,9\n",
    "a, *c = nms\n",
    "a, *c # a = 3, c = 4,5,8,9\n",
    "type(c) # list\n",
    "a,b,c = \"Tom\"\n",
    "a, b, c # ('T', 'o', 'm')\n",
    "k, l, m = [ 1 + 1, 'abc'[1:], 3.14]\n",
    "k, l, m # (2, 'bc', 3.14)"
   ]
  },
  {
   "cell_type": "code",
   "execution_count": 48,
   "id": "5e5587ce-fc6b-4010-aab0-202cf4bed546",
   "metadata": {},
   "outputs": [
    {
     "data": {
      "text/plain": [
       "(0, 3)"
      ]
     },
     "execution_count": 48,
     "metadata": {},
     "output_type": "execute_result"
    }
   ],
   "source": [
    "# swaping two values\n",
    "a = 3\n",
    "b = 0\n",
    "a,b = b, a\n",
    "a, b # a = 0, b = 3"
   ]
  },
  {
   "cell_type": "code",
   "execution_count": 61,
   "id": "a4f53b02-4dc2-45c6-86e7-86930c6ef934",
   "metadata": {},
   "outputs": [
    {
     "data": {
      "text/plain": [
       "[0, 2, 0, 4, 0, 6, 0, 8, 0, 10, 0, 12, 13, 0, 15, 16, 0]"
      ]
     },
     "execution_count": 61,
     "metadata": {},
     "output_type": "execute_result"
    }
   ],
   "source": [
    "t1 = 1, 2, 3, 4, 5, 6\n",
    "t2 = 7, 8, 9, 10\n",
    "t3 = 11, 12, 13, 14, 15, 16, 17\n",
    "l1, l2, l3 = list(t1), list(t2), list(t3)\n",
    "l1[::2] = [0] * len(l1[::2])\n",
    "l2[::2] = [0] * len(l2[::2])\n",
    "l3[::3] = [0] * len(l3[::3])\n",
    "list(l1 +  l2 + l3)"
   ]
  },
  {
   "cell_type": "code",
   "execution_count": null,
   "id": "6bff6a21-1ce2-4422-b39b-82624e52643b",
   "metadata": {},
   "outputs": [],
   "source": []
  }
 ],
 "metadata": {
  "kernelspec": {
   "display_name": "Python 3 (ipykernel)",
   "language": "python",
   "name": "python3"
  },
  "language_info": {
   "codemirror_mode": {
    "name": "ipython",
    "version": 3
   },
   "file_extension": ".py",
   "mimetype": "text/x-python",
   "name": "python",
   "nbconvert_exporter": "python",
   "pygments_lexer": "ipython3",
   "version": "3.13.0"
  }
 },
 "nbformat": 4,
 "nbformat_minor": 5
}
